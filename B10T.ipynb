{
 "cells": [
  {
   "cell_type": "code",
   "execution_count": 1,
   "id": "86bc5cce-c20d-4936-9da5-e68aa381f4e0",
   "metadata": {},
   "outputs": [],
   "source": [
    "#Importing modules\n",
    "import os\n",
    "import mne\n",
    "import numpy as np\n",
    "import pandas as df\n",
    "from scipy.signal import butter, lfilter\n",
    "from scipy.signal import freqz\n"
   ]
  },
  {
   "cell_type": "code",
   "execution_count": 2,
   "id": "6640fbc4-4d97-4630-92d5-7fe63ee98ffc",
   "metadata": {},
   "outputs": [
    {
     "name": "stdout",
     "output_type": "stream",
     "text": [
      "Extracting EDF parameters from C:\\Users\\Lenovo\\Desktop\\JU\\2b_dataset\\B0101T.gdf...\n",
      "GDF file detected\n",
      "Setting channel info structure...\n",
      "Could not determine channel type of the following channels, they will be set as EEG:\n",
      "EEG:C3, EEG:Cz, EEG:C4\n",
      "Creating raw.info structure...\n",
      "Reading 0 ... 604802  =      0.000 ...  2419.208 secs...\n"
     ]
    },
    {
     "name": "stderr",
     "output_type": "stream",
     "text": [
      "C:\\Users\\Lenovo\\AppData\\Local\\Temp\\ipykernel_11576\\64288951.py:35: RuntimeWarning: Highpass cutoff frequency 100.0 is greater than lowpass cutoff frequency 0.5, setting values to 0 and Nyquist.\n",
      "  raw_data = mne.io.read_raw_gdf(file_path,preload=True, eog=['EOG:ch01', 'EOG:ch02', 'EOG:ch03'])\n"
     ]
    },
    {
     "name": "stdout",
     "output_type": "stream",
     "text": [
      "Extracting EDF parameters from C:\\Users\\Lenovo\\Desktop\\JU\\2b_dataset\\B0103T.gdf...\n",
      "GDF file detected\n",
      "Setting channel info structure...\n",
      "Could not determine channel type of the following channels, they will be set as EEG:\n",
      "EEG:C3, EEG:Cz, EEG:C4\n",
      "Creating raw.info structure...\n",
      "Reading 0 ... 469010  =      0.000 ...  1876.040 secs...\n"
     ]
    },
    {
     "name": "stderr",
     "output_type": "stream",
     "text": [
      "C:\\Users\\Lenovo\\AppData\\Local\\Temp\\ipykernel_11576\\64288951.py:35: RuntimeWarning: Highpass cutoff frequency 100.0 is greater than lowpass cutoff frequency 0.5, setting values to 0 and Nyquist.\n",
      "  raw_data = mne.io.read_raw_gdf(file_path,preload=True, eog=['EOG:ch01', 'EOG:ch02', 'EOG:ch03'])\n"
     ]
    },
    {
     "name": "stdout",
     "output_type": "stream",
     "text": [
      "Extracting EDF parameters from C:\\Users\\Lenovo\\Desktop\\JU\\2b_dataset\\B0201T.gdf...\n",
      "GDF file detected\n",
      "Setting channel info structure...\n",
      "Could not determine channel type of the following channels, they will be set as EEG:\n",
      "EEG:C3, EEG:Cz, EEG:C4\n",
      "Creating raw.info structure...\n",
      "Reading 0 ... 604802  =      0.000 ...  2419.208 secs...\n"
     ]
    },
    {
     "name": "stderr",
     "output_type": "stream",
     "text": [
      "C:\\Users\\Lenovo\\AppData\\Local\\Temp\\ipykernel_11576\\64288951.py:35: RuntimeWarning: Highpass cutoff frequency 100.0 is greater than lowpass cutoff frequency 0.5, setting values to 0 and Nyquist.\n",
      "  raw_data = mne.io.read_raw_gdf(file_path,preload=True, eog=['EOG:ch01', 'EOG:ch02', 'EOG:ch03'])\n"
     ]
    },
    {
     "name": "stdout",
     "output_type": "stream",
     "text": [
      "Extracting EDF parameters from C:\\Users\\Lenovo\\Desktop\\JU\\2b_dataset\\B0202T.gdf...\n",
      "GDF file detected\n",
      "Setting channel info structure...\n",
      "Could not determine channel type of the following channels, they will be set as EEG:\n",
      "EEG:C3, EEG:Cz, EEG:C4\n",
      "Creating raw.info structure...\n",
      "Reading 0 ... 604802  =      0.000 ...  2419.208 secs...\n"
     ]
    },
    {
     "name": "stderr",
     "output_type": "stream",
     "text": [
      "C:\\Users\\Lenovo\\AppData\\Local\\Temp\\ipykernel_11576\\64288951.py:35: RuntimeWarning: Highpass cutoff frequency 100.0 is greater than lowpass cutoff frequency 0.5, setting values to 0 and Nyquist.\n",
      "  raw_data = mne.io.read_raw_gdf(file_path,preload=True, eog=['EOG:ch01', 'EOG:ch02', 'EOG:ch03'])\n"
     ]
    },
    {
     "name": "stdout",
     "output_type": "stream",
     "text": [
      "Extracting EDF parameters from C:\\Users\\Lenovo\\Desktop\\JU\\2b_dataset\\B0203T.gdf...\n",
      "GDF file detected\n",
      "Setting channel info structure...\n",
      "Could not determine channel type of the following channels, they will be set as EEG:\n",
      "EEG:C3, EEG:Cz, EEG:C4\n",
      "Creating raw.info structure...\n",
      "Reading 0 ... 464154  =      0.000 ...  1856.616 secs...\n"
     ]
    },
    {
     "name": "stderr",
     "output_type": "stream",
     "text": [
      "C:\\Users\\Lenovo\\AppData\\Local\\Temp\\ipykernel_11576\\64288951.py:35: RuntimeWarning: Highpass cutoff frequency 100.0 is greater than lowpass cutoff frequency 0.5, setting values to 0 and Nyquist.\n",
      "  raw_data = mne.io.read_raw_gdf(file_path,preload=True, eog=['EOG:ch01', 'EOG:ch02', 'EOG:ch03'])\n"
     ]
    },
    {
     "name": "stdout",
     "output_type": "stream",
     "text": [
      "Extracting EDF parameters from C:\\Users\\Lenovo\\Desktop\\JU\\2b_dataset\\B0301T.gdf...\n",
      "GDF file detected\n",
      "Setting channel info structure...\n",
      "Could not determine channel type of the following channels, they will be set as EEG:\n",
      "EEG:C3, EEG:Cz, EEG:C4\n",
      "Creating raw.info structure...\n",
      "Reading 0 ... 604802  =      0.000 ...  2419.208 secs...\n"
     ]
    },
    {
     "name": "stderr",
     "output_type": "stream",
     "text": [
      "C:\\Users\\Lenovo\\AppData\\Local\\Temp\\ipykernel_11576\\64288951.py:35: RuntimeWarning: Highpass cutoff frequency 100.0 is greater than lowpass cutoff frequency 0.5, setting values to 0 and Nyquist.\n",
      "  raw_data = mne.io.read_raw_gdf(file_path,preload=True, eog=['EOG:ch01', 'EOG:ch02', 'EOG:ch03'])\n"
     ]
    },
    {
     "name": "stdout",
     "output_type": "stream",
     "text": [
      "Extracting EDF parameters from C:\\Users\\Lenovo\\Desktop\\JU\\2b_dataset\\B0302T.gdf...\n",
      "GDF file detected\n",
      "Setting channel info structure...\n",
      "Could not determine channel type of the following channels, they will be set as EEG:\n",
      "EEG:C3, EEG:Cz, EEG:C4\n",
      "Creating raw.info structure...\n",
      "Reading 0 ... 604802  =      0.000 ...  2419.208 secs...\n"
     ]
    },
    {
     "name": "stderr",
     "output_type": "stream",
     "text": [
      "C:\\Users\\Lenovo\\AppData\\Local\\Temp\\ipykernel_11576\\64288951.py:35: RuntimeWarning: Highpass cutoff frequency 100.0 is greater than lowpass cutoff frequency 0.5, setting values to 0 and Nyquist.\n",
      "  raw_data = mne.io.read_raw_gdf(file_path,preload=True, eog=['EOG:ch01', 'EOG:ch02', 'EOG:ch03'])\n"
     ]
    },
    {
     "name": "stdout",
     "output_type": "stream",
     "text": [
      "Extracting EDF parameters from C:\\Users\\Lenovo\\Desktop\\JU\\2b_dataset\\B0303T.gdf...\n",
      "GDF file detected\n",
      "Setting channel info structure...\n",
      "Could not determine channel type of the following channels, they will be set as EEG:\n",
      "EEG:C3, EEG:Cz, EEG:C4\n",
      "Creating raw.info structure...\n",
      "Reading 0 ... 464674  =      0.000 ...  1858.696 secs...\n"
     ]
    },
    {
     "name": "stderr",
     "output_type": "stream",
     "text": [
      "C:\\Users\\Lenovo\\AppData\\Local\\Temp\\ipykernel_11576\\64288951.py:35: RuntimeWarning: Highpass cutoff frequency 100.0 is greater than lowpass cutoff frequency 0.5, setting values to 0 and Nyquist.\n",
      "  raw_data = mne.io.read_raw_gdf(file_path,preload=True, eog=['EOG:ch01', 'EOG:ch02', 'EOG:ch03'])\n"
     ]
    },
    {
     "name": "stdout",
     "output_type": "stream",
     "text": [
      "Extracting EDF parameters from C:\\Users\\Lenovo\\Desktop\\JU\\2b_dataset\\B0401T.gdf...\n",
      "GDF file detected\n",
      "Setting channel info structure...\n",
      "Could not determine channel type of the following channels, they will be set as EEG:\n",
      "EEG:C3, EEG:Cz, EEG:C4\n",
      "Creating raw.info structure...\n",
      "Reading 0 ... 604802  =      0.000 ...  2419.208 secs...\n"
     ]
    },
    {
     "name": "stderr",
     "output_type": "stream",
     "text": [
      "C:\\Users\\Lenovo\\AppData\\Local\\Temp\\ipykernel_11576\\64288951.py:35: RuntimeWarning: Highpass cutoff frequency 100.0 is greater than lowpass cutoff frequency 0.5, setting values to 0 and Nyquist.\n",
      "  raw_data = mne.io.read_raw_gdf(file_path,preload=True, eog=['EOG:ch01', 'EOG:ch02', 'EOG:ch03'])\n"
     ]
    },
    {
     "name": "stdout",
     "output_type": "stream",
     "text": [
      "Extracting EDF parameters from C:\\Users\\Lenovo\\Desktop\\JU\\2b_dataset\\B0402T.gdf...\n",
      "GDF file detected\n",
      "Setting channel info structure...\n",
      "Could not determine channel type of the following channels, they will be set as EEG:\n",
      "EEG:C3, EEG:Cz, EEG:C4\n",
      "Creating raw.info structure...\n",
      "Reading 0 ... 696265  =      0.000 ...  2785.060 secs...\n"
     ]
    },
    {
     "name": "stderr",
     "output_type": "stream",
     "text": [
      "C:\\Users\\Lenovo\\AppData\\Local\\Temp\\ipykernel_11576\\64288951.py:35: RuntimeWarning: Highpass cutoff frequency 100.0 is greater than lowpass cutoff frequency 0.5, setting values to 0 and Nyquist.\n",
      "  raw_data = mne.io.read_raw_gdf(file_path,preload=True, eog=['EOG:ch01', 'EOG:ch02', 'EOG:ch03'])\n"
     ]
    },
    {
     "name": "stdout",
     "output_type": "stream",
     "text": [
      "Extracting EDF parameters from C:\\Users\\Lenovo\\Desktop\\JU\\2b_dataset\\B0403T.gdf...\n",
      "GDF file detected\n",
      "Setting channel info structure...\n",
      "Could not determine channel type of the following channels, they will be set as EEG:\n",
      "EEG:C3, EEG:Cz, EEG:C4\n",
      "Creating raw.info structure...\n",
      "Reading 0 ... 468558  =      0.000 ...  1874.232 secs...\n"
     ]
    },
    {
     "name": "stderr",
     "output_type": "stream",
     "text": [
      "C:\\Users\\Lenovo\\AppData\\Local\\Temp\\ipykernel_11576\\64288951.py:35: RuntimeWarning: Highpass cutoff frequency 100.0 is greater than lowpass cutoff frequency 0.5, setting values to 0 and Nyquist.\n",
      "  raw_data = mne.io.read_raw_gdf(file_path,preload=True, eog=['EOG:ch01', 'EOG:ch02', 'EOG:ch03'])\n"
     ]
    },
    {
     "name": "stdout",
     "output_type": "stream",
     "text": [
      "Extracting EDF parameters from C:\\Users\\Lenovo\\Desktop\\JU\\2b_dataset\\B0501T.gdf...\n",
      "GDF file detected\n",
      "Setting channel info structure...\n",
      "Could not determine channel type of the following channels, they will be set as EEG:\n",
      "EEG:C3, EEG:Cz, EEG:C4\n",
      "Creating raw.info structure...\n",
      "Reading 0 ... 604802  =      0.000 ...  2419.208 secs...\n"
     ]
    },
    {
     "name": "stderr",
     "output_type": "stream",
     "text": [
      "C:\\Users\\Lenovo\\AppData\\Local\\Temp\\ipykernel_11576\\64288951.py:35: RuntimeWarning: Highpass cutoff frequency 100.0 is greater than lowpass cutoff frequency 0.5, setting values to 0 and Nyquist.\n",
      "  raw_data = mne.io.read_raw_gdf(file_path,preload=True, eog=['EOG:ch01', 'EOG:ch02', 'EOG:ch03'])\n"
     ]
    },
    {
     "name": "stdout",
     "output_type": "stream",
     "text": [
      "Extracting EDF parameters from C:\\Users\\Lenovo\\Desktop\\JU\\2b_dataset\\B0502T.gdf...\n",
      "GDF file detected\n",
      "Setting channel info structure...\n",
      "Could not determine channel type of the following channels, they will be set as EEG:\n",
      "EEG:C3, EEG:Cz, EEG:C4\n",
      "Creating raw.info structure...\n",
      "Reading 0 ... 696265  =      0.000 ...  2785.060 secs...\n"
     ]
    },
    {
     "name": "stderr",
     "output_type": "stream",
     "text": [
      "C:\\Users\\Lenovo\\AppData\\Local\\Temp\\ipykernel_11576\\64288951.py:35: RuntimeWarning: Highpass cutoff frequency 100.0 is greater than lowpass cutoff frequency 0.5, setting values to 0 and Nyquist.\n",
      "  raw_data = mne.io.read_raw_gdf(file_path,preload=True, eog=['EOG:ch01', 'EOG:ch02', 'EOG:ch03'])\n"
     ]
    },
    {
     "name": "stdout",
     "output_type": "stream",
     "text": [
      "Extracting EDF parameters from C:\\Users\\Lenovo\\Desktop\\JU\\2b_dataset\\B0503T.gdf...\n",
      "GDF file detected\n",
      "Setting channel info structure...\n",
      "Could not determine channel type of the following channels, they will be set as EEG:\n",
      "EEG:C3, EEG:Cz, EEG:C4\n",
      "Creating raw.info structure...\n",
      "Reading 0 ... 461874  =      0.000 ...  1847.496 secs...\n"
     ]
    },
    {
     "name": "stderr",
     "output_type": "stream",
     "text": [
      "C:\\Users\\Lenovo\\AppData\\Local\\Temp\\ipykernel_11576\\64288951.py:35: RuntimeWarning: Highpass cutoff frequency 100.0 is greater than lowpass cutoff frequency 0.5, setting values to 0 and Nyquist.\n",
      "  raw_data = mne.io.read_raw_gdf(file_path,preload=True, eog=['EOG:ch01', 'EOG:ch02', 'EOG:ch03'])\n"
     ]
    },
    {
     "name": "stdout",
     "output_type": "stream",
     "text": [
      "Extracting EDF parameters from C:\\Users\\Lenovo\\Desktop\\JU\\2b_dataset\\B0601T.gdf...\n",
      "GDF file detected\n",
      "Setting channel info structure...\n",
      "Could not determine channel type of the following channels, they will be set as EEG:\n",
      "EEG:C3, EEG:Cz, EEG:C4\n",
      "Creating raw.info structure...\n",
      "Reading 0 ... 604802  =      0.000 ...  2419.208 secs...\n"
     ]
    },
    {
     "name": "stderr",
     "output_type": "stream",
     "text": [
      "C:\\Users\\Lenovo\\AppData\\Local\\Temp\\ipykernel_11576\\64288951.py:35: RuntimeWarning: Highpass cutoff frequency 100.0 is greater than lowpass cutoff frequency 0.5, setting values to 0 and Nyquist.\n",
      "  raw_data = mne.io.read_raw_gdf(file_path,preload=True, eog=['EOG:ch01', 'EOG:ch02', 'EOG:ch03'])\n"
     ]
    },
    {
     "name": "stdout",
     "output_type": "stream",
     "text": [
      "Extracting EDF parameters from C:\\Users\\Lenovo\\Desktop\\JU\\2b_dataset\\B0602T.gdf...\n",
      "GDF file detected\n",
      "Setting channel info structure...\n",
      "Could not determine channel type of the following channels, they will be set as EEG:\n",
      "EEG:C3, EEG:Cz, EEG:C4\n",
      "Creating raw.info structure...\n",
      "Reading 0 ... 604802  =      0.000 ...  2419.208 secs...\n"
     ]
    },
    {
     "name": "stderr",
     "output_type": "stream",
     "text": [
      "C:\\Users\\Lenovo\\AppData\\Local\\Temp\\ipykernel_11576\\64288951.py:35: RuntimeWarning: Highpass cutoff frequency 100.0 is greater than lowpass cutoff frequency 0.5, setting values to 0 and Nyquist.\n",
      "  raw_data = mne.io.read_raw_gdf(file_path,preload=True, eog=['EOG:ch01', 'EOG:ch02', 'EOG:ch03'])\n"
     ]
    },
    {
     "name": "stdout",
     "output_type": "stream",
     "text": [
      "Extracting EDF parameters from C:\\Users\\Lenovo\\Desktop\\JU\\2b_dataset\\B0603T.gdf...\n",
      "GDF file detected\n",
      "Setting channel info structure...\n",
      "Could not determine channel type of the following channels, they will be set as EEG:\n",
      "EEG:C3, EEG:Cz, EEG:C4\n",
      "Creating raw.info structure...\n",
      "Reading 0 ... 470390  =      0.000 ...  1881.560 secs...\n"
     ]
    },
    {
     "name": "stderr",
     "output_type": "stream",
     "text": [
      "C:\\Users\\Lenovo\\AppData\\Local\\Temp\\ipykernel_11576\\64288951.py:35: RuntimeWarning: Highpass cutoff frequency 100.0 is greater than lowpass cutoff frequency 0.5, setting values to 0 and Nyquist.\n",
      "  raw_data = mne.io.read_raw_gdf(file_path,preload=True, eog=['EOG:ch01', 'EOG:ch02', 'EOG:ch03'])\n"
     ]
    },
    {
     "name": "stdout",
     "output_type": "stream",
     "text": [
      "Extracting EDF parameters from C:\\Users\\Lenovo\\Desktop\\JU\\2b_dataset\\B0701T.gdf...\n",
      "GDF file detected\n",
      "Setting channel info structure...\n",
      "Could not determine channel type of the following channels, they will be set as EEG:\n",
      "EEG:C3, EEG:Cz, EEG:C4\n",
      "Creating raw.info structure...\n",
      "Reading 0 ... 604802  =      0.000 ...  2419.208 secs...\n"
     ]
    },
    {
     "name": "stderr",
     "output_type": "stream",
     "text": [
      "C:\\Users\\Lenovo\\AppData\\Local\\Temp\\ipykernel_11576\\64288951.py:35: RuntimeWarning: Highpass cutoff frequency 100.0 is greater than lowpass cutoff frequency 0.5, setting values to 0 and Nyquist.\n",
      "  raw_data = mne.io.read_raw_gdf(file_path,preload=True, eog=['EOG:ch01', 'EOG:ch02', 'EOG:ch03'])\n"
     ]
    },
    {
     "name": "stdout",
     "output_type": "stream",
     "text": [
      "Extracting EDF parameters from C:\\Users\\Lenovo\\Desktop\\JU\\2b_dataset\\B0702T.gdf...\n",
      "GDF file detected\n",
      "Setting channel info structure...\n",
      "Could not determine channel type of the following channels, they will be set as EEG:\n",
      "EEG:C3, EEG:Cz, EEG:C4\n",
      "Creating raw.info structure...\n",
      "Reading 0 ... 604802  =      0.000 ...  2419.208 secs...\n"
     ]
    },
    {
     "name": "stderr",
     "output_type": "stream",
     "text": [
      "C:\\Users\\Lenovo\\AppData\\Local\\Temp\\ipykernel_11576\\64288951.py:35: RuntimeWarning: Highpass cutoff frequency 100.0 is greater than lowpass cutoff frequency 0.5, setting values to 0 and Nyquist.\n",
      "  raw_data = mne.io.read_raw_gdf(file_path,preload=True, eog=['EOG:ch01', 'EOG:ch02', 'EOG:ch03'])\n"
     ]
    },
    {
     "name": "stdout",
     "output_type": "stream",
     "text": [
      "Extracting EDF parameters from C:\\Users\\Lenovo\\Desktop\\JU\\2b_dataset\\B0703T.gdf...\n",
      "GDF file detected\n",
      "Setting channel info structure...\n",
      "Could not determine channel type of the following channels, they will be set as EEG:\n",
      "EEG:C3, EEG:Cz, EEG:C4\n",
      "Creating raw.info structure...\n",
      "Reading 0 ... 466726  =      0.000 ...  1866.904 secs...\n"
     ]
    },
    {
     "name": "stderr",
     "output_type": "stream",
     "text": [
      "C:\\Users\\Lenovo\\AppData\\Local\\Temp\\ipykernel_11576\\64288951.py:35: RuntimeWarning: Highpass cutoff frequency 100.0 is greater than lowpass cutoff frequency 0.5, setting values to 0 and Nyquist.\n",
      "  raw_data = mne.io.read_raw_gdf(file_path,preload=True, eog=['EOG:ch01', 'EOG:ch02', 'EOG:ch03'])\n"
     ]
    },
    {
     "name": "stdout",
     "output_type": "stream",
     "text": [
      "Extracting EDF parameters from C:\\Users\\Lenovo\\Desktop\\JU\\2b_dataset\\B0801T.gdf...\n",
      "GDF file detected\n",
      "Setting channel info structure...\n",
      "Could not determine channel type of the following channels, they will be set as EEG:\n",
      "EEG:C3, EEG:Cz, EEG:C4\n",
      "Creating raw.info structure...\n",
      "Reading 0 ... 787728  =      0.000 ...  3150.912 secs...\n"
     ]
    },
    {
     "name": "stderr",
     "output_type": "stream",
     "text": [
      "C:\\Users\\Lenovo\\AppData\\Local\\Temp\\ipykernel_11576\\64288951.py:35: RuntimeWarning: Highpass cutoff frequency 100.0 is greater than lowpass cutoff frequency 0.5, setting values to 0 and Nyquist.\n",
      "  raw_data = mne.io.read_raw_gdf(file_path,preload=True, eog=['EOG:ch01', 'EOG:ch02', 'EOG:ch03'])\n"
     ]
    },
    {
     "name": "stdout",
     "output_type": "stream",
     "text": [
      "Extracting EDF parameters from C:\\Users\\Lenovo\\Desktop\\JU\\2b_dataset\\B0802T.gdf...\n",
      "GDF file detected\n",
      "Setting channel info structure...\n",
      "Could not determine channel type of the following channels, they will be set as EEG:\n",
      "EEG:C3, EEG:Cz, EEG:C4\n",
      "Creating raw.info structure...\n",
      "Reading 0 ... 604802  =      0.000 ...  2419.208 secs...\n"
     ]
    },
    {
     "name": "stderr",
     "output_type": "stream",
     "text": [
      "C:\\Users\\Lenovo\\AppData\\Local\\Temp\\ipykernel_11576\\64288951.py:35: RuntimeWarning: Highpass cutoff frequency 100.0 is greater than lowpass cutoff frequency 0.5, setting values to 0 and Nyquist.\n",
      "  raw_data = mne.io.read_raw_gdf(file_path,preload=True, eog=['EOG:ch01', 'EOG:ch02', 'EOG:ch03'])\n"
     ]
    },
    {
     "name": "stdout",
     "output_type": "stream",
     "text": [
      "Extracting EDF parameters from C:\\Users\\Lenovo\\Desktop\\JU\\2b_dataset\\B0803T.gdf...\n",
      "GDF file detected\n",
      "Setting channel info structure...\n",
      "Could not determine channel type of the following channels, they will be set as EEG:\n",
      "EEG:C3, EEG:Cz, EEG:C4\n",
      "Creating raw.info structure...\n",
      "Reading 0 ... 474834  =      0.000 ...  1899.336 secs...\n"
     ]
    },
    {
     "name": "stderr",
     "output_type": "stream",
     "text": [
      "C:\\Users\\Lenovo\\AppData\\Local\\Temp\\ipykernel_11576\\64288951.py:35: RuntimeWarning: Highpass cutoff frequency 100.0 is greater than lowpass cutoff frequency 0.5, setting values to 0 and Nyquist.\n",
      "  raw_data = mne.io.read_raw_gdf(file_path,preload=True, eog=['EOG:ch01', 'EOG:ch02', 'EOG:ch03'])\n"
     ]
    },
    {
     "name": "stdout",
     "output_type": "stream",
     "text": [
      "Extracting EDF parameters from C:\\Users\\Lenovo\\Desktop\\JU\\2b_dataset\\B0901T.gdf...\n",
      "GDF file detected\n",
      "Setting channel info structure...\n",
      "Could not determine channel type of the following channels, they will be set as EEG:\n",
      "EEG:C3, EEG:Cz, EEG:C4\n",
      "Creating raw.info structure...\n",
      "Reading 0 ... 604802  =      0.000 ...  2419.208 secs...\n"
     ]
    },
    {
     "name": "stderr",
     "output_type": "stream",
     "text": [
      "C:\\Users\\Lenovo\\AppData\\Local\\Temp\\ipykernel_11576\\64288951.py:35: RuntimeWarning: Highpass cutoff frequency 100.0 is greater than lowpass cutoff frequency 0.5, setting values to 0 and Nyquist.\n",
      "  raw_data = mne.io.read_raw_gdf(file_path,preload=True, eog=['EOG:ch01', 'EOG:ch02', 'EOG:ch03'])\n"
     ]
    },
    {
     "name": "stdout",
     "output_type": "stream",
     "text": [
      "Extracting EDF parameters from C:\\Users\\Lenovo\\Desktop\\JU\\2b_dataset\\B0902T.gdf...\n",
      "GDF file detected\n",
      "Setting channel info structure...\n",
      "Could not determine channel type of the following channels, they will be set as EEG:\n",
      "EEG:C3, EEG:Cz, EEG:C4\n",
      "Creating raw.info structure...\n",
      "Reading 0 ... 604802  =      0.000 ...  2419.208 secs...\n"
     ]
    },
    {
     "name": "stderr",
     "output_type": "stream",
     "text": [
      "C:\\Users\\Lenovo\\AppData\\Local\\Temp\\ipykernel_11576\\64288951.py:35: RuntimeWarning: Highpass cutoff frequency 100.0 is greater than lowpass cutoff frequency 0.5, setting values to 0 and Nyquist.\n",
      "  raw_data = mne.io.read_raw_gdf(file_path,preload=True, eog=['EOG:ch01', 'EOG:ch02', 'EOG:ch03'])\n"
     ]
    },
    {
     "name": "stdout",
     "output_type": "stream",
     "text": [
      "Extracting EDF parameters from C:\\Users\\Lenovo\\Desktop\\JU\\2b_dataset\\B0903T.gdf...\n",
      "GDF file detected\n",
      "Setting channel info structure...\n",
      "Could not determine channel type of the following channels, they will be set as EEG:\n",
      "EEG:C3, EEG:Cz, EEG:C4\n",
      "Creating raw.info structure...\n",
      "Reading 0 ... 460730  =      0.000 ...  1842.920 secs...\n"
     ]
    },
    {
     "name": "stderr",
     "output_type": "stream",
     "text": [
      "C:\\Users\\Lenovo\\AppData\\Local\\Temp\\ipykernel_11576\\64288951.py:35: RuntimeWarning: Highpass cutoff frequency 100.0 is greater than lowpass cutoff frequency 0.5, setting values to 0 and Nyquist.\n",
      "  raw_data = mne.io.read_raw_gdf(file_path,preload=True, eog=['EOG:ch01', 'EOG:ch02', 'EOG:ch03'])\n"
     ]
    },
    {
     "name": "stdout",
     "output_type": "stream",
     "text": [
      "Extracting EDF parameters from C:\\Users\\Lenovo\\Desktop\\JU\\2b_dataset\\B0102T.gdf...\n",
      "GDF file detected\n",
      "Setting channel info structure...\n",
      "Could not determine channel type of the following channels, they will be set as EEG:\n",
      "EEG:C3, EEG:Cz, EEG:C4, EOG:ch01, EOG:ch02, EOG:ch03\n",
      "Creating raw.info structure...\n"
     ]
    },
    {
     "name": "stderr",
     "output_type": "stream",
     "text": [
      "C:\\Users\\Lenovo\\AppData\\Local\\Temp\\ipykernel_11576\\64288951.py:43: RuntimeWarning: Highpass cutoff frequency 100.0 is greater than lowpass cutoff frequency 0.5, setting values to 0 and Nyquist.\n",
      "  raw_data1 =mne.io.read_raw_gdf(\"B0102T.gdf\")\n"
     ]
    }
   ],
   "source": [
    "#dropping the eog channels as we will be working only on 22 eeg channels\n",
    "file_paths_1 = [\n",
    "    'B0101T.gdf',\n",
    "   \n",
    "    'B0103T.gdf',\n",
    "    'B0201T.gdf',\n",
    "    'B0202T.gdf',\n",
    "    'B0203T.gdf',\n",
    "    'B0301T.gdf',\n",
    "    'B0302T.gdf',\n",
    "    'B0303T.gdf',\n",
    "    'B0401T.gdf',\n",
    "    'B0402T.gdf',\n",
    "    'B0403T.gdf',\n",
    "    'B0501T.gdf',\n",
    "    'B0502T.gdf',\n",
    "    'B0503T.gdf',\n",
    "    'B0601T.gdf',\n",
    "    'B0602T.gdf',\n",
    "    'B0603T.gdf',\n",
    "    'B0701T.gdf',\n",
    "    'B0702T.gdf',\n",
    "    'B0703T.gdf',\n",
    "    'B0801T.gdf',\n",
    "    'B0802T.gdf',\n",
    "    'B0803T.gdf',\n",
    "    'B0901T.gdf',\n",
    "    'B0902T.gdf',\n",
    "    'B0903T.gdf'\n",
    "]\n",
    "\n",
    "raw = []\n",
    "\n",
    "for file_path in file_paths_1:\n",
    "    raw_data = mne.io.read_raw_gdf(file_path,preload=True, eog=['EOG:ch01', 'EOG:ch02', 'EOG:ch03'])\n",
    "    \n",
    "    p=raw_data.drop_channels(['EOG:ch01', 'EOG:ch02', 'EOG:ch03'])\n",
    "    #eeg_data = p.get_data()  # Get the EEG data as a numpy array\n",
    "    #eeg_data_list.append(eeg_data)\n",
    "    raw.append(p)\n",
    "    \n",
    "#This file has no EOG channel\n",
    "raw_data1 =mne.io.read_raw_gdf(\"B0102T.gdf\")\n",
    "raw.append(raw_data1)\n"
   ]
  },
  {
   "cell_type": "code",
   "execution_count": 3,
   "id": "4f54b6aa-abe4-46b4-98ea-4594f05b399c",
   "metadata": {},
   "outputs": [
    {
     "data": {
      "text/plain": [
       "mne.io.edf.edf.RawGDF"
      ]
     },
     "execution_count": 3,
     "metadata": {},
     "output_type": "execute_result"
    }
   ],
   "source": [
    "#len(raw[7][0])\n",
    "#eeg_array = np.stack(raw, axis=0)\n",
    "#for i in range(0,7):\n",
    "#arr=np.array(raw)\n",
    "type(raw[0])\n",
    "\n",
    "#arr.shape\n",
    "#type(raw[0])\n",
    "#raw[0].shape\n",
    "#import array\n",
    "#my_array=array.array('i',raw)\n",
    "#printing the file details\n",
    "#print(raw[7])\n",
    "#printing the file info details\n",
    "#print(raw.info)"
   ]
  },
  {
   "cell_type": "code",
   "execution_count": 4,
   "id": "053fbd05-3efa-4e6d-bb00-44e752fac230",
   "metadata": {},
   "outputs": [
    {
     "name": "stdout",
     "output_type": "stream",
     "text": [
      "Used Annotations descriptions: ['1023', '1077', '1078', '1079', '1081', '276', '277', '32766', '768', '769', '770']\n",
      "Used Annotations descriptions: ['1023', '1077', '1078', '1079', '1081', '276', '277', '32766', '768', '769', '770', '781']\n",
      "Used Annotations descriptions: ['1023', '1077', '1078', '1079', '1081', '276', '277', '32766', '768', '769', '770']\n",
      "Used Annotations descriptions: ['1023', '1077', '1078', '1079', '1081', '276', '277', '32766', '768', '769', '770']\n",
      "Used Annotations descriptions: ['1023', '1077', '1078', '1079', '1081', '276', '277', '32766', '768', '769', '770', '781']\n",
      "Used Annotations descriptions: ['1023', '1077', '1078', '1079', '1081', '276', '277', '32766', '768', '769', '770']\n",
      "Used Annotations descriptions: ['1023', '1077', '1078', '1079', '1081', '276', '277', '32766', '768', '769', '770']\n",
      "Used Annotations descriptions: ['1023', '1077', '1078', '1079', '1081', '276', '277', '32766', '768', '769', '770', '781']\n",
      "Used Annotations descriptions: ['1023', '1077', '1078', '1079', '1081', '276', '277', '32766', '768', '769', '770']\n",
      "Used Annotations descriptions: ['1023', '1077', '1078', '1079', '1081', '276', '277', '32766', '768', '769', '770']\n",
      "Used Annotations descriptions: ['1023', '1077', '1078', '1079', '1081', '276', '277', '32766', '768', '769', '770', '781']\n",
      "Used Annotations descriptions: ['1023', '1077', '1078', '1079', '1081', '276', '277', '32766', '768', '769', '770']\n",
      "Used Annotations descriptions: ['1023', '1077', '1078', '1079', '1081', '276', '277', '32766', '768', '769', '770']\n",
      "Used Annotations descriptions: ['1023', '1077', '1078', '1079', '1081', '276', '277', '32766', '768', '769', '770', '781']\n",
      "Used Annotations descriptions: ['1023', '1077', '1078', '1079', '1081', '276', '277', '32766', '768', '769', '770']\n",
      "Used Annotations descriptions: ['1023', '1077', '1078', '1079', '1081', '276', '277', '32766', '768', '769', '770']\n",
      "Used Annotations descriptions: ['1023', '1077', '1078', '1079', '1081', '276', '277', '32766', '768', '769', '770', '781']\n",
      "Used Annotations descriptions: ['1023', '1077', '1078', '1079', '1081', '276', '277', '32766', '768', '769', '770']\n",
      "Used Annotations descriptions: ['1023', '1077', '1078', '1079', '1081', '276', '277', '32766', '768', '769', '770']\n",
      "Used Annotations descriptions: ['1023', '1077', '1078', '1079', '1081', '276', '277', '32766', '768', '769', '770', '781']\n",
      "Used Annotations descriptions: ['1023', '1077', '1078', '1079', '1081', '276', '277', '32766', '768', '769', '770']\n",
      "Used Annotations descriptions: ['1023', '1077', '1078', '1079', '1081', '276', '277', '32766', '768', '769', '770']\n",
      "Used Annotations descriptions: ['1023', '1077', '1078', '1079', '1081', '276', '277', '32766', '768', '769', '770', '781']\n",
      "Used Annotations descriptions: ['1023', '1077', '1078', '1079', '1081', '276', '277', '32766', '768', '769', '770']\n",
      "Used Annotations descriptions: ['1023', '1077', '1078', '1079', '1081', '276', '277', '32766', '768', '769', '770']\n",
      "Used Annotations descriptions: ['1023', '1077', '1078', '1079', '1081', '276', '277', '32766', '768', '769', '770', '781']\n"
     ]
    }
   ],
   "source": [
    "#Annotation object for annotating segments of raw data.\n",
    "for i in range(0,26):\n",
    "    raw[i].annotations\n",
    "    events=mne.events_from_annotations(raw[i])\n",
    "    #printing the 1st index of the events which contains the overall details of the file\n",
    "    events[1]\n",
    "    "
   ]
  },
  {
   "cell_type": "code",
   "execution_count": 5,
   "id": "fcdc4162-8a68-4612-ad0a-75c73447384d",
   "metadata": {},
   "outputs": [
    {
     "data": {
      "text/plain": [
       "array([[    0,     0,     8],\n",
       "       [  499,     0,     6],\n",
       "       [16749,     0,     7],\n",
       "       [32999,     0,     5],\n",
       "       [37999,     0,     4],\n",
       "       [42999,     0,     3],\n",
       "       [47999,     0,     2],\n",
       "       [52251,     0,     8],\n",
       "       [54349,     0,     9],\n",
       "       [55099,     0,    11],\n",
       "       [55224,     0,    12],\n",
       "       [56938,     0,     9],\n",
       "       [56938,     0,     1],\n",
       "       [57688,     0,    10],\n",
       "       [57813,     0,    12],\n",
       "       [59516,     0,     9],\n",
       "       [60266,     0,    10],\n",
       "       [60391,     0,    12],\n",
       "       [61822,     0,     9],\n",
       "       [62572,     0,    11]])"
      ]
     },
     "execution_count": 5,
     "metadata": {},
     "output_type": "execute_result"
    }
   ],
   "source": [
    "#events[0] contains the main data in which we should work on \n",
    "events[0][0:20]"
   ]
  },
  {
   "cell_type": "code",
   "execution_count": 6,
   "id": "e23e287c-a528-4cbb-80d9-490e479633cb",
   "metadata": {},
   "outputs": [],
   "source": [
    "#creating a event dictionary\n",
    "event_dict={\n",
    " 'eye open':1,\n",
    " 'eye close':2,\n",
    " 'new trial':3,\n",
    " 'BCI feedback':4,\n",
    " 'Rejected trial':5,\n",
    " 'Horizontal Eye Movement':6,\n",
    " 'Vertical eye movement':7,\n",
    " 'Eye rotation':8,\n",
    " 'Eye blinks':9,\n",
    " 'new run':10,\n",
    " 'class 1':11,\n",
    " 'class 2':12,\n",
    " }"
   ]
  },
  {
   "cell_type": "code",
   "execution_count": 7,
   "id": "95693a05-4662-4c75-821d-80864a56a9ac",
   "metadata": {},
   "outputs": [],
   "source": [
    "for i in range(0,8):\n",
    "    rawinfo=raw[i].info"
   ]
  },
  {
   "cell_type": "code",
   "execution_count": 8,
   "id": "c53a8766-0f7d-4bef-a42c-da91280f3ace",
   "metadata": {},
   "outputs": [
    {
     "data": {
      "text/html": [
       "<table class=\"table table-hover table-striped table-sm table-responsive small\">\n",
       "    <tr>\n",
       "        <th>Measurement date</th>\n",
       "        \n",
       "        <td>December 13, 2005  13:54:33 GMT</td>\n",
       "        \n",
       "    </tr>\n",
       "    <tr>\n",
       "        <th>Experimenter</th>\n",
       "        \n",
       "        <td>Unknown</td>\n",
       "        \n",
       "    </tr>\n",
       "        <th>Participant</th>\n",
       "        \n",
       "        <td>Unknown</td>\n",
       "        \n",
       "    </tr>\n",
       "    <tr>\n",
       "        <th>Digitized points</th>\n",
       "        \n",
       "        <td>Not available</td>\n",
       "        \n",
       "    </tr>\n",
       "    <tr>\n",
       "        <th>Good channels</th>\n",
       "        <td>3 EEG</td>\n",
       "    </tr>\n",
       "    <tr>\n",
       "        <th>Bad channels</th>\n",
       "        <td>None</td>\n",
       "    </tr>\n",
       "    <tr>\n",
       "        <th>EOG channels</th>\n",
       "        <td>Not available</td>\n",
       "    </tr>\n",
       "    <tr>\n",
       "        <th>ECG channels</th>\n",
       "        <td>Not available</td>\n",
       "    \n",
       "    <tr>\n",
       "        <th>Sampling frequency</th>\n",
       "        <td>250.00 Hz</td>\n",
       "    </tr>\n",
       "    \n",
       "    \n",
       "    <tr>\n",
       "        <th>Highpass</th>\n",
       "        <td>0.00 Hz</td>\n",
       "    </tr>\n",
       "    \n",
       "    \n",
       "    <tr>\n",
       "        <th>Lowpass</th>\n",
       "        <td>125.00 Hz</td>\n",
       "    </tr>\n",
       "    \n",
       "    \n",
       "</table>"
      ],
      "text/plain": [
       "<Info | 7 non-empty values\n",
       " bads: []\n",
       " ch_names: EEG:C3, EEG:Cz, EEG:C4\n",
       " chs: 3 EEG\n",
       " custom_ref_applied: False\n",
       " highpass: 0.0 Hz\n",
       " lowpass: 125.0 Hz\n",
       " meas_date: 2005-12-13 13:54:33 UTC\n",
       " nchan: 3\n",
       " projs: []\n",
       " sfreq: 250.0 Hz\n",
       ">"
      ]
     },
     "execution_count": 8,
     "metadata": {},
     "output_type": "execute_result"
    }
   ],
   "source": [
    "rawinfo"
   ]
  },
  {
   "cell_type": "code",
   "execution_count": 9,
   "id": "8323064e-8b35-4d30-a7cf-acf22b1d8f24",
   "metadata": {},
   "outputs": [
    {
     "data": {
      "text/plain": [
       "27"
      ]
     },
     "execution_count": 9,
     "metadata": {},
     "output_type": "execute_result"
    }
   ],
   "source": [
    "len(raw)"
   ]
  },
  {
   "cell_type": "code",
   "execution_count": 10,
   "id": "6e4c73f5-453a-4b49-b4dd-22ee515f5c07",
   "metadata": {},
   "outputs": [
    {
     "name": "stdout",
     "output_type": "stream",
     "text": [
      "Not setting metadata\n",
      "80 matching events found\n",
      "Setting baseline interval to [-0.1, 0.0] sec\n",
      "Applying baseline correction (mode: mean)\n",
      "0 projection items activated\n",
      "Using data from preloaded Raw for 80 events and 1751 original time points ...\n",
      "0 bad epochs dropped\n",
      "Not setting metadata\n",
      "80 matching events found\n",
      "Setting baseline interval to [-0.1, 0.0] sec\n",
      "Applying baseline correction (mode: mean)\n",
      "0 projection items activated\n",
      "Using data from preloaded Raw for 80 events and 1751 original time points ...\n",
      "0 bad epochs dropped\n",
      "Not setting metadata\n",
      "80 matching events found\n",
      "Setting baseline interval to [-0.1, 0.0] sec\n",
      "Applying baseline correction (mode: mean)\n",
      "0 projection items activated\n",
      "Using data from preloaded Raw for 80 events and 1751 original time points ...\n",
      "0 bad epochs dropped\n",
      "Not setting metadata\n",
      "80 matching events found\n",
      "Setting baseline interval to [-0.1, 0.0] sec\n",
      "Applying baseline correction (mode: mean)\n",
      "0 projection items activated\n",
      "Using data from preloaded Raw for 80 events and 1751 original time points ...\n",
      "0 bad epochs dropped\n",
      "Not setting metadata\n",
      "80 matching events found\n",
      "Setting baseline interval to [-0.1, 0.0] sec\n",
      "Applying baseline correction (mode: mean)\n",
      "0 projection items activated\n",
      "Using data from preloaded Raw for 80 events and 1751 original time points ...\n",
      "0 bad epochs dropped\n",
      "Not setting metadata\n",
      "80 matching events found\n",
      "Setting baseline interval to [-0.1, 0.0] sec\n",
      "Applying baseline correction (mode: mean)\n",
      "0 projection items activated\n",
      "Using data from preloaded Raw for 80 events and 1751 original time points ...\n",
      "0 bad epochs dropped\n",
      "Not setting metadata\n",
      "80 matching events found\n",
      "Setting baseline interval to [-0.1, 0.0] sec\n",
      "Applying baseline correction (mode: mean)\n",
      "0 projection items activated\n",
      "Using data from preloaded Raw for 80 events and 1751 original time points ...\n",
      "0 bad epochs dropped\n",
      "Not setting metadata\n",
      "80 matching events found\n",
      "Setting baseline interval to [-0.1, 0.0] sec\n",
      "Applying baseline correction (mode: mean)\n",
      "0 projection items activated\n",
      "Using data from preloaded Raw for 80 events and 1751 original time points ...\n",
      "0 bad epochs dropped\n",
      "Not setting metadata\n",
      "80 matching events found\n",
      "Setting baseline interval to [-0.1, 0.0] sec\n",
      "Applying baseline correction (mode: mean)\n",
      "0 projection items activated\n",
      "Using data from preloaded Raw for 80 events and 1751 original time points ...\n",
      "0 bad epochs dropped\n",
      "Not setting metadata\n",
      "80 matching events found\n",
      "Setting baseline interval to [-0.1, 0.0] sec\n",
      "Applying baseline correction (mode: mean)\n",
      "0 projection items activated\n",
      "Using data from preloaded Raw for 80 events and 1751 original time points ...\n",
      "0 bad epochs dropped\n",
      "Not setting metadata\n",
      "80 matching events found\n",
      "Setting baseline interval to [-0.1, 0.0] sec\n",
      "Applying baseline correction (mode: mean)\n",
      "0 projection items activated\n",
      "Using data from preloaded Raw for 80 events and 1751 original time points ...\n",
      "0 bad epochs dropped\n",
      "Not setting metadata\n",
      "80 matching events found\n",
      "Setting baseline interval to [-0.1, 0.0] sec\n",
      "Applying baseline correction (mode: mean)\n",
      "0 projection items activated\n",
      "Using data from preloaded Raw for 80 events and 1751 original time points ...\n",
      "0 bad epochs dropped\n",
      "Not setting metadata\n",
      "80 matching events found\n",
      "Setting baseline interval to [-0.1, 0.0] sec\n",
      "Applying baseline correction (mode: mean)\n",
      "0 projection items activated\n",
      "Using data from preloaded Raw for 80 events and 1751 original time points ...\n",
      "0 bad epochs dropped\n",
      "Not setting metadata\n",
      "80 matching events found\n",
      "Setting baseline interval to [-0.1, 0.0] sec\n",
      "Applying baseline correction (mode: mean)\n",
      "0 projection items activated\n",
      "Using data from preloaded Raw for 80 events and 1751 original time points ...\n",
      "0 bad epochs dropped\n",
      "Not setting metadata\n",
      "80 matching events found\n",
      "Setting baseline interval to [-0.1, 0.0] sec\n",
      "Applying baseline correction (mode: mean)\n",
      "0 projection items activated\n",
      "Using data from preloaded Raw for 80 events and 1751 original time points ...\n",
      "0 bad epochs dropped\n",
      "Not setting metadata\n",
      "80 matching events found\n",
      "Setting baseline interval to [-0.1, 0.0] sec\n",
      "Applying baseline correction (mode: mean)\n",
      "0 projection items activated\n",
      "Using data from preloaded Raw for 80 events and 1751 original time points ...\n",
      "0 bad epochs dropped\n",
      "Not setting metadata\n",
      "80 matching events found\n",
      "Setting baseline interval to [-0.1, 0.0] sec\n",
      "Applying baseline correction (mode: mean)\n",
      "0 projection items activated\n",
      "Using data from preloaded Raw for 80 events and 1751 original time points ...\n",
      "0 bad epochs dropped\n",
      "Not setting metadata\n",
      "80 matching events found\n",
      "Setting baseline interval to [-0.1, 0.0] sec\n",
      "Applying baseline correction (mode: mean)\n",
      "0 projection items activated\n",
      "Using data from preloaded Raw for 80 events and 1751 original time points ...\n",
      "0 bad epochs dropped\n",
      "Not setting metadata\n",
      "80 matching events found\n",
      "Setting baseline interval to [-0.1, 0.0] sec\n",
      "Applying baseline correction (mode: mean)\n",
      "0 projection items activated\n",
      "Using data from preloaded Raw for 80 events and 1751 original time points ...\n",
      "0 bad epochs dropped\n",
      "Not setting metadata\n",
      "80 matching events found\n",
      "Setting baseline interval to [-0.1, 0.0] sec\n",
      "Applying baseline correction (mode: mean)\n",
      "0 projection items activated\n",
      "Using data from preloaded Raw for 80 events and 1751 original time points ...\n",
      "0 bad epochs dropped\n",
      "Not setting metadata\n",
      "80 matching events found\n",
      "Setting baseline interval to [-0.1, 0.0] sec\n",
      "Applying baseline correction (mode: mean)\n",
      "0 projection items activated\n",
      "Using data from preloaded Raw for 80 events and 1751 original time points ...\n",
      "0 bad epochs dropped\n",
      "Not setting metadata\n",
      "80 matching events found\n",
      "Setting baseline interval to [-0.1, 0.0] sec\n",
      "Applying baseline correction (mode: mean)\n",
      "0 projection items activated\n",
      "Using data from preloaded Raw for 80 events and 1751 original time points ...\n",
      "0 bad epochs dropped\n",
      "Not setting metadata\n",
      "80 matching events found\n",
      "Setting baseline interval to [-0.1, 0.0] sec\n",
      "Applying baseline correction (mode: mean)\n",
      "0 projection items activated\n",
      "Using data from preloaded Raw for 80 events and 1751 original time points ...\n",
      "0 bad epochs dropped\n",
      "Not setting metadata\n",
      "80 matching events found\n",
      "Setting baseline interval to [-0.1, 0.0] sec\n",
      "Applying baseline correction (mode: mean)\n",
      "0 projection items activated\n",
      "Using data from preloaded Raw for 80 events and 1751 original time points ...\n",
      "0 bad epochs dropped\n",
      "Not setting metadata\n",
      "80 matching events found\n",
      "Setting baseline interval to [-0.1, 0.0] sec\n",
      "Applying baseline correction (mode: mean)\n",
      "0 projection items activated\n",
      "Using data from preloaded Raw for 80 events and 1751 original time points ...\n",
      "0 bad epochs dropped\n",
      "Not setting metadata\n",
      "80 matching events found\n",
      "Setting baseline interval to [-0.1, 0.0] sec\n",
      "Applying baseline correction (mode: mean)\n",
      "0 projection items activated\n",
      "Using data from preloaded Raw for 80 events and 1751 original time points ...\n",
      "0 bad epochs dropped\n",
      "Not setting metadata\n",
      "80 matching events found\n",
      "Setting baseline interval to [-0.1, 0.0] sec\n",
      "Applying baseline correction (mode: mean)\n",
      "0 projection items activated\n",
      "Loading data for 80 events and 1751 original time points ...\n",
      "0 bad epochs dropped\n"
     ]
    }
   ],
   "source": [
    "classA = mne.Epochs(raw[0], events[0], event_id=[11],tmin=-0.1, tmax=6.9, preload=True)\n",
    "classA1 = mne.Epochs(raw[1], events[0], event_id=[11],tmin=-0.1, tmax=6.9, preload=True)\n",
    "classA= np.append(classA,classA1)\n",
    "classA2 = mne.Epochs(raw[2], events[0], event_id=[11],tmin=-0.1, tmax=6.9, preload=True)\n",
    "classA= np.append(classA,classA2)\n",
    "classA3 = mne.Epochs(raw[3], events[0], event_id=[11],tmin=-0.1, tmax=6.9, preload=True)\n",
    "classA= np.append(classA,classA3)\n",
    "classA4 = mne.Epochs(raw[4], events[0], event_id=[11],tmin=-0.1, tmax=6.9, preload=True)\n",
    "classA= np.append(classA,classA4)\n",
    "classA5 = mne.Epochs(raw[5], events[0], event_id=[11],tmin=-0.1, tmax=6.9, preload=True)\n",
    "classA= np.append(classA,classA5)\n",
    "classA6 = mne.Epochs(raw[6], events[0], event_id=[11],tmin=-0.1, tmax=6.9, preload=True)\n",
    "classA= np.append(classA,classA6)\n",
    "classA7 = mne.Epochs(raw[7], events[0], event_id=[11],tmin=-0.1, tmax=6.9, preload=True)\n",
    "classA= np.append(classA,classA7)\n",
    "classA8 = mne.Epochs(raw[8], events[0], event_id=[11],tmin=-0.1, tmax=6.9, preload=True)\n",
    "classA= np.append(classA,classA8)\n",
    "classA9 = mne.Epochs(raw[9], events[0], event_id=[11],tmin=-0.1, tmax=6.9, preload=True)\n",
    "classA= np.append(classA,classA9)\n",
    "classA10 = mne.Epochs(raw[10], events[0], event_id=[11],tmin=-0.1, tmax=6.9, preload=True)\n",
    "classA= np.append(classA,classA10)\n",
    "classA11 = mne.Epochs(raw[11], events[0], event_id=[11],tmin=-0.1, tmax=6.9, preload=True)\n",
    "classA= np.append(classA,classA11)\n",
    "classA12 = mne.Epochs(raw[12], events[0], event_id=[11],tmin=-0.1, tmax=6.9, preload=True)\n",
    "classA= np.append(classA,classA12)\n",
    "classA13 = mne.Epochs(raw[13], events[0], event_id=[11],tmin=-0.1, tmax=6.9, preload=True)\n",
    "classA= np.append(classA,classA13)\n",
    "classA14 = mne.Epochs(raw[14], events[0], event_id=[11],tmin=-0.1, tmax=6.9, preload=True)\n",
    "classA= np.append(classA,classA14)\n",
    "classA15 = mne.Epochs(raw[15], events[0], event_id=[11],tmin=-0.1, tmax=6.9, preload=True)\n",
    "classA= np.append(classA,classA15)\n",
    "classA16 = mne.Epochs(raw[16], events[0], event_id=[11],tmin=-0.1, tmax=6.9, preload=True)\n",
    "classA= np.append(classA,classA16)\n",
    "classA17 = mne.Epochs(raw[17], events[0], event_id=[11],tmin=-0.1, tmax=6.9, preload=True)\n",
    "classA= np.append(classA,classA17)\n",
    "classA18 = mne.Epochs(raw[18], events[0], event_id=[11],tmin=-0.1, tmax=6.9, preload=True)\n",
    "classA= np.append(classA,classA18)\n",
    "classA19 = mne.Epochs(raw[19], events[0], event_id=[11],tmin=-0.1, tmax=6.9, preload=True)\n",
    "classA= np.append(classA,classA19)\n",
    "classA20 = mne.Epochs(raw[20], events[0], event_id=[11],tmin=-0.1, tmax=6.9, preload=True)\n",
    "classA= np.append(classA,classA20)\n",
    "classA21 = mne.Epochs(raw[21], events[0], event_id=[11],tmin=-0.1, tmax=6.9, preload=True)\n",
    "classA= np.append(classA,classA21)\n",
    "classA22 = mne.Epochs(raw[22], events[0], event_id=[11],tmin=-0.1, tmax=6.9, preload=True)\n",
    "classA= np.append(classA,classA22)\n",
    "classA23 = mne.Epochs(raw[23], events[0], event_id=[11],tmin=-0.1, tmax=6.9, preload=True)\n",
    "classA= np.append(classA,classA23)\n",
    "classA24 = mne.Epochs(raw[24], events[0], event_id=[11],tmin=-0.1, tmax=6.9, preload=True)\n",
    "classA= np.append(classA,classA24)\n",
    "classA25 = mne.Epochs(raw[25], events[0], event_id=[11],tmin=-0.1, tmax=6.9, preload=True)\n",
    "classA= np.append(classA,classA25)\n",
    "classA26 = mne.Epochs(raw[26], events[0], event_id=[11],tmin=-0.1, tmax=6.9, preload=True)\n",
    "classA= np.append(classA,classA26)\n",
    "\n"
   ]
  },
  {
   "cell_type": "code",
   "execution_count": 11,
   "id": "1de436ea-b706-491f-9b1e-a5b1f5d18649",
   "metadata": {},
   "outputs": [
    {
     "name": "stdout",
     "output_type": "stream",
     "text": [
      "Not setting metadata\n",
      "160 matching events found\n",
      "Setting baseline interval to [-0.1, 0.0] sec\n",
      "Applying baseline correction (mode: mean)\n",
      "0 projection items activated\n",
      "Using data from preloaded Raw for 160 events and 1751 original time points ...\n",
      "0 bad epochs dropped\n",
      "Not setting metadata\n",
      "160 matching events found\n",
      "Setting baseline interval to [-0.1, 0.0] sec\n",
      "Applying baseline correction (mode: mean)\n",
      "0 projection items activated\n",
      "Using data from preloaded Raw for 160 events and 1751 original time points ...\n",
      "0 bad epochs dropped\n",
      "Not setting metadata\n",
      "160 matching events found\n",
      "Setting baseline interval to [-0.1, 0.0] sec\n",
      "Applying baseline correction (mode: mean)\n",
      "0 projection items activated\n",
      "Using data from preloaded Raw for 160 events and 1751 original time points ...\n",
      "0 bad epochs dropped\n",
      "Not setting metadata\n",
      "160 matching events found\n",
      "Setting baseline interval to [-0.1, 0.0] sec\n",
      "Applying baseline correction (mode: mean)\n",
      "0 projection items activated\n",
      "Using data from preloaded Raw for 160 events and 1751 original time points ...\n",
      "0 bad epochs dropped\n",
      "Not setting metadata\n",
      "160 matching events found\n",
      "Setting baseline interval to [-0.1, 0.0] sec\n",
      "Applying baseline correction (mode: mean)\n",
      "0 projection items activated\n",
      "Using data from preloaded Raw for 160 events and 1751 original time points ...\n",
      "0 bad epochs dropped\n",
      "Not setting metadata\n",
      "160 matching events found\n",
      "Setting baseline interval to [-0.1, 0.0] sec\n",
      "Applying baseline correction (mode: mean)\n",
      "0 projection items activated\n",
      "Using data from preloaded Raw for 160 events and 1751 original time points ...\n",
      "0 bad epochs dropped\n",
      "Not setting metadata\n",
      "160 matching events found\n",
      "Setting baseline interval to [-0.1, 0.0] sec\n",
      "Applying baseline correction (mode: mean)\n",
      "0 projection items activated\n",
      "Using data from preloaded Raw for 160 events and 1751 original time points ...\n",
      "0 bad epochs dropped\n",
      "Not setting metadata\n",
      "160 matching events found\n",
      "Setting baseline interval to [-0.1, 0.0] sec\n",
      "Applying baseline correction (mode: mean)\n",
      "0 projection items activated\n",
      "Using data from preloaded Raw for 160 events and 1751 original time points ...\n",
      "0 bad epochs dropped\n",
      "Not setting metadata\n",
      "160 matching events found\n",
      "Setting baseline interval to [-0.1, 0.0] sec\n",
      "Applying baseline correction (mode: mean)\n",
      "0 projection items activated\n",
      "Using data from preloaded Raw for 160 events and 1751 original time points ...\n",
      "0 bad epochs dropped\n",
      "Not setting metadata\n",
      "160 matching events found\n",
      "Setting baseline interval to [-0.1, 0.0] sec\n",
      "Applying baseline correction (mode: mean)\n",
      "0 projection items activated\n",
      "Using data from preloaded Raw for 160 events and 1751 original time points ...\n",
      "0 bad epochs dropped\n",
      "Not setting metadata\n",
      "160 matching events found\n",
      "Setting baseline interval to [-0.1, 0.0] sec\n",
      "Applying baseline correction (mode: mean)\n",
      "0 projection items activated\n",
      "Using data from preloaded Raw for 160 events and 1751 original time points ...\n",
      "0 bad epochs dropped\n",
      "Not setting metadata\n",
      "160 matching events found\n",
      "Setting baseline interval to [-0.1, 0.0] sec\n",
      "Applying baseline correction (mode: mean)\n",
      "0 projection items activated\n",
      "Using data from preloaded Raw for 160 events and 1751 original time points ...\n",
      "0 bad epochs dropped\n",
      "Not setting metadata\n",
      "160 matching events found\n",
      "Setting baseline interval to [-0.1, 0.0] sec\n",
      "Applying baseline correction (mode: mean)\n",
      "0 projection items activated\n",
      "Using data from preloaded Raw for 160 events and 1751 original time points ...\n",
      "0 bad epochs dropped\n",
      "Not setting metadata\n",
      "160 matching events found\n",
      "Setting baseline interval to [-0.1, 0.0] sec\n",
      "Applying baseline correction (mode: mean)\n",
      "0 projection items activated\n",
      "Using data from preloaded Raw for 160 events and 1751 original time points ...\n",
      "0 bad epochs dropped\n",
      "Not setting metadata\n",
      "160 matching events found\n",
      "Setting baseline interval to [-0.1, 0.0] sec\n",
      "Applying baseline correction (mode: mean)\n",
      "0 projection items activated\n",
      "Using data from preloaded Raw for 160 events and 1751 original time points ...\n",
      "0 bad epochs dropped\n",
      "Not setting metadata\n",
      "160 matching events found\n",
      "Setting baseline interval to [-0.1, 0.0] sec\n",
      "Applying baseline correction (mode: mean)\n",
      "0 projection items activated\n",
      "Using data from preloaded Raw for 160 events and 1751 original time points ...\n",
      "0 bad epochs dropped\n",
      "Not setting metadata\n",
      "160 matching events found\n",
      "Setting baseline interval to [-0.1, 0.0] sec\n",
      "Applying baseline correction (mode: mean)\n",
      "0 projection items activated\n",
      "Using data from preloaded Raw for 160 events and 1751 original time points ...\n",
      "0 bad epochs dropped\n",
      "Not setting metadata\n",
      "160 matching events found\n",
      "Setting baseline interval to [-0.1, 0.0] sec\n",
      "Applying baseline correction (mode: mean)\n",
      "0 projection items activated\n",
      "Using data from preloaded Raw for 160 events and 1751 original time points ...\n",
      "0 bad epochs dropped\n",
      "Not setting metadata\n",
      "160 matching events found\n",
      "Setting baseline interval to [-0.1, 0.0] sec\n",
      "Applying baseline correction (mode: mean)\n",
      "0 projection items activated\n",
      "Using data from preloaded Raw for 160 events and 1751 original time points ...\n",
      "0 bad epochs dropped\n",
      "Not setting metadata\n",
      "160 matching events found\n",
      "Setting baseline interval to [-0.1, 0.0] sec\n",
      "Applying baseline correction (mode: mean)\n",
      "0 projection items activated\n",
      "Using data from preloaded Raw for 160 events and 1751 original time points ...\n",
      "0 bad epochs dropped\n",
      "Not setting metadata\n",
      "160 matching events found\n",
      "Setting baseline interval to [-0.1, 0.0] sec\n",
      "Applying baseline correction (mode: mean)\n",
      "0 projection items activated\n",
      "Using data from preloaded Raw for 160 events and 1751 original time points ...\n",
      "0 bad epochs dropped\n",
      "Not setting metadata\n",
      "160 matching events found\n",
      "Setting baseline interval to [-0.1, 0.0] sec\n",
      "Applying baseline correction (mode: mean)\n",
      "0 projection items activated\n",
      "Using data from preloaded Raw for 160 events and 1751 original time points ...\n",
      "0 bad epochs dropped\n",
      "Not setting metadata\n",
      "160 matching events found\n",
      "Setting baseline interval to [-0.1, 0.0] sec\n",
      "Applying baseline correction (mode: mean)\n",
      "0 projection items activated\n",
      "Using data from preloaded Raw for 160 events and 1751 original time points ...\n",
      "0 bad epochs dropped\n",
      "Not setting metadata\n",
      "160 matching events found\n",
      "Setting baseline interval to [-0.1, 0.0] sec\n",
      "Applying baseline correction (mode: mean)\n",
      "0 projection items activated\n",
      "Using data from preloaded Raw for 160 events and 1751 original time points ...\n",
      "0 bad epochs dropped\n",
      "Not setting metadata\n",
      "160 matching events found\n",
      "Setting baseline interval to [-0.1, 0.0] sec\n",
      "Applying baseline correction (mode: mean)\n",
      "0 projection items activated\n",
      "Using data from preloaded Raw for 160 events and 1751 original time points ...\n",
      "0 bad epochs dropped\n",
      "Not setting metadata\n",
      "160 matching events found\n",
      "Setting baseline interval to [-0.1, 0.0] sec\n",
      "Applying baseline correction (mode: mean)\n",
      "0 projection items activated\n",
      "Using data from preloaded Raw for 160 events and 1751 original time points ...\n",
      "0 bad epochs dropped\n",
      "Not setting metadata\n",
      "160 matching events found\n",
      "Setting baseline interval to [-0.1, 0.0] sec\n",
      "Applying baseline correction (mode: mean)\n",
      "0 projection items activated\n",
      "Loading data for 160 events and 1751 original time points ...\n",
      "0 bad epochs dropped\n"
     ]
    }
   ],
   "source": [
    "classB = mne.Epochs(raw[0], events[0], event_id=[12],tmin=-0.1, tmax=6.9, preload=True)\n",
    "classB1 = mne.Epochs(raw[1], events[0], event_id=[12],tmin=-0.1, tmax=6.9, preload=True)\n",
    "classB= np.append(classB,classB1)\n",
    "classB2 = mne.Epochs(raw[2], events[0], event_id=[12],tmin=-0.1, tmax=6.9, preload=True)\n",
    "classB= np.append(classB,classB2)\n",
    "classB3 = mne.Epochs(raw[3], events[0], event_id=[12],tmin=-0.1, tmax=6.9, preload=True)\n",
    "classB= np.append(classB,classB3)\n",
    "classB4 = mne.Epochs(raw[4], events[0], event_id=[12],tmin=-0.1, tmax=6.9, preload=True)\n",
    "classB= np.append(classB,classB4)\n",
    "classB5 = mne.Epochs(raw[5], events[0], event_id=[12],tmin=-0.1, tmax=6.9, preload=True)\n",
    "classB= np.append(classB,classB5)\n",
    "classB6 = mne.Epochs(raw[6], events[0], event_id=[12],tmin=-0.1, tmax=6.9, preload=True)\n",
    "classB= np.append(classB,classB6)\n",
    "classB7 = mne.Epochs(raw[7], events[0], event_id=[12],tmin=-0.1, tmax=6.9, preload=True)\n",
    "classB= np.append(classB,classB7)\n",
    "classB8 = mne.Epochs(raw[8], events[0], event_id=[12],tmin=-0.1, tmax=6.9, preload=True)\n",
    "classB= np.append(classB,classB8)\n",
    "classB9 = mne.Epochs(raw[9], events[0], event_id=[12],tmin=-0.1, tmax=6.9, preload=True)\n",
    "classB= np.append(classA,classA9)\n",
    "classB10 = mne.Epochs(raw[10], events[0], event_id=[12],tmin=-0.1, tmax=6.9, preload=True)\n",
    "classB= np.append(classB,classB10)\n",
    "classB11 = mne.Epochs(raw[11], events[0], event_id=[12],tmin=-0.1, tmax=6.9, preload=True)\n",
    "classB= np.append(classB,classB11)\n",
    "classB12 = mne.Epochs(raw[12], events[0], event_id=[12],tmin=-0.1, tmax=6.9, preload=True)\n",
    "classB= np.append(classB,classB12)\n",
    "classB13 = mne.Epochs(raw[13], events[0], event_id=[12],tmin=-0.1, tmax=6.9, preload=True)\n",
    "classB= np.append(classB,classB13)\n",
    "classB14 = mne.Epochs(raw[14], events[0], event_id=[12],tmin=-0.1, tmax=6.9, preload=True)\n",
    "classB= np.append(classB,classB14)\n",
    "classB15 = mne.Epochs(raw[15], events[0], event_id=[12],tmin=-0.1, tmax=6.9, preload=True)\n",
    "classB= np.append(classB,classB15)\n",
    "classB16 = mne.Epochs(raw[16], events[0], event_id=[12],tmin=-0.1, tmax=6.9, preload=True)\n",
    "classB= np.append(classB,classB16)\n",
    "classB17 = mne.Epochs(raw[17], events[0], event_id=[12],tmin=-0.1, tmax=6.9, preload=True)\n",
    "classB= np.append(classB,classB17)\n",
    "classB18 = mne.Epochs(raw[18], events[0], event_id=[12],tmin=-0.1, tmax=6.9, preload=True)\n",
    "classB= np.append(classB,classB18)\n",
    "classB19 = mne.Epochs(raw[19], events[0], event_id=[12],tmin=-0.1, tmax=6.9, preload=True)\n",
    "classB= np.append(classB,classB19)\n",
    "classB20 = mne.Epochs(raw[20], events[0], event_id=[12],tmin=-0.1, tmax=6.9, preload=True)\n",
    "classB= np.append(classB,classB20)\n",
    "classB21 = mne.Epochs(raw[21], events[0], event_id=[12],tmin=-0.1, tmax=6.9, preload=True)\n",
    "classB= np.append(classB,classB21)\n",
    "classB22 = mne.Epochs(raw[22], events[0], event_id=[12],tmin=-0.1, tmax=6.9, preload=True)\n",
    "classB= np.append(classB,classB22)\n",
    "classB23 = mne.Epochs(raw[23], events[0], event_id=[12],tmin=-0.1, tmax=6.9, preload=True)\n",
    "classB= np.append(classB,classB23)\n",
    "classB24 = mne.Epochs(raw[24], events[0], event_id=[12],tmin=-0.1, tmax=6.9, preload=True)\n",
    "classB= np.append(classB,classB24)\n",
    "classB25 = mne.Epochs(raw[25], events[0], event_id=[12],tmin=-0.1, tmax=6.9, preload=True)\n",
    "classB= np.append(classB,classB25)\n",
    "classB26 = mne.Epochs(raw[26], events[0], event_id=[12],tmin=-0.1, tmax=6.9, preload=True)\n",
    "classB= np.append(classB,classB26)\n",
    "\n"
   ]
  },
  {
   "cell_type": "code",
   "execution_count": 12,
   "id": "83344d04-b879-4492-989a-a15f19b93cb7",
   "metadata": {},
   "outputs": [
    {
     "data": {
      "text/plain": [
       "(11766720,)"
      ]
     },
     "execution_count": 12,
     "metadata": {},
     "output_type": "execute_result"
    }
   ],
   "source": [
    "classA.shape"
   ]
  },
  {
   "cell_type": "code",
   "execution_count": 13,
   "id": "e7e6a284-3066-487f-9feb-400f6c9c2233",
   "metadata": {},
   "outputs": [
    {
     "data": {
      "text/plain": [
       "(27315600,)"
      ]
     },
     "execution_count": 13,
     "metadata": {},
     "output_type": "execute_result"
    }
   ],
   "source": [
    "classB.shape"
   ]
  },
  {
   "cell_type": "code",
   "execution_count": 14,
   "id": "45d0b7f4-ba8e-43d0-9dd2-c846679ba076",
   "metadata": {},
   "outputs": [
    {
     "data": {
      "text/plain": [
       "(2240, 3, 1751)"
      ]
     },
     "execution_count": 14,
     "metadata": {},
     "output_type": "execute_result"
    }
   ],
   "source": [
    "#printing the shape of the first class(left hand)\n",
    "classA.shape\n",
    "newA=classA.reshape(2240,3,1751)\n",
    "newA.shape\n",
    "#type(newA)"
   ]
  },
  {
   "cell_type": "code",
   "execution_count": 15,
   "id": "61523a03-43fa-4ef4-991a-fdfdb7824d9c",
   "metadata": {},
   "outputs": [
    {
     "data": {
      "text/plain": [
       "numpy.ndarray"
      ]
     },
     "execution_count": 15,
     "metadata": {},
     "output_type": "execute_result"
    }
   ],
   "source": [
    "classB.shape\n",
    "newB=classB.reshape(5200,3,1751)\n",
    "#newA.shape\n",
    "type(newB)"
   ]
  },
  {
   "cell_type": "code",
   "execution_count": 16,
   "id": "092b1b92-ffb7-4b95-ada4-90379c1d96e2",
   "metadata": {},
   "outputs": [],
   "source": [
    "import scipy.signal as signal\n",
    "\n",
    "# Define the notch filter parameters\n",
    "fs = 250  # Sampling frequency\n",
    "notch_freq = 50.0  # Powerline frequency in Hz\n",
    "Q = 30.0  # Quality factor\n",
    "\n",
    "# Design a notch filter\n",
    "b, a = signal.iirnotch(notch_freq, Q, fs)\n",
    "\n",
    "# Apply the notch filter to EEG segments\n",
    "def apply_notch_filter(eeg_segments):\n",
    "    num_segments, num_channels, segment_length = eeg_segments.shape\n",
    "    filtered_segments = np.zeros_like(eeg_segments)\n",
    "\n",
    "    for i in range(num_segments):\n",
    "        for j in range(num_channels):\n",
    "            filtered_segments[i, j] = signal.lfilter(b, a, eeg_segments[i, j])\n",
    "            \n",
    "    return filtered_segments\n",
    "\n",
    "# Assuming you have EEG segments for multiple classes\n",
    "# e.g., class_A_segments with shape (2240, 3, 1751)\n",
    "#       class_B_segments with shape (2240, 3, 1751)\n",
    "\n",
    "filtered_class_A_segments = apply_notch_filter(newA)\n",
    "filtered_class_B_segments = apply_notch_filter(newB)\n",
    "\n",
    "# Now the EEG segments for both classes have the 50Hz powerline frequency removed\n"
   ]
  },
  {
   "cell_type": "code",
   "execution_count": 17,
   "id": "f8272b1f-f9c9-4f56-ab94-0e84417278d6",
   "metadata": {},
   "outputs": [
    {
     "name": "stdout",
     "output_type": "stream",
     "text": [
      "Not setting metadata\n",
      "2240 matching events found\n",
      "No baseline correction applied\n",
      "0 projection items activated\n"
     ]
    },
    {
     "data": {
      "text/plain": [
       "(2240, 3, 1751)"
      ]
     },
     "execution_count": 17,
     "metadata": {},
     "output_type": "execute_result"
    }
   ],
   "source": [
    "#printing the classA (first class details)\n",
    "A=[0]\n",
    "A=mne.EpochsArray(newA,rawinfo)\n",
    "A.get_data().shape"
   ]
  },
  {
   "cell_type": "code",
   "execution_count": 18,
   "id": "6f73ad4c-48a1-446b-a600-fba571260bae",
   "metadata": {},
   "outputs": [
    {
     "name": "stdout",
     "output_type": "stream",
     "text": [
      "Not setting metadata\n",
      "5200 matching events found\n",
      "No baseline correction applied\n",
      "0 projection items activated\n"
     ]
    },
    {
     "data": {
      "text/html": [
       "<table class=\"table table-hover table-striped table-sm table-responsive small\">\n",
       "    <tr>\n",
       "        <th>Number of events</th>\n",
       "        <td>5200</td>\n",
       "    </tr>\n",
       "    <tr>\n",
       "        <th>Events</th>\n",
       "        \n",
       "        <td>1: 5200</td>\n",
       "        \n",
       "    </tr>\n",
       "    <tr>\n",
       "        <th>Time range</th>\n",
       "        <td>0.000 – 7.000 sec</td>\n",
       "    </tr>\n",
       "    <tr>\n",
       "        <th>Baseline</th>\n",
       "        <td>off</td>\n",
       "    </tr>\n",
       "</table>"
      ],
      "text/plain": [
       "<EpochsArray |  5200 events (all good), 0 - 7 sec, baseline off, ~208.4 MB, data loaded,\n",
       " '1': 5200>"
      ]
     },
     "execution_count": 18,
     "metadata": {},
     "output_type": "execute_result"
    }
   ],
   "source": [
    "B=[0]\n",
    "B=mne.EpochsArray(newB,rawinfo)\n",
    "B"
   ]
  },
  {
   "cell_type": "code",
   "execution_count": 19,
   "id": "79366707-4311-41da-a474-fc00aa2aed93",
   "metadata": {},
   "outputs": [
    {
     "name": "stdout",
     "output_type": "stream",
     "text": [
      "<EpochsArray |  2240 events (all good), 0 - 7 sec, baseline off, ~89.8 MB, data loaded,\n",
      " '1': 2240>\n"
     ]
    }
   ],
   "source": [
    "print(A)"
   ]
  },
  {
   "cell_type": "code",
   "execution_count": 20,
   "id": "a3628509-75a7-4c3e-83ac-9ffd34334a44",
   "metadata": {},
   "outputs": [
    {
     "data": {
      "text/html": [
       "<table class=\"table table-hover table-striped table-sm table-responsive small\">\n",
       "    <tr>\n",
       "        <th>Number of events</th>\n",
       "        <td>5200</td>\n",
       "    </tr>\n",
       "    <tr>\n",
       "        <th>Events</th>\n",
       "        \n",
       "        <td>1: 5200</td>\n",
       "        \n",
       "    </tr>\n",
       "    <tr>\n",
       "        <th>Time range</th>\n",
       "        <td>0.000 – 7.000 sec</td>\n",
       "    </tr>\n",
       "    <tr>\n",
       "        <th>Baseline</th>\n",
       "        <td>off</td>\n",
       "    </tr>\n",
       "</table>"
      ],
      "text/plain": [
       "<EpochsArray |  5200 events (all good), 0 - 7 sec, baseline off, ~208.4 MB, data loaded,\n",
       " '1': 5200>"
      ]
     },
     "execution_count": 20,
     "metadata": {},
     "output_type": "execute_result"
    }
   ],
   "source": [
    "B"
   ]
  },
  {
   "cell_type": "code",
   "execution_count": 21,
   "id": "baf5ee24-eb7c-4add-9a0b-412998a82409",
   "metadata": {},
   "outputs": [],
   "source": [
    "#building the bandpass filter function\n",
    "def butter_bandpass_filter(signal, lowcut, highcut, fs, order=5):\n",
    "    nyq = 0.5 * fs\n",
    "    low = lowcut/nyq\n",
    "    high = highcut/nyq\n",
    "    b,a = butter(order, [low, high], btype='band')\n",
    "    y = lfilter(b, a, signal, axis=-1)  \n",
    "    return y"
   ]
  },
  {
   "cell_type": "code",
   "execution_count": 22,
   "id": "29f8ff07-4dc8-4bda-90ed-9f61ab4d5656",
   "metadata": {},
   "outputs": [],
   "source": [
    "#delta bandpass filter from class A\n",
    "def read_da(path):\n",
    "    fs = 250\n",
    "    lowcut = 0.5\n",
    "    highcut = 3.99\n",
    "    delta= butter_bandpass_filter(A, lowcut, highcut, fs, order=5)\n",
    "    \n",
    "    #datax=mne.io.read_raw_gdf(path,preload=True, eog=['EOG-left', 'EOG-central', 'EOG-right'])\n",
    "    #datax.drop_channels(['EOG-left', 'EOG-central', 'EOG-right'])\n",
    "    #classA = mne.Epochs(datax, events[0], event_id=[7],tmin=-0.1, tmax=1.15, preload=True)\n",
    "    '''classA.set_eeg_reference()\n",
    "    classA.filter(l_freq=0.5,h_freq=4)\n",
    "    chs=mne.make_fixed_length_epochs(classA,duration=25,overlap=0)\n",
    "    chs=chs.get_data()'''\n",
    "    return delta\n",
    "\n",
    "\n"
   ]
  },
  {
   "cell_type": "code",
   "execution_count": 23,
   "id": "940018f4-9e74-407e-ae1b-d4374179d15d",
   "metadata": {},
   "outputs": [
    {
     "name": "stdout",
     "output_type": "stream",
     "text": [
      "(2240, 3, 1751)\n"
     ]
    }
   ],
   "source": [
    "#getting the shape of the delta for classA\n",
    "deltaA=[0]\n",
    "deltaA=read_da(A)\n",
    "print(deltaA.shape)"
   ]
  },
  {
   "cell_type": "code",
   "execution_count": 24,
   "id": "ed3af64c-b5cf-43db-845f-1ddc266be5ae",
   "metadata": {},
   "outputs": [],
   "source": [
    "#delta bandpass filter from class B\n",
    "def read_db(path):\n",
    "    fs = 250\n",
    "    lowcut = 0.5\n",
    "    highcut = 3.99\n",
    "    delta= butter_bandpass_filter(B, lowcut, highcut, fs, order=5)\n",
    "    \n",
    "    #datax=mne.io.read_raw_gdf(path,preload=True, eog=['EOG-left', 'EOG-central', 'EOG-right'])\n",
    "    #datax.drop_channels(['EOG-left', 'EOG-central', 'EOG-right'])\n",
    "    #classA = mne.Epochs(datax, events[0], event_id=[7],tmin=-0.1, tmax=1.15, preload=True)\n",
    "    '''classA.set_eeg_reference()\n",
    "    classA.filter(l_freq=0.5,h_freq=4)\n",
    "    chs=mne.make_fixed_length_epochs(classA,duration=25,overlap=0)\n",
    "    chs=chs.get_data()'''\n",
    "    return delta"
   ]
  },
  {
   "cell_type": "code",
   "execution_count": 25,
   "id": "1d4cbf2e-127f-4833-acf7-0341f4b29355",
   "metadata": {},
   "outputs": [
    {
     "name": "stdout",
     "output_type": "stream",
     "text": [
      "(5200, 3, 1751)\n"
     ]
    }
   ],
   "source": [
    "#getting the shape of the delta for classB\n",
    "deltaB=[0] \n",
    "deltaB=read_db(B)\n",
    "print(deltaB.shape)"
   ]
  },
  {
   "cell_type": "code",
   "execution_count": 26,
   "id": "bf1518b7-79d2-4ff0-bb88-e72e2484d340",
   "metadata": {},
   "outputs": [],
   "source": [
    "#theta bandpass filter from class A\n",
    "def read_de(path):\n",
    "    fs = 250\n",
    "    lowcut = 4\n",
    "    highcut = 7.99\n",
    "    theta= butter_bandpass_filter(A, lowcut, highcut, fs, order=5)\n",
    "    #datax=mne.io.read_raw_gdf(path,preload=True, eog=['EOG-left', 'EOG-central', 'EOG-right'])\n",
    "    #datax.drop_channels(['EOG-left', 'EOG-central', 'EOG-right'])\n",
    "    #datax.set_eeg_reference()\n",
    "    #datax.filter(l_freq=4,h_freq=8)\n",
    "    #chs=mne.make_fixed_length_epochs(y,duration=1.25,overlap=0)\n",
    "    #chs=chs.get_data()\n",
    "    return theta"
   ]
  },
  {
   "cell_type": "code",
   "execution_count": 27,
   "id": "6dffd243-b517-4e7d-abd2-592dee33a59b",
   "metadata": {},
   "outputs": [
    {
     "name": "stdout",
     "output_type": "stream",
     "text": [
      "(2240, 3, 1751)\n"
     ]
    }
   ],
   "source": [
    "#getting the shape of the theta for class A\n",
    "thetaA=[0]\n",
    "thetaA=read_de(A)\n",
    "print(thetaA.shape)"
   ]
  },
  {
   "cell_type": "code",
   "execution_count": 28,
   "id": "917d45b2-0a82-469c-be59-6e5e083792cf",
   "metadata": {},
   "outputs": [],
   "source": [
    "#Theta bandpass filter from class B\n",
    "def read_df(path):\n",
    "    fs = 250\n",
    "    lowcut = 4\n",
    "    highcut = 7.99\n",
    "    theta= butter_bandpass_filter(B, lowcut, highcut, fs, order=5)\n",
    "    #datax=mne.io.read_raw_gdf(path,preload=True, eog=['EOG-left', 'EOG-central', 'EOG-right'])\n",
    "    #datax.drop_channels(['EOG-left', 'EOG-central', 'EOG-right'])\n",
    "    #datax.set_eeg_reference()\n",
    "    #datax.filter(l_freq=4,h_freq=8)\n",
    "    #chs=mne.make_fixed_length_epochs(y,duration=1.25,overlap=0)\n",
    "    #chs=chs.get_data()\n",
    "    return theta"
   ]
  },
  {
   "cell_type": "code",
   "execution_count": 29,
   "id": "8a9f5f0f-b968-4ce7-adb4-0350628f8e69",
   "metadata": {},
   "outputs": [
    {
     "name": "stdout",
     "output_type": "stream",
     "text": [
      "(5200, 3, 1751)\n"
     ]
    }
   ],
   "source": [
    "#getting the shape of the theta for class B\n",
    "thetaB=[0]\n",
    "thetaB=read_df(B)\n",
    "print(thetaB.shape)"
   ]
  },
  {
   "cell_type": "code",
   "execution_count": 30,
   "id": "4323dd95-453e-4be2-8a9c-0da4cc67f65b",
   "metadata": {},
   "outputs": [],
   "source": [
    "#Alpha bandpass filter from class A\n",
    "def read_di(path):\n",
    "    fs = 250\n",
    "    lowcut = 8.01\n",
    "    highcut = 11.99\n",
    "    alpha= butter_bandpass_filter(A, lowcut, highcut, fs, order=5)\n",
    "    \n",
    "    '''datax=mne.io.read_raw_gdf(path,preload=True, eog=['EOG-left', 'EOG-central', 'EOG-right'])\n",
    "    datax.drop_channels(['EOG-left', 'EOG-central', 'EOG-right'])\n",
    "    datax.set_eeg_reference()\n",
    "    datax.filter(l_freq=8,h_freq=12)\n",
    "    chs=mne.make_fixed_length_epochs(datax,duration=1.25,overlap=0)\n",
    "    chs=chs.get_data()'''\n",
    "    return alpha"
   ]
  },
  {
   "cell_type": "code",
   "execution_count": 31,
   "id": "65611c47-216a-45fa-ae76-0b4720f56ce2",
   "metadata": {},
   "outputs": [
    {
     "name": "stdout",
     "output_type": "stream",
     "text": [
      "(2240, 3, 1751)\n"
     ]
    }
   ],
   "source": [
    "#getting the shape of the alpha for class A\n",
    "alphaA=[0]\n",
    "alphaA=read_di(A)\n",
    "print(alphaA.shape)"
   ]
  },
  {
   "cell_type": "code",
   "execution_count": 32,
   "id": "dd1230a1-175c-413c-b74f-9fe18c412e99",
   "metadata": {},
   "outputs": [],
   "source": [
    "#Alpha bandpass filter from class B\n",
    "def read_dj(path):\n",
    "    fs = 250\n",
    "    lowcut = 8.01\n",
    "    highcut = 11.99\n",
    "    alpha= butter_bandpass_filter(B, lowcut, highcut, fs, order=5)\n",
    "    \n",
    "    '''datax=mne.io.read_raw_gdf(path,preload=True, eog=['EOG-left', 'EOG-central', 'EOG-right'])\n",
    "    datax.drop_channels(['EOG-left', 'EOG-central', 'EOG-right'])\n",
    "    datax.set_eeg_reference()\n",
    "    datax.filter(l_freq=8,h_freq=12)\n",
    "    chs=mne.make_fixed_length_epochs(datax,duration=1.25,overlap=0)\n",
    "    chs=chs.get_data()'''\n",
    "    return alpha"
   ]
  },
  {
   "cell_type": "code",
   "execution_count": 33,
   "id": "12834068-319b-4ef4-82d5-6ea1bdb78a14",
   "metadata": {},
   "outputs": [
    {
     "name": "stdout",
     "output_type": "stream",
     "text": [
      "(5200, 3, 1751)\n"
     ]
    }
   ],
   "source": [
    "#getting the shape of the alpha of class B\n",
    "alphaB=[0]\n",
    "alphaB=read_dj(B)\n",
    "print(alphaB.shape)"
   ]
  },
  {
   "cell_type": "code",
   "execution_count": 34,
   "id": "c1838c07-79be-404f-9de5-87c102da2723",
   "metadata": {},
   "outputs": [],
   "source": [
    "#Beta bandpass filter from class A\n",
    "def read_dm(path):\n",
    "    fs = 250\n",
    "    lowcut = 12.01\n",
    "    highcut = 29.99\n",
    "    beta= butter_bandpass_filter(A, lowcut, highcut, fs, order=5)\n",
    "    \n",
    "    #datax=mne.io.read_raw_gdf(path,preload=True, eog=['EOG-left', 'EOG-central', 'EOG-right'])\n",
    "    '''datax.drop_channels(['EOG-left', 'EOG-central', 'EOG-right'])\n",
    "    datax.set_eeg_reference()\n",
    "    datax.filter(l_freq=12,h_freq=30)\n",
    "    chs=mne.make_fixed_length_epochs(datax,duration=1.25,overlap=0)\n",
    "    chs=chs.get_data()'''\n",
    "    return beta"
   ]
  },
  {
   "cell_type": "code",
   "execution_count": 35,
   "id": "45fe0dfa-e87b-4d24-adff-b462fa237a09",
   "metadata": {},
   "outputs": [
    {
     "name": "stdout",
     "output_type": "stream",
     "text": [
      "(2240, 3, 1751)\n"
     ]
    }
   ],
   "source": [
    "#getting the shape of the beta of class A\n",
    "betaA=[0]\n",
    "betaA=read_dm(A)\n",
    "print(betaA.shape)"
   ]
  },
  {
   "cell_type": "code",
   "execution_count": 36,
   "id": "e5dd6e45-c6f0-429f-9dce-40a99dabba16",
   "metadata": {},
   "outputs": [],
   "source": [
    "#Beta bandpass filter from class B\n",
    "def read_dn(path):\n",
    "    fs = 250\n",
    "    lowcut = 12.01\n",
    "    highcut = 29.99\n",
    "    beta= butter_bandpass_filter(B, lowcut, highcut, fs, order=5)\n",
    "    \n",
    "    #datax=mne.io.read_raw_gdf(path,preload=True, eog=['EOG-left', 'EOG-central', 'EOG-right'])\n",
    "    '''datax.drop_channels(['EOG-left', 'EOG-central', 'EOG-right'])\n",
    "    datax.set_eeg_reference()\n",
    "    datax.filter(l_freq=12,h_freq=30)\n",
    "    chs=mne.make_fixed_length_epochs(datax,duration=1.25,overlap=0)\n",
    "    chs=chs.get_data()'''\n",
    "    return beta"
   ]
  },
  {
   "cell_type": "code",
   "execution_count": 37,
   "id": "cd783b21-76a4-40da-a6dc-dcf813609772",
   "metadata": {},
   "outputs": [
    {
     "name": "stdout",
     "output_type": "stream",
     "text": [
      "(5200, 3, 1751)\n"
     ]
    }
   ],
   "source": [
    "#getting the shape of the beta of class B\n",
    "betaB=[0]\n",
    "betaB=read_dn(B)\n",
    "print(betaB.shape)"
   ]
  },
  {
   "cell_type": "code",
   "execution_count": 38,
   "id": "1cabf3b3-42e2-4104-9602-4f44c9792dbe",
   "metadata": {},
   "outputs": [],
   "source": [
    "#Gamma bandpass filter from class A\n",
    "def read_dq(path):\n",
    "    fs = 250\n",
    "    lowcut = 30.01\n",
    "    highcut = 100\n",
    "    gamma= butter_bandpass_filter(A, lowcut, highcut, fs, order=5)\n",
    "    \n",
    "    '''datax=mne.io.read_raw_gdf(path,preload=True, eog=['EOG-left', 'EOG-central', 'EOG-right'])\n",
    "    datax.drop_channels(['EOG-left', 'EOG-central', 'EOG-right'])\n",
    "    datax.set_eeg_reference()\n",
    "    datax.filter(l_freq=30,h_freq=100)\n",
    "    chs=mne.make_fixed_length_epochs(datax,duration=1.25,overlap=0)\n",
    "    chs=chs.get_data()'''\n",
    "    return gamma"
   ]
  },
  {
   "cell_type": "code",
   "execution_count": 39,
   "id": "948fd139-4af6-4975-abe6-a31ab8dbd564",
   "metadata": {},
   "outputs": [
    {
     "name": "stdout",
     "output_type": "stream",
     "text": [
      "(2240, 3, 1751)\n"
     ]
    }
   ],
   "source": [
    "#getting the shape of the gamma of class A\n",
    "gammaA=[0]\n",
    "gammaA=read_dq(A)\n",
    "print(gammaA.shape)"
   ]
  },
  {
   "cell_type": "code",
   "execution_count": 40,
   "id": "90769fe9-e91f-4f00-8927-eda7a00fa24f",
   "metadata": {},
   "outputs": [],
   "source": [
    "#Gamma bandpass filter from class B\n",
    "def read_dr(path):\n",
    "    fs = 250\n",
    "    lowcut = 30.01\n",
    "    highcut = 100\n",
    "    gamma= butter_bandpass_filter(B, lowcut, highcut, fs, order=5)\n",
    "    \n",
    "    '''datax=mne.io.read_raw_gdf(path,preload=True, eog=['EOG-left', 'EOG-central', 'EOG-right'])\n",
    "    datax.drop_channels(['EOG-left', 'EOG-central', 'EOG-right'])\n",
    "    datax.set_eeg_reference()\n",
    "    datax.filter(l_freq=30,h_freq=100)\n",
    "    chs=mne.make_fixed_length_epochs(datax,duration=1.25,overlap=0)\n",
    "    chs=chs.get_data()'''\n",
    "    return gamma"
   ]
  },
  {
   "cell_type": "code",
   "execution_count": 41,
   "id": "60a359b3-9a93-48a6-bfdf-90892a9040e0",
   "metadata": {},
   "outputs": [
    {
     "name": "stdout",
     "output_type": "stream",
     "text": [
      "(5200, 3, 1751)\n"
     ]
    }
   ],
   "source": [
    "#getting the shape of the gamma of class B\n",
    "gammaB=[0]\n",
    "gammaB=read_dr(B)\n",
    "print(gammaB.shape)"
   ]
  },
  {
   "cell_type": "code",
   "execution_count": 42,
   "id": "e59391df-ca6b-4764-a8b8-3b11d7f56446",
   "metadata": {},
   "outputs": [
    {
     "data": {
      "text/plain": [
       "5200"
      ]
     },
     "execution_count": 42,
     "metadata": {},
     "output_type": "execute_result"
    }
   ],
   "source": [
    "len(B)"
   ]
  },
  {
   "cell_type": "code",
   "execution_count": 43,
   "id": "7828805d-931e-42bb-ade8-3699f48b40b2",
   "metadata": {},
   "outputs": [],
   "source": [
    "def calculate_mean_median_features(eeg_signals):\n",
    "    mean_median_features = []\n",
    "\n",
    "    for signal in eeg_signals:\n",
    "        segment_features = []\n",
    "\n",
    "        for segment in signal:\n",
    "            mean_feat = np.mean(segment)\n",
    "            median_feat = np.median(segment)\n",
    "            \n",
    "            segment_features.append(mean_feat)\n",
    "            segment_features.append(median_feat)\n",
    "        \n",
    "        mean_median_features.append(segment_features)\n",
    "\n",
    "    return np.array(mean_median_features)\n"
   ]
  },
  {
   "cell_type": "code",
   "execution_count": 44,
   "id": "8eb629bc-a362-40b6-ae0f-436d7a344f81",
   "metadata": {},
   "outputs": [
    {
     "data": {
      "text/plain": [
       "(2240, 6)"
      ]
     },
     "execution_count": 44,
     "metadata": {},
     "output_type": "execute_result"
    }
   ],
   "source": [
    "meanmedianA=calculate_mean_median_features(A)\n",
    "meanmedianA.shape"
   ]
  },
  {
   "cell_type": "code",
   "execution_count": 45,
   "id": "d8781b4b-eb93-4f24-92fe-feca018e59c8",
   "metadata": {},
   "outputs": [
    {
     "data": {
      "text/plain": [
       "numpy.ndarray"
      ]
     },
     "execution_count": 45,
     "metadata": {},
     "output_type": "execute_result"
    }
   ],
   "source": [
    "type(meanmedianA)"
   ]
  },
  {
   "cell_type": "code",
   "execution_count": 46,
   "id": "a26368b6-5604-4320-9251-8643458ca20f",
   "metadata": {},
   "outputs": [
    {
     "data": {
      "text/plain": [
       "(5200, 6)"
      ]
     },
     "execution_count": 46,
     "metadata": {},
     "output_type": "execute_result"
    }
   ],
   "source": [
    "meanmedianB=calculate_mean_median_features(B)\n",
    "meanmedianB.shape"
   ]
  },
  {
   "cell_type": "code",
   "execution_count": 47,
   "id": "a5d7a74c-f4de-40f5-af24-cceccca59379",
   "metadata": {},
   "outputs": [],
   "source": [
    "# Calculate Hjorth parameters for each EEG segment\n",
    "def hjorth_parameters(eeg_segment):\n",
    "    activity = np.var(eeg_segment)\n",
    "    diff_signal = np.diff(eeg_segment)\n",
    "    mobility = np.var(diff_signal)\n",
    "    diff2_signal = np.diff(diff_signal)\n",
    "    complexity = np.var(diff2_signal)\n",
    "    \n",
    "    return activity, mobility, complexity\n",
    "\n",
    "# Calculate Hjorth features for all segments in the EEG signals\n",
    "def calculate_hjorth_features(eeg_signals):\n",
    "    hjorth_features = []\n",
    "\n",
    "    for signal in eeg_signals:\n",
    "        segment_features = []\n",
    "\n",
    "        for segment in signal:\n",
    "            hjorth_feats = hjorth_parameters(segment)\n",
    "            segment_features.extend(hjorth_feats)\n",
    "        \n",
    "        hjorth_features.append(segment_features)\n",
    "\n",
    "    return np.array(hjorth_features)"
   ]
  },
  {
   "cell_type": "code",
   "execution_count": 48,
   "id": "4b9e9165-9496-4116-ac28-66d266c2054b",
   "metadata": {},
   "outputs": [],
   "source": [
    "hjorth_features_class_A = calculate_hjorth_features(A)\n",
    "hjorth_features_class_B = calculate_hjorth_features(B)\n",
    "\n",
    "# Create labels for class A and class B\n",
    "labels_class_A = np.zeros(len(hjorth_features_class_A))  # Replace with label value for class A\n",
    "labels_class_B = np.ones(len(hjorth_features_class_B))   # Replace with label value for class B\n",
    "\n",
    "# Concatenate the Hjorth features and labels for both classes\n",
    "all_hjorth_features = np.concatenate((hjorth_features_class_A, hjorth_features_class_B), axis=0)\n",
    "all_labels = np.concatenate((labels_class_A, labels_class_B))\n",
    "#all_labels[0]"
   ]
  },
  {
   "cell_type": "code",
   "execution_count": 49,
   "id": "b4508f0b-7e06-471e-8607-df0dbd44b304",
   "metadata": {},
   "outputs": [
    {
     "data": {
      "text/plain": [
       "(2240, 9)"
      ]
     },
     "execution_count": 49,
     "metadata": {},
     "output_type": "execute_result"
    }
   ],
   "source": [
    "hjorth_features_class_A.shape"
   ]
  },
  {
   "cell_type": "code",
   "execution_count": 50,
   "id": "1e24c7fd-ae10-45e3-9a6b-205f6c025134",
   "metadata": {},
   "outputs": [
    {
     "data": {
      "text/plain": [
       "(2240, 3, 3)"
      ]
     },
     "execution_count": 50,
     "metadata": {},
     "output_type": "execute_result"
    }
   ],
   "source": [
    "hjorthA=hjorth_features_class_A.reshape(2240,3,3)\n",
    "hjorthA.shape"
   ]
  },
  {
   "cell_type": "code",
   "execution_count": 51,
   "id": "d8c9d877-7370-4ae1-bd77-aa2b7c5bb86a",
   "metadata": {},
   "outputs": [
    {
     "data": {
      "text/plain": [
       "(5200, 3, 3)"
      ]
     },
     "execution_count": 51,
     "metadata": {},
     "output_type": "execute_result"
    }
   ],
   "source": [
    "hjorthB=hjorth_features_class_B.reshape(5200,3,3)\n",
    "hjorthB.shape"
   ]
  },
  {
   "cell_type": "code",
   "execution_count": 52,
   "id": "a8eaa8bc-e707-44ac-a380-ccf3ecc93edc",
   "metadata": {},
   "outputs": [],
   "source": [
    "allotherA=[hjorthA,meanmedianA]\n",
    "allotherB=[hjorthB,meanmedianB]"
   ]
  },
  {
   "cell_type": "code",
   "execution_count": 53,
   "id": "33e8c7d7-8ada-4c4b-a687-9b7cbfb5dfba",
   "metadata": {},
   "outputs": [
    {
     "data": {
      "text/plain": [
       "(2240, 3, 1751)"
      ]
     },
     "execution_count": 53,
     "metadata": {},
     "output_type": "execute_result"
    }
   ],
   "source": [
    "deltaA.shape"
   ]
  },
  {
   "cell_type": "code",
   "execution_count": 54,
   "id": "d9868be5-4157-4947-b617-758ee48ca8f0",
   "metadata": {},
   "outputs": [
    {
     "data": {
      "text/plain": [
       "(2240,)"
      ]
     },
     "execution_count": 54,
     "metadata": {},
     "output_type": "execute_result"
    }
   ],
   "source": [
    "labels_class_A.shape"
   ]
  },
  {
   "cell_type": "code",
   "execution_count": 55,
   "id": "6f930549-b845-4513-8002-c7f041fb4afa",
   "metadata": {},
   "outputs": [
    {
     "data": {
      "text/plain": [
       "array([1., 1., 1., ..., 1., 1., 1.])"
      ]
     },
     "execution_count": 55,
     "metadata": {},
     "output_type": "execute_result"
    }
   ],
   "source": [
    "labels_class_B"
   ]
  },
  {
   "cell_type": "code",
   "execution_count": 56,
   "id": "4de30a52-5649-402a-ac05-b70dae7b250c",
   "metadata": {},
   "outputs": [],
   "source": [
    "allA=[deltaA,thetaA,alphaA,betaA,gammaA]\n",
    "allB=[deltaB,thetaB,alphaB,betaB,gammaB]"
   ]
  },
  {
   "cell_type": "code",
   "execution_count": 57,
   "id": "f706b2b2-1b09-4ab5-9b63-3b35a5a2be34",
   "metadata": {},
   "outputs": [
    {
     "data": {
      "text/plain": [
       "(5, 2240, 3, 1751)"
      ]
     },
     "execution_count": 57,
     "metadata": {},
     "output_type": "execute_result"
    }
   ],
   "source": [
    "fullA = np.array(allA)\n",
    "fullA.shape\n",
    "#x=np.append(deltaA,thetaA)\n",
    "#x.shape"
   ]
  },
  {
   "cell_type": "code",
   "execution_count": 58,
   "id": "a4dffc81-0a40-42c8-a597-97b78a79ff68",
   "metadata": {},
   "outputs": [
    {
     "data": {
      "text/plain": [
       "(5, 5200, 3, 1751)"
      ]
     },
     "execution_count": 58,
     "metadata": {},
     "output_type": "execute_result"
    }
   ],
   "source": [
    "fullB = np.array(allB)\n",
    "fullB.shape"
   ]
  },
  {
   "cell_type": "code",
   "execution_count": 59,
   "id": "09096f74-769c-4932-b6f9-fd0bacabc773",
   "metadata": {},
   "outputs": [],
   "source": [
    "#x=np.append(fullA,fullB)\n",
    "#x.shape"
   ]
  },
  {
   "cell_type": "code",
   "execution_count": 60,
   "id": "d267205a-4607-4876-801a-4f9bd93255c2",
   "metadata": {},
   "outputs": [
    {
     "data": {
      "text/plain": [
       "(58853760,)"
      ]
     },
     "execution_count": 60,
     "metadata": {},
     "output_type": "execute_result"
    }
   ],
   "source": [
    "x=np.append(fullA,hjorthA)\n",
    "x.shape"
   ]
  },
  {
   "cell_type": "code",
   "execution_count": 61,
   "id": "1429c475-91b4-4d25-a1dd-780b00fa4e69",
   "metadata": {},
   "outputs": [
    {
     "data": {
      "text/plain": [
       "(58867200,)"
      ]
     },
     "execution_count": 61,
     "metadata": {},
     "output_type": "execute_result"
    }
   ],
   "source": [
    "y=np.append(x,meanmedianA)\n",
    "y.shape"
   ]
  },
  {
   "cell_type": "code",
   "execution_count": 62,
   "id": "0e299092-5821-4400-aa60-ded41539776b",
   "metadata": {},
   "outputs": [
    {
     "data": {
      "text/plain": [
       "(195445200,)"
      ]
     },
     "execution_count": 62,
     "metadata": {},
     "output_type": "execute_result"
    }
   ],
   "source": [
    "z=np.append(y,fullB)\n",
    "z.shape"
   ]
  },
  {
   "cell_type": "code",
   "execution_count": 63,
   "id": "431ce2ec-f145-4ba7-bdf8-3a022f4f4171",
   "metadata": {},
   "outputs": [
    {
     "data": {
      "text/plain": [
       "(195492000,)"
      ]
     },
     "execution_count": 63,
     "metadata": {},
     "output_type": "execute_result"
    }
   ],
   "source": [
    "r=np.append(z,hjorthB)\n",
    "r.shape"
   ]
  },
  {
   "cell_type": "code",
   "execution_count": 64,
   "id": "7c29edec-b728-42d8-ba80-b62c7254cd08",
   "metadata": {},
   "outputs": [
    {
     "data": {
      "text/plain": [
       "(195523200,)"
      ]
     },
     "execution_count": 64,
     "metadata": {},
     "output_type": "execute_result"
    }
   ],
   "source": [
    "s=np.append(r,meanmedianB)\n",
    "s.shape"
   ]
  },
  {
   "cell_type": "code",
   "execution_count": 65,
   "id": "27dfa9c6-8e35-4a31-9cc4-e3d8ec7f1962",
   "metadata": {},
   "outputs": [
    {
     "data": {
      "text/plain": [
       "numpy.ndarray"
      ]
     },
     "execution_count": 65,
     "metadata": {},
     "output_type": "execute_result"
    }
   ],
   "source": [
    "TotalData=s.reshape(21724800,3,3)\n",
    "type(TotalData)"
   ]
  },
  {
   "cell_type": "code",
   "execution_count": 66,
   "id": "bfd14639-6252-4975-9d3d-fb7898fe0bd1",
   "metadata": {},
   "outputs": [],
   "source": [
    "xp=np.empty(21724800,dtype=int)"
   ]
  },
  {
   "cell_type": "code",
   "execution_count": 67,
   "id": "b9d61f47-e52b-4720-ab17-0a0f6f643836",
   "metadata": {},
   "outputs": [
    {
     "data": {
      "text/plain": [
       "(21724800,)"
      ]
     },
     "execution_count": 67,
     "metadata": {},
     "output_type": "execute_result"
    }
   ],
   "source": [
    "for i in range(0,6540800):\n",
    "    xp[i]=11\n",
    "for i in range(6540800,21724800):\n",
    "    xp[i]=12\n",
    "xp.shape"
   ]
  },
  {
   "cell_type": "code",
   "execution_count": 68,
   "id": "bf6d8f12-76b0-4fe4-a576-dcbd5eabd13f",
   "metadata": {},
   "outputs": [],
   "source": [
    "from sklearn.model_selection import train_test_split"
   ]
  },
  {
   "cell_type": "code",
   "execution_count": 69,
   "id": "9214afa5-f39f-49d3-bb5b-fb29c8aa500f",
   "metadata": {},
   "outputs": [],
   "source": [
    "x_train,x_test,y_train,y_test=train_test_split(TotalData,xp,test_size=0.2,random_state=0)\n"
   ]
  },
  {
   "cell_type": "code",
   "execution_count": 70,
   "id": "bc02dd37-3b90-41ba-b96b-14a743c82658",
   "metadata": {},
   "outputs": [
    {
     "data": {
      "text/plain": [
       "(17379840, 3, 3)"
      ]
     },
     "execution_count": 70,
     "metadata": {},
     "output_type": "execute_result"
    }
   ],
   "source": [
    "x_train.shape"
   ]
  },
  {
   "cell_type": "code",
   "execution_count": 71,
   "id": "c2f91af3-b75e-40ef-b990-44e2205aa77b",
   "metadata": {},
   "outputs": [
    {
     "data": {
      "text/plain": [
       "(17379840,)"
      ]
     },
     "execution_count": 71,
     "metadata": {},
     "output_type": "execute_result"
    }
   ],
   "source": [
    "y_train.shape"
   ]
  },
  {
   "cell_type": "code",
   "execution_count": 72,
   "id": "c728e39a-c4fd-47a0-b1bc-fc9db78d37aa",
   "metadata": {},
   "outputs": [
    {
     "data": {
      "text/plain": [
       "(17379840, 9)"
      ]
     },
     "execution_count": 72,
     "metadata": {},
     "output_type": "execute_result"
    }
   ],
   "source": [
    "x_train_n=x_train.reshape(17379840,9)\n",
    "x_train_n.shape"
   ]
  },
  {
   "cell_type": "code",
   "execution_count": 73,
   "id": "8d6bfcc5-105b-4111-9f24-58d0bf98cb87",
   "metadata": {},
   "outputs": [
    {
     "data": {
      "text/html": [
       "<style>#sk-container-id-1 {color: black;background-color: white;}#sk-container-id-1 pre{padding: 0;}#sk-container-id-1 div.sk-toggleable {background-color: white;}#sk-container-id-1 label.sk-toggleable__label {cursor: pointer;display: block;width: 100%;margin-bottom: 0;padding: 0.3em;box-sizing: border-box;text-align: center;}#sk-container-id-1 label.sk-toggleable__label-arrow:before {content: \"▸\";float: left;margin-right: 0.25em;color: #696969;}#sk-container-id-1 label.sk-toggleable__label-arrow:hover:before {color: black;}#sk-container-id-1 div.sk-estimator:hover label.sk-toggleable__label-arrow:before {color: black;}#sk-container-id-1 div.sk-toggleable__content {max-height: 0;max-width: 0;overflow: hidden;text-align: left;background-color: #f0f8ff;}#sk-container-id-1 div.sk-toggleable__content pre {margin: 0.2em;color: black;border-radius: 0.25em;background-color: #f0f8ff;}#sk-container-id-1 input.sk-toggleable__control:checked~div.sk-toggleable__content {max-height: 200px;max-width: 100%;overflow: auto;}#sk-container-id-1 input.sk-toggleable__control:checked~label.sk-toggleable__label-arrow:before {content: \"▾\";}#sk-container-id-1 div.sk-estimator input.sk-toggleable__control:checked~label.sk-toggleable__label {background-color: #d4ebff;}#sk-container-id-1 div.sk-label input.sk-toggleable__control:checked~label.sk-toggleable__label {background-color: #d4ebff;}#sk-container-id-1 input.sk-hidden--visually {border: 0;clip: rect(1px 1px 1px 1px);clip: rect(1px, 1px, 1px, 1px);height: 1px;margin: -1px;overflow: hidden;padding: 0;position: absolute;width: 1px;}#sk-container-id-1 div.sk-estimator {font-family: monospace;background-color: #f0f8ff;border: 1px dotted black;border-radius: 0.25em;box-sizing: border-box;margin-bottom: 0.5em;}#sk-container-id-1 div.sk-estimator:hover {background-color: #d4ebff;}#sk-container-id-1 div.sk-parallel-item::after {content: \"\";width: 100%;border-bottom: 1px solid gray;flex-grow: 1;}#sk-container-id-1 div.sk-label:hover label.sk-toggleable__label {background-color: #d4ebff;}#sk-container-id-1 div.sk-serial::before {content: \"\";position: absolute;border-left: 1px solid gray;box-sizing: border-box;top: 0;bottom: 0;left: 50%;z-index: 0;}#sk-container-id-1 div.sk-serial {display: flex;flex-direction: column;align-items: center;background-color: white;padding-right: 0.2em;padding-left: 0.2em;position: relative;}#sk-container-id-1 div.sk-item {position: relative;z-index: 1;}#sk-container-id-1 div.sk-parallel {display: flex;align-items: stretch;justify-content: center;background-color: white;position: relative;}#sk-container-id-1 div.sk-item::before, #sk-container-id-1 div.sk-parallel-item::before {content: \"\";position: absolute;border-left: 1px solid gray;box-sizing: border-box;top: 0;bottom: 0;left: 50%;z-index: -1;}#sk-container-id-1 div.sk-parallel-item {display: flex;flex-direction: column;z-index: 1;position: relative;background-color: white;}#sk-container-id-1 div.sk-parallel-item:first-child::after {align-self: flex-end;width: 50%;}#sk-container-id-1 div.sk-parallel-item:last-child::after {align-self: flex-start;width: 50%;}#sk-container-id-1 div.sk-parallel-item:only-child::after {width: 0;}#sk-container-id-1 div.sk-dashed-wrapped {border: 1px dashed gray;margin: 0 0.4em 0.5em 0.4em;box-sizing: border-box;padding-bottom: 0.4em;background-color: white;}#sk-container-id-1 div.sk-label label {font-family: monospace;font-weight: bold;display: inline-block;line-height: 1.2em;}#sk-container-id-1 div.sk-label-container {text-align: center;}#sk-container-id-1 div.sk-container {/* jupyter's `normalize.less` sets `[hidden] { display: none; }` but bootstrap.min.css set `[hidden] { display: none !important; }` so we also need the `!important` here to be able to override the default hidden behavior on the sphinx rendered scikit-learn.org. See: https://github.com/scikit-learn/scikit-learn/issues/21755 */display: inline-block !important;position: relative;}#sk-container-id-1 div.sk-text-repr-fallback {display: none;}</style><div id=\"sk-container-id-1\" class=\"sk-top-container\"><div class=\"sk-text-repr-fallback\"><pre>KNeighborsClassifier()</pre><b>In a Jupyter environment, please rerun this cell to show the HTML representation or trust the notebook. <br />On GitHub, the HTML representation is unable to render, please try loading this page with nbviewer.org.</b></div><div class=\"sk-container\" hidden><div class=\"sk-item\"><div class=\"sk-estimator sk-toggleable\"><input class=\"sk-toggleable__control sk-hidden--visually\" id=\"sk-estimator-id-1\" type=\"checkbox\" checked><label for=\"sk-estimator-id-1\" class=\"sk-toggleable__label sk-toggleable__label-arrow\">KNeighborsClassifier</label><div class=\"sk-toggleable__content\"><pre>KNeighborsClassifier()</pre></div></div></div></div></div>"
      ],
      "text/plain": [
       "KNeighborsClassifier()"
      ]
     },
     "execution_count": 73,
     "metadata": {},
     "output_type": "execute_result"
    }
   ],
   "source": [
    "from sklearn.neighbors import KNeighborsClassifier \n",
    "classknn=KNeighborsClassifier(n_neighbors=5,metric='minkowski',p=2)\n",
    "classknn.fit(x_train_n,y_train)"
   ]
  },
  {
   "cell_type": "code",
   "execution_count": 74,
   "id": "0b0392b6-ada2-4d08-b1d4-564629b58990",
   "metadata": {},
   "outputs": [
    {
     "data": {
      "text/plain": [
       "(4344960, 3, 3)"
      ]
     },
     "execution_count": 74,
     "metadata": {},
     "output_type": "execute_result"
    }
   ],
   "source": [
    "x_test.shape"
   ]
  },
  {
   "cell_type": "code",
   "execution_count": 75,
   "id": "a25a077e-c3ad-476b-b937-e22c55ebedd3",
   "metadata": {},
   "outputs": [],
   "source": [
    "x_test_n=x_test.reshape(4344960,9)\n",
    "y_test_n=y_test.reshape(4344960)"
   ]
  },
  {
   "cell_type": "code",
   "execution_count": 76,
   "id": "dfb38682-21d4-4659-ba77-e3313a65a54d",
   "metadata": {},
   "outputs": [
    {
     "name": "stdout",
     "output_type": "stream",
     "text": [
      "[[12 12]\n",
      " [11 11]\n",
      " [12 12]\n",
      " ...\n",
      " [12 12]\n",
      " [11 11]\n",
      " [12 11]]\n"
     ]
    }
   ],
   "source": [
    "y_pred=classknn.predict(x_test_n)\n",
    "y_pred.shape\n",
    "#y_pred=classifier.predict(y_test_n)\n",
    "print(np.concatenate((y_pred.reshape(len(y_pred),1),y_test.reshape(len(y_test_n),1)),1))\n"
   ]
  },
  {
   "cell_type": "code",
   "execution_count": 77,
   "id": "5ec7ca0d-80b2-4ceb-94ae-3ae7ed43db65",
   "metadata": {},
   "outputs": [
    {
     "name": "stdout",
     "output_type": "stream",
     "text": [
      "[[ 145490 1163463]\n",
      " [ 491288 2544719]]\n"
     ]
    },
    {
     "data": {
      "text/plain": [
       "0.6191562177787597"
      ]
     },
     "execution_count": 77,
     "metadata": {},
     "output_type": "execute_result"
    }
   ],
   "source": [
    "from sklearn.metrics import confusion_matrix, accuracy_score\n",
    "cm= confusion_matrix(y_test_n, y_pred)\n",
    "print(cm)\n",
    "accuracy_score(y_test_n,y_pred)\n"
   ]
  },
  {
   "cell_type": "code",
   "execution_count": 78,
   "id": "c00a3daf-6dc9-4e79-bbb0-f822164a30c5",
   "metadata": {},
   "outputs": [
    {
     "data": {
      "text/html": [
       "<style>#sk-container-id-2 {color: black;background-color: white;}#sk-container-id-2 pre{padding: 0;}#sk-container-id-2 div.sk-toggleable {background-color: white;}#sk-container-id-2 label.sk-toggleable__label {cursor: pointer;display: block;width: 100%;margin-bottom: 0;padding: 0.3em;box-sizing: border-box;text-align: center;}#sk-container-id-2 label.sk-toggleable__label-arrow:before {content: \"▸\";float: left;margin-right: 0.25em;color: #696969;}#sk-container-id-2 label.sk-toggleable__label-arrow:hover:before {color: black;}#sk-container-id-2 div.sk-estimator:hover label.sk-toggleable__label-arrow:before {color: black;}#sk-container-id-2 div.sk-toggleable__content {max-height: 0;max-width: 0;overflow: hidden;text-align: left;background-color: #f0f8ff;}#sk-container-id-2 div.sk-toggleable__content pre {margin: 0.2em;color: black;border-radius: 0.25em;background-color: #f0f8ff;}#sk-container-id-2 input.sk-toggleable__control:checked~div.sk-toggleable__content {max-height: 200px;max-width: 100%;overflow: auto;}#sk-container-id-2 input.sk-toggleable__control:checked~label.sk-toggleable__label-arrow:before {content: \"▾\";}#sk-container-id-2 div.sk-estimator input.sk-toggleable__control:checked~label.sk-toggleable__label {background-color: #d4ebff;}#sk-container-id-2 div.sk-label input.sk-toggleable__control:checked~label.sk-toggleable__label {background-color: #d4ebff;}#sk-container-id-2 input.sk-hidden--visually {border: 0;clip: rect(1px 1px 1px 1px);clip: rect(1px, 1px, 1px, 1px);height: 1px;margin: -1px;overflow: hidden;padding: 0;position: absolute;width: 1px;}#sk-container-id-2 div.sk-estimator {font-family: monospace;background-color: #f0f8ff;border: 1px dotted black;border-radius: 0.25em;box-sizing: border-box;margin-bottom: 0.5em;}#sk-container-id-2 div.sk-estimator:hover {background-color: #d4ebff;}#sk-container-id-2 div.sk-parallel-item::after {content: \"\";width: 100%;border-bottom: 1px solid gray;flex-grow: 1;}#sk-container-id-2 div.sk-label:hover label.sk-toggleable__label {background-color: #d4ebff;}#sk-container-id-2 div.sk-serial::before {content: \"\";position: absolute;border-left: 1px solid gray;box-sizing: border-box;top: 0;bottom: 0;left: 50%;z-index: 0;}#sk-container-id-2 div.sk-serial {display: flex;flex-direction: column;align-items: center;background-color: white;padding-right: 0.2em;padding-left: 0.2em;position: relative;}#sk-container-id-2 div.sk-item {position: relative;z-index: 1;}#sk-container-id-2 div.sk-parallel {display: flex;align-items: stretch;justify-content: center;background-color: white;position: relative;}#sk-container-id-2 div.sk-item::before, #sk-container-id-2 div.sk-parallel-item::before {content: \"\";position: absolute;border-left: 1px solid gray;box-sizing: border-box;top: 0;bottom: 0;left: 50%;z-index: -1;}#sk-container-id-2 div.sk-parallel-item {display: flex;flex-direction: column;z-index: 1;position: relative;background-color: white;}#sk-container-id-2 div.sk-parallel-item:first-child::after {align-self: flex-end;width: 50%;}#sk-container-id-2 div.sk-parallel-item:last-child::after {align-self: flex-start;width: 50%;}#sk-container-id-2 div.sk-parallel-item:only-child::after {width: 0;}#sk-container-id-2 div.sk-dashed-wrapped {border: 1px dashed gray;margin: 0 0.4em 0.5em 0.4em;box-sizing: border-box;padding-bottom: 0.4em;background-color: white;}#sk-container-id-2 div.sk-label label {font-family: monospace;font-weight: bold;display: inline-block;line-height: 1.2em;}#sk-container-id-2 div.sk-label-container {text-align: center;}#sk-container-id-2 div.sk-container {/* jupyter's `normalize.less` sets `[hidden] { display: none; }` but bootstrap.min.css set `[hidden] { display: none !important; }` so we also need the `!important` here to be able to override the default hidden behavior on the sphinx rendered scikit-learn.org. See: https://github.com/scikit-learn/scikit-learn/issues/21755 */display: inline-block !important;position: relative;}#sk-container-id-2 div.sk-text-repr-fallback {display: none;}</style><div id=\"sk-container-id-2\" class=\"sk-top-container\"><div class=\"sk-text-repr-fallback\"><pre>KNeighborsClassifier(n_neighbors=25)</pre><b>In a Jupyter environment, please rerun this cell to show the HTML representation or trust the notebook. <br />On GitHub, the HTML representation is unable to render, please try loading this page with nbviewer.org.</b></div><div class=\"sk-container\" hidden><div class=\"sk-item\"><div class=\"sk-estimator sk-toggleable\"><input class=\"sk-toggleable__control sk-hidden--visually\" id=\"sk-estimator-id-2\" type=\"checkbox\" checked><label for=\"sk-estimator-id-2\" class=\"sk-toggleable__label sk-toggleable__label-arrow\">KNeighborsClassifier</label><div class=\"sk-toggleable__content\"><pre>KNeighborsClassifier(n_neighbors=25)</pre></div></div></div></div></div>"
      ],
      "text/plain": [
       "KNeighborsClassifier(n_neighbors=25)"
      ]
     },
     "execution_count": 78,
     "metadata": {},
     "output_type": "execute_result"
    }
   ],
   "source": [
    "from sklearn.neighbors import KNeighborsClassifier \n",
    "classknn=KNeighborsClassifier(n_neighbors=25,metric='minkowski',p=2)\n",
    "classknn.fit(x_train_n,y_train)"
   ]
  },
  {
   "cell_type": "code",
   "execution_count": 79,
   "id": "70ec1fed-6197-4e01-98b8-90afc5ceb130",
   "metadata": {},
   "outputs": [
    {
     "name": "stdout",
     "output_type": "stream",
     "text": [
      "[[12 12]\n",
      " [12 11]\n",
      " [12 12]\n",
      " ...\n",
      " [12 12]\n",
      " [12 11]\n",
      " [12 11]]\n"
     ]
    }
   ],
   "source": [
    "y_pred=classknn.predict(x_test_n)\n",
    "y_pred.shape\n",
    "#y_pred=classifier.predict(y_test_n)\n",
    "print(np.concatenate((y_pred.reshape(len(y_pred),1),y_test.reshape(len(y_test_n),1)),1))"
   ]
  },
  {
   "cell_type": "code",
   "execution_count": 80,
   "id": "ec8a34fb-f65b-449f-a74f-d86e5fb2f7b4",
   "metadata": {},
   "outputs": [
    {
     "name": "stdout",
     "output_type": "stream",
     "text": [
      "[[  15133 1293820]\n",
      " [  36358 2999649]]\n"
     ]
    },
    {
     "data": {
      "text/plain": [
       "0.6938572506996612"
      ]
     },
     "execution_count": 80,
     "metadata": {},
     "output_type": "execute_result"
    }
   ],
   "source": [
    "from sklearn.metrics import confusion_matrix, accuracy_score\n",
    "cm= confusion_matrix(y_test_n, y_pred)\n",
    "print(cm)\n",
    "accuracy_score(y_test_n,y_pred)\n"
   ]
  },
  {
   "cell_type": "code",
   "execution_count": 81,
   "id": "7c97b22b-bee4-46aa-a5da-09bdb9a732e1",
   "metadata": {},
   "outputs": [],
   "source": [
    "#from sklearn.ensemble import RandomForestClassifier\n",
    "#classifier_forest=RandomForestClassifier(n_estimators=10,criterion='entropy',random_state=0)\n",
    "#classifier_forest.fit(x_train_n,y_train)"
   ]
  },
  {
   "cell_type": "code",
   "execution_count": 82,
   "id": "264f62ea-d593-472d-a195-c5a7cb526760",
   "metadata": {},
   "outputs": [],
   "source": [
    "#y_pred=classifier_forest.predict(x_test_n)\n",
    "#y_pred.shape\n",
    "#y_pred=classifier.predict(y_test_n)\n",
    "#print(np.concatenate((y_pred.reshape(len(y_pred),1),y_test.reshape(len(y_test_n),1)),1))\n"
   ]
  },
  {
   "cell_type": "code",
   "execution_count": 83,
   "id": "45a1c95e-88a5-4306-b053-7bcfd20b6435",
   "metadata": {},
   "outputs": [],
   "source": [
    "#from sklearn.metrics import confusion_matrix, accuracy_score\n",
    "#cm= confusion_matrix(y_test_n, y_pred)\n",
    "#print(cm)\n",
    "#accuracy_score(y_test_n,y_pred)\n"
   ]
  },
  {
   "cell_type": "code",
   "execution_count": null,
   "id": "e490109a-d807-4c1c-9501-d7a3f5c0f98b",
   "metadata": {},
   "outputs": [],
   "source": []
  }
 ],
 "metadata": {
  "kernelspec": {
   "display_name": "Python 3 (ipykernel)",
   "language": "python",
   "name": "python3"
  },
  "language_info": {
   "codemirror_mode": {
    "name": "ipython",
    "version": 3
   },
   "file_extension": ".py",
   "mimetype": "text/x-python",
   "name": "python",
   "nbconvert_exporter": "python",
   "pygments_lexer": "ipython3",
   "version": "3.11.0"
  }
 },
 "nbformat": 4,
 "nbformat_minor": 5
}
