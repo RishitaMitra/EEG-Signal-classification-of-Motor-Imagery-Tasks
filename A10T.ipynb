{
 "cells": [
  {
   "cell_type": "code",
   "execution_count": 1,
   "id": "410a28c9-eec7-4704-ad62-c726258e548f",
   "metadata": {},
   "outputs": [],
   "source": [
    "#Importing modules\n",
    "import os\n",
    "import mne\n",
    "import numpy as np\n",
    "import pandas as df\n",
    "from scipy.signal import butter, lfilter\n",
    "from scipy.signal import freqz\n",
    "\n"
   ]
  },
  {
   "cell_type": "code",
   "execution_count": 2,
   "id": "76467d92-8c78-4b9a-a108-90f2e83127ef",
   "metadata": {},
   "outputs": [
    {
     "name": "stdout",
     "output_type": "stream",
     "text": [
      "Extracting EDF parameters from C:\\Users\\Lenovo\\Desktop\\JU\\motornew\\A01T.gdf...\n",
      "GDF file detected\n",
      "Setting channel info structure...\n",
      "Could not determine channel type of the following channels, they will be set as EEG:\n",
      "EEG-Fz, EEG, EEG, EEG, EEG, EEG, EEG, EEG-C3, EEG, EEG-Cz, EEG, EEG-C4, EEG, EEG, EEG, EEG, EEG, EEG, EEG, EEG-Pz, EEG, EEG\n",
      "Creating raw.info structure...\n",
      "Reading 0 ... 672527  =      0.000 ...  2690.108 secs...\n"
     ]
    },
    {
     "name": "stderr",
     "output_type": "stream",
     "text": [
      "C:\\Python311\\Lib\\contextlib.py:144: RuntimeWarning: Channel names are not unique, found duplicates for: {'EEG'}. Applying running numbers for duplicates.\n",
      "  next(self.gen)\n"
     ]
    },
    {
     "name": "stdout",
     "output_type": "stream",
     "text": [
      "Extracting EDF parameters from C:\\Users\\Lenovo\\Desktop\\JU\\motornew\\A02T.gdf...\n",
      "GDF file detected\n",
      "Setting channel info structure...\n",
      "Could not determine channel type of the following channels, they will be set as EEG:\n",
      "EEG-Fz, EEG, EEG, EEG, EEG, EEG, EEG, EEG-C3, EEG, EEG-Cz, EEG, EEG-C4, EEG, EEG, EEG, EEG, EEG, EEG, EEG, EEG-Pz, EEG, EEG\n",
      "Creating raw.info structure...\n",
      "Reading 0 ... 677168  =      0.000 ...  2708.672 secs...\n"
     ]
    },
    {
     "name": "stderr",
     "output_type": "stream",
     "text": [
      "C:\\Python311\\Lib\\contextlib.py:144: RuntimeWarning: Channel names are not unique, found duplicates for: {'EEG'}. Applying running numbers for duplicates.\n",
      "  next(self.gen)\n"
     ]
    },
    {
     "name": "stdout",
     "output_type": "stream",
     "text": [
      "Extracting EDF parameters from C:\\Users\\Lenovo\\Desktop\\JU\\motornew\\A03T.gdf...\n",
      "GDF file detected\n",
      "Setting channel info structure...\n",
      "Could not determine channel type of the following channels, they will be set as EEG:\n",
      "EEG-Fz, EEG, EEG, EEG, EEG, EEG, EEG, EEG-C3, EEG, EEG-Cz, EEG, EEG-C4, EEG, EEG, EEG, EEG, EEG, EEG, EEG, EEG-Pz, EEG, EEG\n",
      "Creating raw.info structure...\n",
      "Reading 0 ... 660529  =      0.000 ...  2642.116 secs...\n"
     ]
    },
    {
     "name": "stderr",
     "output_type": "stream",
     "text": [
      "C:\\Python311\\Lib\\contextlib.py:144: RuntimeWarning: Channel names are not unique, found duplicates for: {'EEG'}. Applying running numbers for duplicates.\n",
      "  next(self.gen)\n"
     ]
    },
    {
     "name": "stdout",
     "output_type": "stream",
     "text": [
      "Extracting EDF parameters from C:\\Users\\Lenovo\\Desktop\\JU\\motornew\\A05T.gdf...\n",
      "GDF file detected\n",
      "Setting channel info structure...\n",
      "Could not determine channel type of the following channels, they will be set as EEG:\n",
      "EEG-Fz, EEG, EEG, EEG, EEG, EEG, EEG, EEG-C3, EEG, EEG-Cz, EEG, EEG-C4, EEG, EEG, EEG, EEG, EEG, EEG, EEG, EEG-Pz, EEG, EEG\n",
      "Creating raw.info structure...\n",
      "Reading 0 ... 686119  =      0.000 ...  2744.476 secs...\n"
     ]
    },
    {
     "name": "stderr",
     "output_type": "stream",
     "text": [
      "C:\\Python311\\Lib\\contextlib.py:144: RuntimeWarning: Channel names are not unique, found duplicates for: {'EEG'}. Applying running numbers for duplicates.\n",
      "  next(self.gen)\n"
     ]
    },
    {
     "name": "stdout",
     "output_type": "stream",
     "text": [
      "Extracting EDF parameters from C:\\Users\\Lenovo\\Desktop\\JU\\motornew\\A06T.gdf...\n",
      "GDF file detected\n",
      "Setting channel info structure...\n",
      "Could not determine channel type of the following channels, they will be set as EEG:\n",
      "EEG-Fz, EEG, EEG, EEG, EEG, EEG, EEG, EEG-C3, EEG, EEG-Cz, EEG, EEG-C4, EEG, EEG, EEG, EEG, EEG, EEG, EEG, EEG-Pz, EEG, EEG\n",
      "Creating raw.info structure...\n",
      "Reading 0 ... 678979  =      0.000 ...  2715.916 secs...\n"
     ]
    },
    {
     "name": "stderr",
     "output_type": "stream",
     "text": [
      "C:\\Python311\\Lib\\contextlib.py:144: RuntimeWarning: Channel names are not unique, found duplicates for: {'EEG'}. Applying running numbers for duplicates.\n",
      "  next(self.gen)\n"
     ]
    },
    {
     "name": "stdout",
     "output_type": "stream",
     "text": [
      "Extracting EDF parameters from C:\\Users\\Lenovo\\Desktop\\JU\\motornew\\A07T.gdf...\n",
      "GDF file detected\n",
      "Setting channel info structure...\n",
      "Could not determine channel type of the following channels, they will be set as EEG:\n",
      "EEG-Fz, EEG, EEG, EEG, EEG, EEG, EEG, EEG-C3, EEG, EEG-Cz, EEG, EEG-C4, EEG, EEG, EEG, EEG, EEG, EEG, EEG, EEG-Pz, EEG, EEG\n",
      "Creating raw.info structure...\n",
      "Reading 0 ... 681070  =      0.000 ...  2724.280 secs...\n"
     ]
    },
    {
     "name": "stderr",
     "output_type": "stream",
     "text": [
      "C:\\Python311\\Lib\\contextlib.py:144: RuntimeWarning: Channel names are not unique, found duplicates for: {'EEG'}. Applying running numbers for duplicates.\n",
      "  next(self.gen)\n"
     ]
    },
    {
     "name": "stdout",
     "output_type": "stream",
     "text": [
      "Extracting EDF parameters from C:\\Users\\Lenovo\\Desktop\\JU\\motornew\\A08T.gdf...\n",
      "GDF file detected\n",
      "Setting channel info structure...\n",
      "Could not determine channel type of the following channels, they will be set as EEG:\n",
      "EEG-Fz, EEG, EEG, EEG, EEG, EEG, EEG, EEG-C3, EEG, EEG-Cz, EEG, EEG-C4, EEG, EEG, EEG, EEG, EEG, EEG, EEG, EEG-Pz, EEG, EEG\n",
      "Creating raw.info structure...\n",
      "Reading 0 ... 675269  =      0.000 ...  2701.076 secs...\n"
     ]
    },
    {
     "name": "stderr",
     "output_type": "stream",
     "text": [
      "C:\\Python311\\Lib\\contextlib.py:144: RuntimeWarning: Channel names are not unique, found duplicates for: {'EEG'}. Applying running numbers for duplicates.\n",
      "  next(self.gen)\n"
     ]
    },
    {
     "name": "stdout",
     "output_type": "stream",
     "text": [
      "Extracting EDF parameters from C:\\Users\\Lenovo\\Desktop\\JU\\motornew\\A09T.gdf...\n",
      "GDF file detected\n",
      "Setting channel info structure...\n",
      "Could not determine channel type of the following channels, they will be set as EEG:\n",
      "EEG-Fz, EEG, EEG, EEG, EEG, EEG, EEG, EEG-C3, EEG, EEG-Cz, EEG, EEG-C4, EEG, EEG, EEG, EEG, EEG, EEG, EEG, EEG-Pz, EEG, EEG\n",
      "Creating raw.info structure...\n",
      "Reading 0 ... 673327  =      0.000 ...  2693.308 secs...\n"
     ]
    },
    {
     "name": "stderr",
     "output_type": "stream",
     "text": [
      "C:\\Python311\\Lib\\contextlib.py:144: RuntimeWarning: Channel names are not unique, found duplicates for: {'EEG'}. Applying running numbers for duplicates.\n",
      "  next(self.gen)\n"
     ]
    }
   ],
   "source": [
    "#dropping the eog channels as we will be working only on 22 eeg channels\n",
    "file_paths_1 = [\n",
    "    'A01T.gdf',\n",
    "    'A02T.gdf',\n",
    "    'A03T.gdf',\n",
    "    'A05T.gdf',\n",
    "    'A06T.gdf',\n",
    "    'A07T.gdf',\n",
    "    'A08T.gdf',\n",
    "    'A09T.gdf'\n",
    "]\n",
    "raw = []\n",
    "\n",
    "for file_path in file_paths_1:\n",
    "    raw_data = mne.io.read_raw_gdf(file_path,preload=True, eog=['EOG-left', 'EOG-central', 'EOG-right'])\n",
    "    \n",
    "    p=raw_data.drop_channels(['EOG-left', 'EOG-central', 'EOG-right'])\n",
    "    #eeg_data = p.get_data()  # Get the EEG data as a numpy array\n",
    "    #eeg_data_list.append(eeg_data)\n",
    "    raw.append(p)\n",
    "\n",
    "\n",
    "#datax=mne.io.read_raw_gdf('A09T.gdf',preload=True, eog=['EOG-left', 'EOG-central', 'EOG-right'])\n",
    "#p=datax.drop_channels(['EOG-left', 'EOG-central', 'EOG-right'])"
   ]
  },
  {
   "cell_type": "code",
   "execution_count": 3,
   "id": "a6b3f1db-2e0a-4a93-9da1-57783b69765c",
   "metadata": {},
   "outputs": [
    {
     "data": {
      "text/plain": [
       "mne.io.edf.edf.RawGDF"
      ]
     },
     "execution_count": 3,
     "metadata": {},
     "output_type": "execute_result"
    }
   ],
   "source": [
    "#len(raw[7][0])\n",
    "#eeg_array = np.stack(raw, axis=0)\n",
    "#for i in range(0,7):\n",
    "#arr=np.array(raw)\n",
    "type(raw[0])\n",
    "\n",
    "#arr.shape\n",
    "#type(raw[0])\n",
    "#raw[0].shape\n",
    "#import array\n",
    "#my_array=array.array('i',raw)\n",
    "#printing the file details\n",
    "#print(raw[7])\n",
    "#printing the file info details\n",
    "#print(raw.info)"
   ]
  },
  {
   "cell_type": "code",
   "execution_count": 4,
   "id": "0b37b113-1d8f-4087-b9b1-90736c2835a8",
   "metadata": {},
   "outputs": [
    {
     "name": "stdout",
     "output_type": "stream",
     "text": [
      "Used Annotations descriptions: ['1023', '1072', '276', '277', '32766', '768', '769', '770', '771', '772']\n",
      "Used Annotations descriptions: ['1023', '1072', '276', '277', '32766', '768', '769', '770', '771', '772']\n",
      "Used Annotations descriptions: ['1023', '1072', '276', '277', '32766', '768', '769', '770', '771', '772']\n",
      "Used Annotations descriptions: ['1023', '1072', '276', '277', '32766', '768', '769', '770', '771', '772']\n",
      "Used Annotations descriptions: ['1023', '1072', '276', '277', '32766', '768', '769', '770', '771', '772']\n",
      "Used Annotations descriptions: ['1023', '1072', '276', '277', '32766', '768', '769', '770', '771', '772']\n",
      "Used Annotations descriptions: ['1023', '1072', '276', '277', '32766', '768', '769', '770', '771', '772']\n",
      "Used Annotations descriptions: ['1023', '1072', '276', '277', '32766', '768', '769', '770', '771', '772']\n"
     ]
    }
   ],
   "source": [
    "#Annotation object for annotating segments of raw data.\n",
    "for i in range(0,8):\n",
    "    raw[i].annotations\n",
    "    events=mne.events_from_annotations(raw[i])\n",
    "    #printing the 1st index of the events which contains the overall details of the file\n",
    "    events[1]\n",
    "    "
   ]
  },
  {
   "cell_type": "code",
   "execution_count": null,
   "id": "f4699d33-33ca-46bc-9768-8b3456667e54",
   "metadata": {},
   "outputs": [],
   "source": []
  },
  {
   "cell_type": "code",
   "execution_count": 5,
   "id": "6021291d-e250-478d-ab18-cc32c3219f0d",
   "metadata": {},
   "outputs": [
    {
     "data": {
      "text/plain": [
       "2"
      ]
     },
     "execution_count": 5,
     "metadata": {},
     "output_type": "execute_result"
    }
   ],
   "source": [
    "#printing the length of the events\n",
    "len(events)"
   ]
  },
  {
   "cell_type": "code",
   "execution_count": 6,
   "id": "9de6f751-0145-486d-b9b9-a50ceca72b9e",
   "metadata": {},
   "outputs": [
    {
     "data": {
      "text/plain": [
       "array([[     0,      0,      5],\n",
       "       [     0,      0,      3],\n",
       "       [ 30878,      0,      5],\n",
       "       [ 30878,      0,      4],\n",
       "       [ 54282,      0,      5],\n",
       "       [ 54282,      0,      2],\n",
       "       [ 92318,      0,      5],\n",
       "       [ 92668,      0,      6],\n",
       "       [ 92668,      0,      1],\n",
       "       [ 93168,      0,     10],\n",
       "       [ 94671,      0,      6],\n",
       "       [ 95171,      0,      8],\n",
       "       [ 96589,      0,      6],\n",
       "       [ 97089,      0,      8],\n",
       "       [ 98541,      0,      6],\n",
       "       [ 98541,      0,      1],\n",
       "       [ 99041,      0,      7],\n",
       "       [100549,      0,      6],\n",
       "       [100549,      0,      1],\n",
       "       [101049,      0,     10]])"
      ]
     },
     "execution_count": 6,
     "metadata": {},
     "output_type": "execute_result"
    }
   ],
   "source": [
    "#events[0] contains the main data in which we should work on \n",
    "events[0][0:20]"
   ]
  },
  {
   "cell_type": "code",
   "execution_count": 7,
   "id": "c664c320-158c-413d-a588-185feb9a81a3",
   "metadata": {},
   "outputs": [],
   "source": [
    "#creating a event dictionary\n",
    "event_dict={\n",
    " 'reject':1,\n",
    " 'eye move':2,\n",
    " 'eye open':3,\n",
    " 'eye close':4,\n",
    " 'new run':5,\n",
    " 'new trial':6,\n",
    " 'class 1':7,\n",
    " 'class 2':8,\n",
    " 'class 3':9,\n",
    " 'class 4':10,\n",
    "}"
   ]
  },
  {
   "cell_type": "code",
   "execution_count": 8,
   "id": "0295b776-a1d3-4df8-88b5-7ef81df6cd91",
   "metadata": {},
   "outputs": [],
   "source": [
    "for i in range(0,8):\n",
    "    rawinfo=raw[i].info"
   ]
  },
  {
   "cell_type": "code",
   "execution_count": 9,
   "id": "b44cc71b-6643-45c5-bae3-f91a3d760ee2",
   "metadata": {},
   "outputs": [
    {
     "data": {
      "text/html": [
       "<table class=\"table table-hover table-striped table-sm table-responsive small\">\n",
       "    <tr>\n",
       "        <th>Measurement date</th>\n",
       "        \n",
       "        <td>November 16, 2004  12:00:00 GMT</td>\n",
       "        \n",
       "    </tr>\n",
       "    <tr>\n",
       "        <th>Experimenter</th>\n",
       "        \n",
       "        <td>Unknown</td>\n",
       "        \n",
       "    </tr>\n",
       "        <th>Participant</th>\n",
       "        \n",
       "        <td>Unknown</td>\n",
       "        \n",
       "    </tr>\n",
       "    <tr>\n",
       "        <th>Digitized points</th>\n",
       "        \n",
       "        <td>Not available</td>\n",
       "        \n",
       "    </tr>\n",
       "    <tr>\n",
       "        <th>Good channels</th>\n",
       "        <td>22 EEG</td>\n",
       "    </tr>\n",
       "    <tr>\n",
       "        <th>Bad channels</th>\n",
       "        <td>None</td>\n",
       "    </tr>\n",
       "    <tr>\n",
       "        <th>EOG channels</th>\n",
       "        <td>Not available</td>\n",
       "    </tr>\n",
       "    <tr>\n",
       "        <th>ECG channels</th>\n",
       "        <td>Not available</td>\n",
       "    \n",
       "    <tr>\n",
       "        <th>Sampling frequency</th>\n",
       "        <td>250.00 Hz</td>\n",
       "    </tr>\n",
       "    \n",
       "    \n",
       "    <tr>\n",
       "        <th>Highpass</th>\n",
       "        <td>0.50 Hz</td>\n",
       "    </tr>\n",
       "    \n",
       "    \n",
       "    <tr>\n",
       "        <th>Lowpass</th>\n",
       "        <td>100.00 Hz</td>\n",
       "    </tr>\n",
       "    \n",
       "    \n",
       "</table>"
      ],
      "text/plain": [
       "<Info | 7 non-empty values\n",
       " bads: []\n",
       " ch_names: EEG-Fz, EEG-0, EEG-1, EEG-2, EEG-3, EEG-4, EEG-5, EEG-C3, EEG-6, ...\n",
       " chs: 22 EEG\n",
       " custom_ref_applied: False\n",
       " highpass: 0.5 Hz\n",
       " lowpass: 100.0 Hz\n",
       " meas_date: 2004-11-16 12:00:00 UTC\n",
       " nchan: 22\n",
       " projs: []\n",
       " sfreq: 250.0 Hz\n",
       ">"
      ]
     },
     "execution_count": 9,
     "metadata": {},
     "output_type": "execute_result"
    }
   ],
   "source": [
    "rawinfo"
   ]
  },
  {
   "cell_type": "code",
   "execution_count": 10,
   "id": "e8686977-b954-4c91-986a-6a16d63b61ce",
   "metadata": {},
   "outputs": [],
   "source": [
    "chs = ['EEG-Fz', 'EEG-0', 'EEG-1', 'EEG-2', 'EEG-3', 'EEG-4', 'EEG-5','EEG-C3','EEG-6','EEG-Cz','EEG-7','EEG-C4','EEG-8','EEG-9','EEG-10','EEG-11','EEG-12','EEG-13','EEG-14','EEG-Pz','EEG-15','EEG-16','EOG-left','EOG-central','EOG-right']"
   ]
  },
  {
   "cell_type": "code",
   "execution_count": 11,
   "id": "24c2f168-ef77-4e3f-8fe0-a815a468a5cd",
   "metadata": {},
   "outputs": [
    {
     "name": "stdout",
     "output_type": "stream",
     "text": [
      "Not setting metadata\n",
      "72 matching events found\n",
      "Setting baseline interval to [-0.1, 0.0] sec\n",
      "Applying baseline correction (mode: mean)\n",
      "0 projection items activated\n",
      "Using data from preloaded Raw for 72 events and 1501 original time points ...\n",
      "0 bad epochs dropped\n",
      "Not setting metadata\n",
      "72 matching events found\n",
      "Setting baseline interval to [-0.1, 0.0] sec\n",
      "Applying baseline correction (mode: mean)\n",
      "0 projection items activated\n",
      "Using data from preloaded Raw for 72 events and 1501 original time points ...\n",
      "0 bad epochs dropped\n",
      "Not setting metadata\n",
      "72 matching events found\n",
      "Setting baseline interval to [-0.1, 0.0] sec\n",
      "Applying baseline correction (mode: mean)\n",
      "0 projection items activated\n",
      "Using data from preloaded Raw for 72 events and 1501 original time points ...\n",
      "1 bad epochs dropped\n",
      "Not setting metadata\n",
      "72 matching events found\n",
      "Setting baseline interval to [-0.1, 0.0] sec\n",
      "Applying baseline correction (mode: mean)\n",
      "0 projection items activated\n",
      "Using data from preloaded Raw for 72 events and 1501 original time points ...\n",
      "0 bad epochs dropped\n",
      "Not setting metadata\n",
      "72 matching events found\n",
      "Setting baseline interval to [-0.1, 0.0] sec\n",
      "Applying baseline correction (mode: mean)\n",
      "0 projection items activated\n",
      "Using data from preloaded Raw for 72 events and 1501 original time points ...\n",
      "0 bad epochs dropped\n",
      "Not setting metadata\n",
      "72 matching events found\n",
      "Setting baseline interval to [-0.1, 0.0] sec\n",
      "Applying baseline correction (mode: mean)\n",
      "0 projection items activated\n",
      "Using data from preloaded Raw for 72 events and 1501 original time points ...\n",
      "0 bad epochs dropped\n",
      "Not setting metadata\n",
      "72 matching events found\n",
      "Setting baseline interval to [-0.1, 0.0] sec\n",
      "Applying baseline correction (mode: mean)\n",
      "0 projection items activated\n",
      "Using data from preloaded Raw for 72 events and 1501 original time points ...\n",
      "0 bad epochs dropped\n",
      "Not setting metadata\n",
      "72 matching events found\n",
      "Setting baseline interval to [-0.1, 0.0] sec\n",
      "Applying baseline correction (mode: mean)\n",
      "0 projection items activated\n",
      "Using data from preloaded Raw for 72 events and 1501 original time points ...\n",
      "0 bad epochs dropped\n"
     ]
    }
   ],
   "source": [
    "#we reject 3rd file due to bad epochs\n",
    "classA = mne.Epochs(raw[0], events[0], event_id=[7],tmin=-0.1, tmax=5.9, preload=True)\n",
    "classA1 = mne.Epochs(raw[1], events[0], event_id=[7],tmin=-0.1, tmax=5.9, preload=True)\n",
    "classA= np.append(classA,classA1)\n",
    "classA2 = mne.Epochs(raw[2], events[0], event_id=[7],tmin=-0.1, tmax=5.9, preload=True)\n",
    "classA= np.append(classA,classA2)\n",
    "classA3 = mne.Epochs(raw[3], events[0], event_id=[7],tmin=-0.1, tmax=5.9, preload=True)\n",
    "classA= np.append(classA,classA3)\n",
    "classA4 = mne.Epochs(raw[4], events[0], event_id=[7],tmin=-0.1, tmax=5.9, preload=True)\n",
    "classA= np.append(classA,classA4)\n",
    "classA5 = mne.Epochs(raw[5], events[0], event_id=[7],tmin=-0.1, tmax=5.9, preload=True)\n",
    "classA= np.append(classA,classA5)\n",
    "classA6 = mne.Epochs(raw[6], events[0], event_id=[7],tmin=-0.1, tmax=5.9, preload=True)\n",
    "classA= np.append(classA,classA6)\n",
    "classA7 = mne.Epochs(raw[7], events[0], event_id=[7],tmin=-0.1, tmax=5.9, preload=True)\n",
    "classA= np.append(classA,classA7)\n",
    "\n"
   ]
  },
  {
   "cell_type": "code",
   "execution_count": 12,
   "id": "842cd892-f45e-4223-9b43-eceaf7062dfc",
   "metadata": {},
   "outputs": [
    {
     "name": "stdout",
     "output_type": "stream",
     "text": [
      "Not setting metadata\n",
      "72 matching events found\n",
      "Setting baseline interval to [-0.1, 0.0] sec\n",
      "Applying baseline correction (mode: mean)\n",
      "0 projection items activated\n",
      "Using data from preloaded Raw for 72 events and 1501 original time points ...\n",
      "0 bad epochs dropped\n",
      "Not setting metadata\n",
      "72 matching events found\n",
      "Setting baseline interval to [-0.1, 0.0] sec\n",
      "Applying baseline correction (mode: mean)\n",
      "0 projection items activated\n",
      "Using data from preloaded Raw for 72 events and 1501 original time points ...\n",
      "0 bad epochs dropped\n",
      "Not setting metadata\n",
      "72 matching events found\n",
      "Setting baseline interval to [-0.1, 0.0] sec\n",
      "Applying baseline correction (mode: mean)\n",
      "0 projection items activated\n",
      "Using data from preloaded Raw for 72 events and 1501 original time points ...\n",
      "2 bad epochs dropped\n",
      "Not setting metadata\n",
      "72 matching events found\n",
      "Setting baseline interval to [-0.1, 0.0] sec\n",
      "Applying baseline correction (mode: mean)\n",
      "0 projection items activated\n",
      "Using data from preloaded Raw for 72 events and 1501 original time points ...\n",
      "0 bad epochs dropped\n",
      "Not setting metadata\n",
      "72 matching events found\n",
      "Setting baseline interval to [-0.1, 0.0] sec\n",
      "Applying baseline correction (mode: mean)\n",
      "0 projection items activated\n",
      "Using data from preloaded Raw for 72 events and 1501 original time points ...\n",
      "0 bad epochs dropped\n",
      "Not setting metadata\n",
      "72 matching events found\n",
      "Setting baseline interval to [-0.1, 0.0] sec\n",
      "Applying baseline correction (mode: mean)\n",
      "0 projection items activated\n",
      "Using data from preloaded Raw for 72 events and 1501 original time points ...\n",
      "0 bad epochs dropped\n",
      "Not setting metadata\n",
      "72 matching events found\n",
      "Setting baseline interval to [-0.1, 0.0] sec\n",
      "Applying baseline correction (mode: mean)\n",
      "0 projection items activated\n",
      "Using data from preloaded Raw for 72 events and 1501 original time points ...\n",
      "0 bad epochs dropped\n",
      "Not setting metadata\n",
      "72 matching events found\n",
      "Setting baseline interval to [-0.1, 0.0] sec\n",
      "Applying baseline correction (mode: mean)\n",
      "0 projection items activated\n",
      "Using data from preloaded Raw for 72 events and 1501 original time points ...\n",
      "0 bad epochs dropped\n"
     ]
    }
   ],
   "source": [
    "classB= mne.Epochs(raw[0], events[0], event_id=[8],tmin=-0.1, tmax=5.9, preload=True)\n",
    "classB1 = mne.Epochs(raw[1], events[0], event_id=[8],tmin=-0.1, tmax=5.9, preload=True)\n",
    "classB= np.append(classB,classB1)\n",
    "classB2 = mne.Epochs(raw[2], events[0], event_id=[8],tmin=-0.1, tmax=5.9, preload=True)\n",
    "classB= np.append(classB,classB2)\n",
    "classB3 = mne.Epochs(raw[3], events[0], event_id=[8],tmin=-0.1, tmax=5.9, preload=True)\n",
    "classB= np.append(classB,classB3)\n",
    "classB4 = mne.Epochs(raw[4], events[0], event_id=[8],tmin=-0.1, tmax=5.9, preload=True)\n",
    "classB= np.append(classB,classB4)\n",
    "classB5 = mne.Epochs(raw[5], events[0], event_id=[8],tmin=-0.1, tmax=5.9, preload=True)\n",
    "classB= np.append(classB,classB5)\n",
    "classB6 = mne.Epochs(raw[6], events[0], event_id=[8],tmin=-0.1, tmax=5.9, preload=True)\n",
    "classB= np.append(classB,classB6)\n",
    "classB7 = mne.Epochs(raw[7], events[0], event_id=[8],tmin=-0.1, tmax=5.9, preload=True)\n",
    "classB= np.append(classB,classB7)\n"
   ]
  },
  {
   "cell_type": "code",
   "execution_count": 13,
   "id": "e6638ca6-1cd9-4394-aaa3-165708d95446",
   "metadata": {},
   "outputs": [
    {
     "data": {
      "text/plain": [
       "'classC = mne.Epochs(raw[0], events[0], event_id=[9],tmin=-0.1, tmax=5.9, preload=True)\\nclassC1 = mne.Epochs(raw[1], events[0], event_id=[9],tmin=-0.1, tmax=5.9, preload=True)\\nclassC= np.append(classC,classC1)\\nclassC2 = mne.Epochs(raw[2], events[0], event_id=[9],tmin=-0.1, tmax=5.9, preload=True)\\nclassC= np.append(classC,classC2)\\nclassC3 = mne.Epochs(raw[3], events[0], event_id=[9],tmin=-0.1, tmax=5.9, preload=True)\\nclassC= np.append(classC,classC3)\\nclassC4 = mne.Epochs(raw[4], events[0], event_id=[9],tmin=-0.1, tmax=5.9, preload=True)\\nclassC= np.append(classC,classC4)\\nclassC5 = mne.Epochs(raw[5], events[0], event_id=[9],tmin=-0.1, tmax=5.9, preload=True)\\nclassC= np.append(classC,classC5)\\nclassC6 = mne.Epochs(raw[6], events[0], event_id=[9],tmin=-0.1, tmax=5.9, preload=True)\\nclassC= np.append(classC,classC6)\\nclassC7 = mne.Epochs(raw[7], events[0], event_id=[9],tmin=-0.1, tmax=5.9, preload=True)\\nclassC= np.append(classC,classC7)'"
      ]
     },
     "execution_count": 13,
     "metadata": {},
     "output_type": "execute_result"
    }
   ],
   "source": [
    "'''classC = mne.Epochs(raw[0], events[0], event_id=[9],tmin=-0.1, tmax=5.9, preload=True)\n",
    "classC1 = mne.Epochs(raw[1], events[0], event_id=[9],tmin=-0.1, tmax=5.9, preload=True)\n",
    "classC= np.append(classC,classC1)\n",
    "classC2 = mne.Epochs(raw[2], events[0], event_id=[9],tmin=-0.1, tmax=5.9, preload=True)\n",
    "classC= np.append(classC,classC2)\n",
    "classC3 = mne.Epochs(raw[3], events[0], event_id=[9],tmin=-0.1, tmax=5.9, preload=True)\n",
    "classC= np.append(classC,classC3)\n",
    "classC4 = mne.Epochs(raw[4], events[0], event_id=[9],tmin=-0.1, tmax=5.9, preload=True)\n",
    "classC= np.append(classC,classC4)\n",
    "classC5 = mne.Epochs(raw[5], events[0], event_id=[9],tmin=-0.1, tmax=5.9, preload=True)\n",
    "classC= np.append(classC,classC5)\n",
    "classC6 = mne.Epochs(raw[6], events[0], event_id=[9],tmin=-0.1, tmax=5.9, preload=True)\n",
    "classC= np.append(classC,classC6)\n",
    "classC7 = mne.Epochs(raw[7], events[0], event_id=[9],tmin=-0.1, tmax=5.9, preload=True)\n",
    "classC= np.append(classC,classC7)'''"
   ]
  },
  {
   "cell_type": "code",
   "execution_count": 14,
   "id": "ecd46cb3-95e6-4e47-9e8f-bd21fd8a5aa0",
   "metadata": {},
   "outputs": [],
   "source": [
    "#classC.shape"
   ]
  },
  {
   "cell_type": "code",
   "execution_count": 15,
   "id": "2f70c1fc-879c-4660-96fc-91654e399040",
   "metadata": {},
   "outputs": [
    {
     "data": {
      "text/plain": [
       "'classD = mne.Epochs(raw[0], events[0], event_id=[10],tmin=-0.1, tmax=5.9, preload=True)\\nclassD1 = mne.Epochs(raw[1], events[0], event_id=[10],tmin=-0.1, tmax=5.9, preload=True)\\nclassD= np.append(classD,classD1)\\nclassD2 = mne.Epochs(raw[2], events[0], event_id=[10],tmin=-0.1, tmax=5.9, preload=True)\\nclassD= np.append(classD,classD2)\\nclassD3 = mne.Epochs(raw[3], events[0], event_id=[10],tmin=-0.1, tmax=5.9, preload=True)\\nclassD= np.append(classD,classD3)\\nclassD4 = mne.Epochs(raw[4], events[0], event_id=[10],tmin=-0.1, tmax=5.9, preload=True)\\nclassD= np.append(classD,classD4)\\nclassD5 = mne.Epochs(raw[5], events[0], event_id=[10],tmin=-0.1, tmax=5.9, preload=True)\\nclassD= np.append(classD,classD5)\\nclassD6 = mne.Epochs(raw[6], events[0], event_id=[10],tmin=-0.1, tmax=5.9, preload=True)\\nclassD= np.append(classD,classD6)\\nclassD7 = mne.Epochs(raw[7], events[0], event_id=[10],tmin=-0.1, tmax=5.9, preload=True)\\nclassD= np.append(classD,classD7)'"
      ]
     },
     "execution_count": 15,
     "metadata": {},
     "output_type": "execute_result"
    }
   ],
   "source": [
    "'''classD = mne.Epochs(raw[0], events[0], event_id=[10],tmin=-0.1, tmax=5.9, preload=True)\n",
    "classD1 = mne.Epochs(raw[1], events[0], event_id=[10],tmin=-0.1, tmax=5.9, preload=True)\n",
    "classD= np.append(classD,classD1)\n",
    "classD2 = mne.Epochs(raw[2], events[0], event_id=[10],tmin=-0.1, tmax=5.9, preload=True)\n",
    "classD= np.append(classD,classD2)\n",
    "classD3 = mne.Epochs(raw[3], events[0], event_id=[10],tmin=-0.1, tmax=5.9, preload=True)\n",
    "classD= np.append(classD,classD3)\n",
    "classD4 = mne.Epochs(raw[4], events[0], event_id=[10],tmin=-0.1, tmax=5.9, preload=True)\n",
    "classD= np.append(classD,classD4)\n",
    "classD5 = mne.Epochs(raw[5], events[0], event_id=[10],tmin=-0.1, tmax=5.9, preload=True)\n",
    "classD= np.append(classD,classD5)\n",
    "classD6 = mne.Epochs(raw[6], events[0], event_id=[10],tmin=-0.1, tmax=5.9, preload=True)\n",
    "classD= np.append(classD,classD6)\n",
    "classD7 = mne.Epochs(raw[7], events[0], event_id=[10],tmin=-0.1, tmax=5.9, preload=True)\n",
    "classD= np.append(classD,classD7)'''"
   ]
  },
  {
   "cell_type": "code",
   "execution_count": 16,
   "id": "7807d58c-6797-4f68-8026-ef2a778e9c74",
   "metadata": {},
   "outputs": [
    {
     "data": {
      "text/plain": [
       "numpy.ndarray"
      ]
     },
     "execution_count": 16,
     "metadata": {},
     "output_type": "execute_result"
    }
   ],
   "source": [
    "#printing the shape of the first class(left hand)\n",
    "classA.shape\n",
    "newA=classA.reshape(575,22,1501)\n",
    "#newA.shape\n",
    "type(newA)"
   ]
  },
  {
   "cell_type": "code",
   "execution_count": 17,
   "id": "27f864e6-6a5e-4879-9794-1155625a4483",
   "metadata": {},
   "outputs": [
    {
     "name": "stdout",
     "output_type": "stream",
     "text": [
      "Not setting metadata\n",
      "575 matching events found\n",
      "No baseline correction applied\n",
      "0 projection items activated\n"
     ]
    },
    {
     "data": {
      "text/plain": [
       "(575, 22, 1501)"
      ]
     },
     "execution_count": 17,
     "metadata": {},
     "output_type": "execute_result"
    }
   ],
   "source": [
    "#printing the classA (first class details)\n",
    "A=[0]\n",
    "A=mne.EpochsArray(newA,rawinfo)\n",
    "A.get_data().shape"
   ]
  },
  {
   "cell_type": "code",
   "execution_count": 18,
   "id": "db60a74f-4d28-4c01-be00-023b654da29e",
   "metadata": {},
   "outputs": [
    {
     "data": {
      "text/plain": [
       "numpy.ndarray"
      ]
     },
     "execution_count": 18,
     "metadata": {},
     "output_type": "execute_result"
    }
   ],
   "source": [
    "classB.shape\n",
    "newB=classB.reshape(574,22,1501)\n",
    "#newA.shape\n",
    "type(newB)"
   ]
  },
  {
   "cell_type": "code",
   "execution_count": 19,
   "id": "53547872-d400-4db8-aa40-721c1dd6bdae",
   "metadata": {},
   "outputs": [
    {
     "name": "stdout",
     "output_type": "stream",
     "text": [
      "Not setting metadata\n",
      "574 matching events found\n",
      "No baseline correction applied\n",
      "0 projection items activated\n"
     ]
    },
    {
     "data": {
      "text/html": [
       "<table class=\"table table-hover table-striped table-sm table-responsive small\">\n",
       "    <tr>\n",
       "        <th>Number of events</th>\n",
       "        <td>574</td>\n",
       "    </tr>\n",
       "    <tr>\n",
       "        <th>Events</th>\n",
       "        \n",
       "        <td>1: 574</td>\n",
       "        \n",
       "    </tr>\n",
       "    <tr>\n",
       "        <th>Time range</th>\n",
       "        <td>0.000 – 6.000 sec</td>\n",
       "    </tr>\n",
       "    <tr>\n",
       "        <th>Baseline</th>\n",
       "        <td>off</td>\n",
       "    </tr>\n",
       "</table>"
      ],
      "text/plain": [
       "<EpochsArray |  574 events (all good), 0 - 6 sec, baseline off, ~144.6 MB, data loaded,\n",
       " '1': 574>"
      ]
     },
     "execution_count": 19,
     "metadata": {},
     "output_type": "execute_result"
    }
   ],
   "source": [
    "B=[0]\n",
    "B=mne.EpochsArray(newB,rawinfo)\n",
    "B"
   ]
  },
  {
   "cell_type": "code",
   "execution_count": 20,
   "id": "ac39ef34-7e20-4b77-b690-4079704c9e90",
   "metadata": {},
   "outputs": [
    {
     "data": {
      "text/plain": [
       "'classC.shape\\nnewC=classC.reshape(574,22,1501)\\n#newA.shape\\ntype(newC)'"
      ]
     },
     "execution_count": 20,
     "metadata": {},
     "output_type": "execute_result"
    }
   ],
   "source": [
    "'''classC.shape\n",
    "newC=classC.reshape(574,22,1501)\n",
    "#newA.shape\n",
    "type(newC)'''"
   ]
  },
  {
   "cell_type": "code",
   "execution_count": 21,
   "id": "263072b4-8e00-4492-8242-a8e7845ecb9d",
   "metadata": {},
   "outputs": [
    {
     "data": {
      "text/plain": [
       "'C=[0]\\nC=mne.EpochsArray(newC,rawinfo)\\nC'"
      ]
     },
     "execution_count": 21,
     "metadata": {},
     "output_type": "execute_result"
    }
   ],
   "source": [
    "'''C=[0]\n",
    "C=mne.EpochsArray(newC,rawinfo)\n",
    "C'''"
   ]
  },
  {
   "cell_type": "code",
   "execution_count": 22,
   "id": "ba5737bf-80bf-4077-9b22-234a30b33645",
   "metadata": {},
   "outputs": [
    {
     "data": {
      "text/plain": [
       "'classD.shape\\nnewD=classD.reshape(573,22,1501)\\n#newA.shape\\ntype(newD)'"
      ]
     },
     "execution_count": 22,
     "metadata": {},
     "output_type": "execute_result"
    }
   ],
   "source": [
    "'''classD.shape\n",
    "newD=classD.reshape(573,22,1501)\n",
    "#newA.shape\n",
    "type(newD)'''"
   ]
  },
  {
   "cell_type": "code",
   "execution_count": 23,
   "id": "55b49f4a-8c62-4b84-80a9-56d6c7ecea49",
   "metadata": {},
   "outputs": [
    {
     "data": {
      "text/plain": [
       "'D=[0]\\nD=mne.EpochsArray(newD,rawinfo)\\nD'"
      ]
     },
     "execution_count": 23,
     "metadata": {},
     "output_type": "execute_result"
    }
   ],
   "source": [
    "'''D=[0]\n",
    "D=mne.EpochsArray(newD,rawinfo)\n",
    "D'''"
   ]
  },
  {
   "cell_type": "code",
   "execution_count": 24,
   "id": "b17910d6-e58d-4c6b-9360-935f0fa073ac",
   "metadata": {},
   "outputs": [
    {
     "data": {
      "text/html": [
       "<table class=\"table table-hover table-striped table-sm table-responsive small\">\n",
       "    <tr>\n",
       "        <th>Number of events</th>\n",
       "        <td>575</td>\n",
       "    </tr>\n",
       "    <tr>\n",
       "        <th>Events</th>\n",
       "        \n",
       "        <td>1: 575</td>\n",
       "        \n",
       "    </tr>\n",
       "    <tr>\n",
       "        <th>Time range</th>\n",
       "        <td>0.000 – 6.000 sec</td>\n",
       "    </tr>\n",
       "    <tr>\n",
       "        <th>Baseline</th>\n",
       "        <td>off</td>\n",
       "    </tr>\n",
       "</table>"
      ],
      "text/plain": [
       "<EpochsArray |  575 events (all good), 0 - 6 sec, baseline off, ~144.9 MB, data loaded,\n",
       " '1': 575>"
      ]
     },
     "execution_count": 24,
     "metadata": {},
     "output_type": "execute_result"
    }
   ],
   "source": [
    "A"
   ]
  },
  {
   "cell_type": "code",
   "execution_count": 25,
   "id": "ed8ad072-3418-4c11-874c-e7ffa69bb46c",
   "metadata": {},
   "outputs": [
    {
     "data": {
      "text/html": [
       "<table class=\"table table-hover table-striped table-sm table-responsive small\">\n",
       "    <tr>\n",
       "        <th>Number of events</th>\n",
       "        <td>574</td>\n",
       "    </tr>\n",
       "    <tr>\n",
       "        <th>Events</th>\n",
       "        \n",
       "        <td>1: 574</td>\n",
       "        \n",
       "    </tr>\n",
       "    <tr>\n",
       "        <th>Time range</th>\n",
       "        <td>0.000 – 6.000 sec</td>\n",
       "    </tr>\n",
       "    <tr>\n",
       "        <th>Baseline</th>\n",
       "        <td>off</td>\n",
       "    </tr>\n",
       "</table>"
      ],
      "text/plain": [
       "<EpochsArray |  574 events (all good), 0 - 6 sec, baseline off, ~144.6 MB, data loaded,\n",
       " '1': 574>"
      ]
     },
     "execution_count": 25,
     "metadata": {},
     "output_type": "execute_result"
    }
   ],
   "source": [
    "#similarly printing classB\n",
    "B"
   ]
  },
  {
   "cell_type": "code",
   "execution_count": 26,
   "id": "4c7ee06b-4866-4bbc-9875-8cd8cdff87e6",
   "metadata": {},
   "outputs": [],
   "source": [
    "#similarly printing classC\n",
    "#C"
   ]
  },
  {
   "cell_type": "code",
   "execution_count": 27,
   "id": "0aa0b4ae-ca36-4f14-a97a-bfae8d079ca9",
   "metadata": {},
   "outputs": [],
   "source": [
    "#similarly printing classB\n",
    "#D"
   ]
  },
  {
   "cell_type": "code",
   "execution_count": 28,
   "id": "a582801a-7f9a-4b2c-9760-c577db6c82a6",
   "metadata": {},
   "outputs": [
    {
     "data": {
      "text/plain": [
       "\"def read_data(path):\\n  #raw=mne.io.read_raw_gdf(path,preload=True,eog=['EOG-left', 'EOG-central', 'EOG-right'])\\n  #raw.drop_channels(['EOG-left', 'EOG-central', 'EOG-right'])\\n  p.set_eeg_reference()\\n  events=mne.events_from_annotations(p)\\n  epochs = mne.Epochs(p, events[0], event_id=[7,8,9,10],on_missing ='warn') \\n#(on_missing is used for A04T.gdf data as it has missing eog data)\\n  labels=epochs.events[:,-1]\\n  features=epochs.get_data()\\n  return features,labels\""
      ]
     },
     "execution_count": 28,
     "metadata": {},
     "output_type": "execute_result"
    }
   ],
   "source": [
    "#creating a function for getting epochs,labels(same we have done as previous) (this function work on whole data file)\n",
    "'''def read_data(path):\n",
    "  #raw=mne.io.read_raw_gdf(path,preload=True,eog=['EOG-left', 'EOG-central', 'EOG-right'])\n",
    "  #raw.drop_channels(['EOG-left', 'EOG-central', 'EOG-right'])\n",
    "  p.set_eeg_reference()\n",
    "  events=mne.events_from_annotations(p)\n",
    "  epochs = mne.Epochs(p, events[0], event_id=[7,8,9,10],on_missing ='warn') \n",
    "#(on_missing is used for A04T.gdf data as it has missing eog data)\n",
    "  labels=epochs.events[:,-1]\n",
    "  features=epochs.get_data()\n",
    "  return features,labels'''"
   ]
  },
  {
   "cell_type": "code",
   "execution_count": 29,
   "id": "45144b26-ca8b-4aa4-8be5-1e10738dab01",
   "metadata": {},
   "outputs": [],
   "source": [
    "#reading the file and accessing the previous read_data function\n",
    "#features,labels=read_data(raw)"
   ]
  },
  {
   "cell_type": "code",
   "execution_count": 30,
   "id": "dc6f98e1-ab75-4a07-9bd4-b9c43b73976d",
   "metadata": {},
   "outputs": [],
   "source": [
    "#building the bandpass filter function\n",
    "def butter_bandpass_filter(signal, lowcut, highcut, fs, order=5):\n",
    "    nyq = 0.5 * fs\n",
    "    low = lowcut/nyq\n",
    "    high = highcut/nyq\n",
    "    b,a = butter(order, [low, high], btype='band')\n",
    "    y = lfilter(b, a, signal, axis=-1)\n",
    "    \n",
    "    return y"
   ]
  },
  {
   "cell_type": "code",
   "execution_count": 31,
   "id": "f9b79dc5-e69b-494b-bc53-99136dae6dd0",
   "metadata": {},
   "outputs": [],
   "source": [
    "#delta bandpass filter from class A\n",
    "def read_da(path):\n",
    "    fs = 250\n",
    "    lowcut = 0.5\n",
    "    highcut = 3.99\n",
    "    delta= butter_bandpass_filter(A, lowcut, highcut, fs, order=5)\n",
    "    \n",
    "    #datax=mne.io.read_raw_gdf(path,preload=True, eog=['EOG-left', 'EOG-central', 'EOG-right'])\n",
    "    #datax.drop_channels(['EOG-left', 'EOG-central', 'EOG-right'])\n",
    "    #classA = mne.Epochs(datax, events[0], event_id=[7],tmin=-0.1, tmax=1.15, preload=True)\n",
    "    '''classA.set_eeg_reference()\n",
    "    classA.filter(l_freq=0.5,h_freq=4)\n",
    "    chs=mne.make_fixed_length_epochs(classA,duration=25,overlap=0)\n",
    "    chs=chs.get_data()'''\n",
    "    return delta\n",
    "\n",
    "\n"
   ]
  },
  {
   "cell_type": "code",
   "execution_count": 32,
   "id": "6da4e29f-7034-4b4f-bb56-4ecb0058d269",
   "metadata": {},
   "outputs": [
    {
     "name": "stdout",
     "output_type": "stream",
     "text": [
      "(575, 22, 1501)\n"
     ]
    }
   ],
   "source": [
    "#getting the shape of the delta for classA\n",
    "deltaA=[0]\n",
    "deltaA=read_da(A)\n",
    "print(deltaA.shape)"
   ]
  },
  {
   "cell_type": "code",
   "execution_count": 33,
   "id": "dcc3f10e-431e-40b7-8ee9-7c44d100397e",
   "metadata": {},
   "outputs": [
    {
     "data": {
      "text/plain": [
       "(22, 1501)"
      ]
     },
     "execution_count": 33,
     "metadata": {},
     "output_type": "execute_result"
    }
   ],
   "source": [
    "deltaA[0].shape"
   ]
  },
  {
   "cell_type": "code",
   "execution_count": 34,
   "id": "4315aa22-d3d4-4b2b-b34e-743d6a69b33b",
   "metadata": {},
   "outputs": [],
   "source": [
    "#delta bandpass filter from class B\n",
    "def read_db(path):\n",
    "    fs = 250\n",
    "    lowcut = 0.5\n",
    "    highcut = 3.99\n",
    "    delta= butter_bandpass_filter(B, lowcut, highcut, fs, order=5)\n",
    "    \n",
    "    #datax=mne.io.read_raw_gdf(path,preload=True, eog=['EOG-left', 'EOG-central', 'EOG-right'])\n",
    "    #datax.drop_channels(['EOG-left', 'EOG-central', 'EOG-right'])\n",
    "    #classA = mne.Epochs(datax, events[0], event_id=[7],tmin=-0.1, tmax=1.15, preload=True)\n",
    "    '''classA.set_eeg_reference()\n",
    "    classA.filter(l_freq=0.5,h_freq=4)\n",
    "    chs=mne.make_fixed_length_epochs(classA,duration=25,overlap=0)\n",
    "    chs=chs.get_data()'''\n",
    "    return delta"
   ]
  },
  {
   "cell_type": "code",
   "execution_count": 35,
   "id": "84125aba-e8b2-4164-af42-3890cba02435",
   "metadata": {},
   "outputs": [
    {
     "name": "stdout",
     "output_type": "stream",
     "text": [
      "(574, 22, 1501)\n"
     ]
    }
   ],
   "source": [
    "#getting the shape of the delta for classB\n",
    "deltaB=[0] \n",
    "deltaB=read_db(B)\n",
    "print(deltaB.shape)"
   ]
  },
  {
   "cell_type": "code",
   "execution_count": 36,
   "id": "bf04e740-f697-47e2-a125-eccc29f8eb83",
   "metadata": {},
   "outputs": [
    {
     "data": {
      "text/plain": [
       "(22, 1501)"
      ]
     },
     "execution_count": 36,
     "metadata": {},
     "output_type": "execute_result"
    }
   ],
   "source": [
    "deltaB[0].shape"
   ]
  },
  {
   "cell_type": "code",
   "execution_count": 37,
   "id": "ba77ef76-a487-4006-a1a2-8cdb9a869594",
   "metadata": {},
   "outputs": [
    {
     "data": {
      "text/plain": [
       "'def read_dc(path):\\n    fs = 250\\n    lowcut = 0.5\\n    highcut = 3.99\\n    delta= butter_bandpass_filter(C, lowcut, highcut, fs, order=5)\\n    \\n    \\n    return delta'"
      ]
     },
     "execution_count": 37,
     "metadata": {},
     "output_type": "execute_result"
    }
   ],
   "source": [
    "#delta bandpass filter from class C\n",
    "'''def read_dc(path):\n",
    "    fs = 250\n",
    "    lowcut = 0.5\n",
    "    highcut = 3.99\n",
    "    delta= butter_bandpass_filter(C, lowcut, highcut, fs, order=5)\n",
    "    \n",
    "    \n",
    "    return delta'''"
   ]
  },
  {
   "cell_type": "code",
   "execution_count": 38,
   "id": "23897825-fe17-41bf-acaa-65a04628715e",
   "metadata": {},
   "outputs": [
    {
     "data": {
      "text/plain": [
       "'deltaC=[0]\\ndeltaC=read_dc(C)\\nprint(deltaC.shape)'"
      ]
     },
     "execution_count": 38,
     "metadata": {},
     "output_type": "execute_result"
    }
   ],
   "source": [
    "\n",
    "#getting the shape of the delta for classC\n",
    "'''deltaC=[0]\n",
    "deltaC=read_dc(C)\n",
    "print(deltaC.shape)'''"
   ]
  },
  {
   "cell_type": "code",
   "execution_count": 39,
   "id": "36c70b3c-f16a-4743-8a14-fd9bda2a3e43",
   "metadata": {},
   "outputs": [],
   "source": [
    "#deltaC"
   ]
  },
  {
   "cell_type": "code",
   "execution_count": 40,
   "id": "edea69b2-9844-4731-8dbd-dacc53a51554",
   "metadata": {},
   "outputs": [
    {
     "data": {
      "text/plain": [
       "'def read_dd(path):\\n    fs = 250\\n    lowcut = 0.5\\n    highcut = 3.99\\n    delta= butter_bandpass_filter(D, lowcut, highcut, fs, order=5)\\n    \\n    \\n    return delta'"
      ]
     },
     "execution_count": 40,
     "metadata": {},
     "output_type": "execute_result"
    }
   ],
   "source": [
    "#delta bandpass filter from class D\n",
    "'''def read_dd(path):\n",
    "    fs = 250\n",
    "    lowcut = 0.5\n",
    "    highcut = 3.99\n",
    "    delta= butter_bandpass_filter(D, lowcut, highcut, fs, order=5)\n",
    "    \n",
    "    \n",
    "    return delta'''"
   ]
  },
  {
   "cell_type": "code",
   "execution_count": 41,
   "id": "4ea60b1d-f047-4a9d-8b46-b8a89184a522",
   "metadata": {},
   "outputs": [
    {
     "data": {
      "text/plain": [
       "'deltaD=[0]\\ndeltaD=read_dd(D)\\nprint(deltaD.shape)'"
      ]
     },
     "execution_count": 41,
     "metadata": {},
     "output_type": "execute_result"
    }
   ],
   "source": [
    "#getting the shape of the delta for classD\n",
    "'''deltaD=[0]\n",
    "deltaD=read_dd(D)\n",
    "print(deltaD.shape)'''"
   ]
  },
  {
   "cell_type": "code",
   "execution_count": 42,
   "id": "f529ec02-f9f9-4183-9a6d-6bf8161592e6",
   "metadata": {},
   "outputs": [],
   "source": [
    "#theta bandpass filter from class A\n",
    "def read_de(path):\n",
    "    fs = 250\n",
    "    lowcut = 4\n",
    "    highcut = 7.99\n",
    "    theta= butter_bandpass_filter(A, lowcut, highcut, fs, order=5)\n",
    "    #datax=mne.io.read_raw_gdf(path,preload=True, eog=['EOG-left', 'EOG-central', 'EOG-right'])\n",
    "    #datax.drop_channels(['EOG-left', 'EOG-central', 'EOG-right'])\n",
    "    #datax.set_eeg_reference()\n",
    "    #datax.filter(l_freq=4,h_freq=8)\n",
    "    #chs=mne.make_fixed_length_epochs(y,duration=1.25,overlap=0)\n",
    "    #chs=chs.get_data()\n",
    "    return theta"
   ]
  },
  {
   "cell_type": "code",
   "execution_count": 43,
   "id": "cd7e4278-89a3-417e-9ca3-50c68359dcf0",
   "metadata": {},
   "outputs": [
    {
     "name": "stdout",
     "output_type": "stream",
     "text": [
      "(575, 22, 1501)\n"
     ]
    }
   ],
   "source": [
    "#getting the shape of the theta for class A\n",
    "thetaA=[0]\n",
    "thetaA=read_de(A)\n",
    "print(thetaA.shape)"
   ]
  },
  {
   "cell_type": "code",
   "execution_count": 44,
   "id": "d59c1dd3-d75a-444e-9812-1b899c3ea913",
   "metadata": {},
   "outputs": [],
   "source": [
    "#Theta bandpass filter from class B\n",
    "def read_df(path):\n",
    "    fs = 250\n",
    "    lowcut = 4\n",
    "    highcut = 7.99\n",
    "    theta= butter_bandpass_filter(B, lowcut, highcut, fs, order=5)\n",
    "    #datax=mne.io.read_raw_gdf(path,preload=True, eog=['EOG-left', 'EOG-central', 'EOG-right'])\n",
    "    #datax.drop_channels(['EOG-left', 'EOG-central', 'EOG-right'])\n",
    "    #datax.set_eeg_reference()\n",
    "    #datax.filter(l_freq=4,h_freq=8)\n",
    "    #chs=mne.make_fixed_length_epochs(y,duration=1.25,overlap=0)\n",
    "    #chs=chs.get_data()\n",
    "    return theta"
   ]
  },
  {
   "cell_type": "code",
   "execution_count": 45,
   "id": "99adf8c1-2a32-4a78-a5ff-042719c66059",
   "metadata": {},
   "outputs": [
    {
     "name": "stdout",
     "output_type": "stream",
     "text": [
      "(574, 22, 1501)\n"
     ]
    }
   ],
   "source": [
    "#getting the shape of the theta for class B\n",
    "thetaB=[0]\n",
    "thetaB=read_df(B)\n",
    "print(thetaB.shape)"
   ]
  },
  {
   "cell_type": "code",
   "execution_count": 46,
   "id": "26ba94f6-23c2-49b6-83cf-bfafebc829ca",
   "metadata": {},
   "outputs": [
    {
     "data": {
      "text/plain": [
       "\"def read_dg(path):\\n    fs = 250\\n    lowcut = 4\\n    highcut = 7.99\\n    theta= butter_bandpass_filter(C, lowcut, highcut, fs, order=5)\\n    #datax=mne.io.read_raw_gdf(path,preload=True, eog=['EOG-left', 'EOG-central', 'EOG-right'])\\n    #datax.drop_channels(['EOG-left', 'EOG-central', 'EOG-right'])\\n    #datax.set_eeg_reference()\\n    #datax.filter(l_freq=4,h_freq=8)\\n    #chs=mne.make_fixed_length_epochs(y,duration=1.25,overlap=0)\\n    #chs=chs.get_data()\\n    return theta\""
      ]
     },
     "execution_count": 46,
     "metadata": {},
     "output_type": "execute_result"
    }
   ],
   "source": [
    "#Theta bandpass filter from class C\n",
    "'''def read_dg(path):\n",
    "    fs = 250\n",
    "    lowcut = 4\n",
    "    highcut = 7.99\n",
    "    theta= butter_bandpass_filter(C, lowcut, highcut, fs, order=5)\n",
    "    #datax=mne.io.read_raw_gdf(path,preload=True, eog=['EOG-left', 'EOG-central', 'EOG-right'])\n",
    "    #datax.drop_channels(['EOG-left', 'EOG-central', 'EOG-right'])\n",
    "    #datax.set_eeg_reference()\n",
    "    #datax.filter(l_freq=4,h_freq=8)\n",
    "    #chs=mne.make_fixed_length_epochs(y,duration=1.25,overlap=0)\n",
    "    #chs=chs.get_data()\n",
    "    return theta'''"
   ]
  },
  {
   "cell_type": "code",
   "execution_count": 47,
   "id": "43874ad3-0e09-4ffb-b4a9-35d701b2ba5d",
   "metadata": {},
   "outputs": [
    {
     "data": {
      "text/plain": [
       "'thetaC=[0]\\nthetaC=read_dg(C)\\nprint(thetaC.shape)'"
      ]
     },
     "execution_count": 47,
     "metadata": {},
     "output_type": "execute_result"
    }
   ],
   "source": [
    "#getting the shape of the theta for class C\n",
    "'''thetaC=[0]\n",
    "thetaC=read_dg(C)\n",
    "print(thetaC.shape)'''"
   ]
  },
  {
   "cell_type": "code",
   "execution_count": 48,
   "id": "7a07436f-fbf5-4b25-9ffd-80f1384aff59",
   "metadata": {},
   "outputs": [],
   "source": [
    "#print(deltaC)"
   ]
  },
  {
   "cell_type": "code",
   "execution_count": 49,
   "id": "534dec2d-7162-4106-83e3-7766ec76bbb3",
   "metadata": {},
   "outputs": [
    {
     "data": {
      "text/plain": [
       "\"def read_dh(path):\\n    fs = 250\\n    lowcut = 4\\n    highcut = 7.99\\n    theta= butter_bandpass_filter(D, lowcut, highcut, fs, order=5)\\n    #datax=mne.io.read_raw_gdf(path,preload=True, eog=['EOG-left', 'EOG-central', 'EOG-right'])\\n    #datax.drop_channels(['EOG-left', 'EOG-central', 'EOG-right'])\\n    #datax.set_eeg_reference()\\n    #datax.filter(l_freq=4,h_freq=8)\\n    #chs=mne.make_fixed_length_epochs(y,duration=1.25,overlap=0)\\n    #chs=chs.get_data()\\n    return theta\""
      ]
     },
     "execution_count": 49,
     "metadata": {},
     "output_type": "execute_result"
    }
   ],
   "source": [
    "#Theta bandpass filter from class D\n",
    "'''def read_dh(path):\n",
    "    fs = 250\n",
    "    lowcut = 4\n",
    "    highcut = 7.99\n",
    "    theta= butter_bandpass_filter(D, lowcut, highcut, fs, order=5)\n",
    "    #datax=mne.io.read_raw_gdf(path,preload=True, eog=['EOG-left', 'EOG-central', 'EOG-right'])\n",
    "    #datax.drop_channels(['EOG-left', 'EOG-central', 'EOG-right'])\n",
    "    #datax.set_eeg_reference()\n",
    "    #datax.filter(l_freq=4,h_freq=8)\n",
    "    #chs=mne.make_fixed_length_epochs(y,duration=1.25,overlap=0)\n",
    "    #chs=chs.get_data()\n",
    "    return theta'''"
   ]
  },
  {
   "cell_type": "code",
   "execution_count": 50,
   "id": "4920fae9-61ce-4f73-a6c7-a37921abcb02",
   "metadata": {},
   "outputs": [
    {
     "data": {
      "text/plain": [
       "'thetaD=[0]\\nthetaD=read_dh(D)\\nprint(thetaD.shape)'"
      ]
     },
     "execution_count": 50,
     "metadata": {},
     "output_type": "execute_result"
    }
   ],
   "source": [
    "#getting the shape of the theta for class D\n",
    "'''thetaD=[0]\n",
    "thetaD=read_dh(D)\n",
    "print(thetaD.shape)'''"
   ]
  },
  {
   "cell_type": "code",
   "execution_count": 51,
   "id": "7750c171-9dd3-4591-85ff-89f164b91194",
   "metadata": {},
   "outputs": [],
   "source": [
    "#Alpha bandpass filter from class A\n",
    "def read_di(path):\n",
    "    fs = 250\n",
    "    lowcut = 8.01\n",
    "    highcut = 11.99\n",
    "    alpha= butter_bandpass_filter(A, lowcut, highcut, fs, order=5)\n",
    "    \n",
    "    '''datax=mne.io.read_raw_gdf(path,preload=True, eog=['EOG-left', 'EOG-central', 'EOG-right'])\n",
    "    datax.drop_channels(['EOG-left', 'EOG-central', 'EOG-right'])\n",
    "    datax.set_eeg_reference()\n",
    "    datax.filter(l_freq=8,h_freq=12)\n",
    "    chs=mne.make_fixed_length_epochs(datax,duration=1.25,overlap=0)\n",
    "    chs=chs.get_data()'''\n",
    "    return alpha"
   ]
  },
  {
   "cell_type": "code",
   "execution_count": 52,
   "id": "ab12c7e8-4f47-4220-a531-d71b5f234b72",
   "metadata": {},
   "outputs": [
    {
     "name": "stdout",
     "output_type": "stream",
     "text": [
      "(575, 22, 1501)\n"
     ]
    }
   ],
   "source": [
    "#getting the shape of the alpha for class A\n",
    "alphaA=[0]\n",
    "alphaA=read_di(A)\n",
    "print(alphaA.shape)"
   ]
  },
  {
   "cell_type": "code",
   "execution_count": 53,
   "id": "27677d26-5b21-4a39-a77f-e24aeaa6c25b",
   "metadata": {},
   "outputs": [],
   "source": [
    "#Alpha bandpass filter from class B\n",
    "def read_dj(path):\n",
    "    fs = 250\n",
    "    lowcut = 8.01\n",
    "    highcut = 11.99\n",
    "    alpha= butter_bandpass_filter(B, lowcut, highcut, fs, order=5)\n",
    "    \n",
    "    '''datax=mne.io.read_raw_gdf(path,preload=True, eog=['EOG-left', 'EOG-central', 'EOG-right'])\n",
    "    datax.drop_channels(['EOG-left', 'EOG-central', 'EOG-right'])\n",
    "    datax.set_eeg_reference()\n",
    "    datax.filter(l_freq=8,h_freq=12)\n",
    "    chs=mne.make_fixed_length_epochs(datax,duration=1.25,overlap=0)\n",
    "    chs=chs.get_data()'''\n",
    "    return alpha"
   ]
  },
  {
   "cell_type": "code",
   "execution_count": 54,
   "id": "69431ec5-79db-4309-b889-52254781acbf",
   "metadata": {},
   "outputs": [
    {
     "name": "stdout",
     "output_type": "stream",
     "text": [
      "(574, 22, 1501)\n"
     ]
    }
   ],
   "source": [
    "#getting the shape of the alpha of class B\n",
    "alphaB=[0]\n",
    "alphaB=read_dj(B)\n",
    "print(alphaB.shape)"
   ]
  },
  {
   "cell_type": "code",
   "execution_count": 55,
   "id": "956dbcab-2960-437a-a64f-848409b96dbc",
   "metadata": {},
   "outputs": [
    {
     "data": {
      "text/plain": [
       "'def read_dk(path):\\n    fs = 250\\n    lowcut = 8.01\\n    highcut = 11.99\\n    alpha= butter_bandpass_filter(C, lowcut, highcut, fs, order=5)\\n    \\n    \\n    return alpha'"
      ]
     },
     "execution_count": 55,
     "metadata": {},
     "output_type": "execute_result"
    }
   ],
   "source": [
    "#Alpha bandpass filter from class C\n",
    "'''def read_dk(path):\n",
    "    fs = 250\n",
    "    lowcut = 8.01\n",
    "    highcut = 11.99\n",
    "    alpha= butter_bandpass_filter(C, lowcut, highcut, fs, order=5)\n",
    "    \n",
    "    \n",
    "    return alpha'''"
   ]
  },
  {
   "cell_type": "code",
   "execution_count": 56,
   "id": "591c9747-ee90-4f6e-8ae5-eb431fbaf59d",
   "metadata": {},
   "outputs": [
    {
     "data": {
      "text/plain": [
       "'alphaC=[0]\\nalphaC=read_dk(C)\\nprint(alphaC.shape)'"
      ]
     },
     "execution_count": 56,
     "metadata": {},
     "output_type": "execute_result"
    }
   ],
   "source": [
    "#getting the shape of the alpha of class C\n",
    "'''alphaC=[0]\n",
    "alphaC=read_dk(C)\n",
    "print(alphaC.shape)'''"
   ]
  },
  {
   "cell_type": "code",
   "execution_count": 57,
   "id": "58372c0d-cf6a-46c7-8303-fe879465f043",
   "metadata": {},
   "outputs": [],
   "source": [
    "#print(alphaC)"
   ]
  },
  {
   "cell_type": "code",
   "execution_count": 58,
   "id": "4eae6f8d-b640-4664-871f-f1c469972a52",
   "metadata": {},
   "outputs": [
    {
     "data": {
      "text/plain": [
       "'def read_dl(path):\\n    fs = 250\\n    lowcut = 8.01\\n    highcut = 11.99\\n    alpha= butter_bandpass_filter(D, lowcut, highcut, fs, order=5)\\n    \\n   \\n    return alpha'"
      ]
     },
     "execution_count": 58,
     "metadata": {},
     "output_type": "execute_result"
    }
   ],
   "source": [
    "#Alpha bandpass filter from class D\n",
    "'''def read_dl(path):\n",
    "    fs = 250\n",
    "    lowcut = 8.01\n",
    "    highcut = 11.99\n",
    "    alpha= butter_bandpass_filter(D, lowcut, highcut, fs, order=5)\n",
    "    \n",
    "   \n",
    "    return alpha'''"
   ]
  },
  {
   "cell_type": "code",
   "execution_count": 59,
   "id": "c7fa9285-a889-4762-a23f-6cc17e930a92",
   "metadata": {},
   "outputs": [
    {
     "data": {
      "text/plain": [
       "'alphaD=[0]\\nalphaD=read_dl(D)\\nprint(alphaD.shape)'"
      ]
     },
     "execution_count": 59,
     "metadata": {},
     "output_type": "execute_result"
    }
   ],
   "source": [
    "#getting the shape of the alpha of class D\n",
    "'''alphaD=[0]\n",
    "alphaD=read_dl(D)\n",
    "print(alphaD.shape)'''"
   ]
  },
  {
   "cell_type": "code",
   "execution_count": 60,
   "id": "ad06eebc-8ee7-4485-83d2-03297c153b38",
   "metadata": {},
   "outputs": [],
   "source": [
    "#Beta bandpass filter from class A\n",
    "def read_dm(path):\n",
    "    fs = 250\n",
    "    lowcut = 12.01\n",
    "    highcut = 29.99\n",
    "    beta= butter_bandpass_filter(A, lowcut, highcut, fs, order=5)\n",
    "    \n",
    "    #datax=mne.io.read_raw_gdf(path,preload=True, eog=['EOG-left', 'EOG-central', 'EOG-right'])\n",
    "    '''datax.drop_channels(['EOG-left', 'EOG-central', 'EOG-right'])\n",
    "    datax.set_eeg_reference()\n",
    "    datax.filter(l_freq=12,h_freq=30)\n",
    "    chs=mne.make_fixed_length_epochs(datax,duration=1.25,overlap=0)\n",
    "    chs=chs.get_data()'''\n",
    "    return beta"
   ]
  },
  {
   "cell_type": "code",
   "execution_count": 61,
   "id": "c7d14ea2-4477-4e6a-b4cf-94366d9b755a",
   "metadata": {},
   "outputs": [
    {
     "name": "stdout",
     "output_type": "stream",
     "text": [
      "(575, 22, 1501)\n"
     ]
    }
   ],
   "source": [
    "#getting the shape of the beta of class A\n",
    "betaA=[0]\n",
    "betaA=read_dm(A)\n",
    "print(betaA.shape)"
   ]
  },
  {
   "cell_type": "code",
   "execution_count": 62,
   "id": "c5781b19-fa74-45f0-8003-da90b9f6e5e1",
   "metadata": {},
   "outputs": [],
   "source": [
    "#Beta bandpass filter from class B\n",
    "def read_dn(path):\n",
    "    fs = 250\n",
    "    lowcut = 12.01\n",
    "    highcut = 29.99\n",
    "    beta= butter_bandpass_filter(B, lowcut, highcut, fs, order=5)\n",
    "    \n",
    "    #datax=mne.io.read_raw_gdf(path,preload=True, eog=['EOG-left', 'EOG-central', 'EOG-right'])\n",
    "    '''datax.drop_channels(['EOG-left', 'EOG-central', 'EOG-right'])\n",
    "    datax.set_eeg_reference()\n",
    "    datax.filter(l_freq=12,h_freq=30)\n",
    "    chs=mne.make_fixed_length_epochs(datax,duration=1.25,overlap=0)\n",
    "    chs=chs.get_data()'''\n",
    "    return beta"
   ]
  },
  {
   "cell_type": "code",
   "execution_count": 63,
   "id": "2456071e-0598-4661-88d3-78aa9d04ff1d",
   "metadata": {},
   "outputs": [
    {
     "name": "stdout",
     "output_type": "stream",
     "text": [
      "(574, 22, 1501)\n"
     ]
    }
   ],
   "source": [
    "#getting the shape of the beta of class B\n",
    "betaB=[0]\n",
    "betaB=read_dn(B)\n",
    "print(betaB.shape)"
   ]
  },
  {
   "cell_type": "code",
   "execution_count": 64,
   "id": "fce79ae2-2707-425a-87da-72f9e1d6213b",
   "metadata": {},
   "outputs": [
    {
     "data": {
      "text/plain": [
       "'def read_do(path):\\n    fs = 250\\n    lowcut = 12.01\\n    highcut = 29.99\\n    beta= butter_bandpass_filter(C, lowcut, highcut, fs, order=5)\\n    \\n   \\n    return beta'"
      ]
     },
     "execution_count": 64,
     "metadata": {},
     "output_type": "execute_result"
    }
   ],
   "source": [
    "#Beta bandpass filter from class C\n",
    "'''def read_do(path):\n",
    "    fs = 250\n",
    "    lowcut = 12.01\n",
    "    highcut = 29.99\n",
    "    beta= butter_bandpass_filter(C, lowcut, highcut, fs, order=5)\n",
    "    \n",
    "   \n",
    "    return beta'''"
   ]
  },
  {
   "cell_type": "code",
   "execution_count": 65,
   "id": "648293c0-4d78-4388-baac-eb9e0c21d8f2",
   "metadata": {},
   "outputs": [
    {
     "data": {
      "text/plain": [
       "'betaC=[0]\\nbetaC=read_do(C)\\nprint(betaC.shape)'"
      ]
     },
     "execution_count": 65,
     "metadata": {},
     "output_type": "execute_result"
    }
   ],
   "source": [
    "#getting the shape of the beta of class C\n",
    "'''betaC=[0]\n",
    "betaC=read_do(C)\n",
    "print(betaC.shape)'''"
   ]
  },
  {
   "cell_type": "code",
   "execution_count": 66,
   "id": "c4e86d88-a6bf-4cf1-81ec-5b612a6e2150",
   "metadata": {},
   "outputs": [],
   "source": [
    "#print(betaC)"
   ]
  },
  {
   "cell_type": "code",
   "execution_count": 67,
   "id": "7ac73eac-a6ea-4e17-ba27-6be9a78c56c4",
   "metadata": {},
   "outputs": [
    {
     "data": {
      "text/plain": [
       "'def read_dp(path):\\n    fs = 250\\n    lowcut = 12.01\\n    highcut = 29.99\\n    beta= butter_bandpass_filter(D, lowcut, highcut, fs, order=5)\\n    \\n    \\n    return beta'"
      ]
     },
     "execution_count": 67,
     "metadata": {},
     "output_type": "execute_result"
    }
   ],
   "source": [
    "#Beta bandpass filter from class D\n",
    "'''def read_dp(path):\n",
    "    fs = 250\n",
    "    lowcut = 12.01\n",
    "    highcut = 29.99\n",
    "    beta= butter_bandpass_filter(D, lowcut, highcut, fs, order=5)\n",
    "    \n",
    "    \n",
    "    return beta'''"
   ]
  },
  {
   "cell_type": "code",
   "execution_count": 68,
   "id": "2b4b4644-8dd7-488d-aeba-b6e6daad8d77",
   "metadata": {},
   "outputs": [
    {
     "data": {
      "text/plain": [
       "'betaD=[0]\\nbetaD=read_dp(D)\\nprint(betaD.shape)'"
      ]
     },
     "execution_count": 68,
     "metadata": {},
     "output_type": "execute_result"
    }
   ],
   "source": [
    "#getting the shape of the beta of class D\n",
    "'''betaD=[0]\n",
    "betaD=read_dp(D)\n",
    "print(betaD.shape)'''"
   ]
  },
  {
   "cell_type": "code",
   "execution_count": 69,
   "id": "eea15774-293d-4ded-8db1-d29afd42d376",
   "metadata": {},
   "outputs": [],
   "source": [
    "#Gamma bandpass filter from class A\n",
    "def read_dq(path):\n",
    "    fs = 250\n",
    "    lowcut = 30.01\n",
    "    highcut = 100\n",
    "    gamma= butter_bandpass_filter(A, lowcut, highcut, fs, order=5)\n",
    "    \n",
    "    \n",
    "    return gamma"
   ]
  },
  {
   "cell_type": "code",
   "execution_count": 70,
   "id": "9a9600cb-8b0f-4c76-82a6-4f8ff33404f9",
   "metadata": {},
   "outputs": [
    {
     "name": "stdout",
     "output_type": "stream",
     "text": [
      "(575, 22, 1501)\n"
     ]
    }
   ],
   "source": [
    "#getting the shape of the gamma of class A\n",
    "gammaA=[0]\n",
    "gammaA=read_dq(A)\n",
    "print(gammaA.shape)"
   ]
  },
  {
   "cell_type": "code",
   "execution_count": 71,
   "id": "f4d1fe89-0d64-416f-836d-992fd6a6bf0d",
   "metadata": {},
   "outputs": [],
   "source": [
    "#Gamma bandpass filter from class B\n",
    "def read_dr(path):\n",
    "    fs = 250\n",
    "    lowcut = 30.01\n",
    "    highcut = 100\n",
    "    gamma= butter_bandpass_filter(B, lowcut, highcut, fs, order=5)\n",
    "    \n",
    "    '''datax=mne.io.read_raw_gdf(path,preload=True, eog=['EOG-left', 'EOG-central', 'EOG-right'])\n",
    "    datax.drop_channels(['EOG-left', 'EOG-central', 'EOG-right'])\n",
    "    datax.set_eeg_reference()\n",
    "    datax.filter(l_freq=30,h_freq=100)\n",
    "    chs=mne.make_fixed_length_epochs(datax,duration=1.25,overlap=0)\n",
    "    chs=chs.get_data()'''\n",
    "    return gamma"
   ]
  },
  {
   "cell_type": "code",
   "execution_count": 72,
   "id": "9e7c32c9-be35-453c-9daf-74803452e5c1",
   "metadata": {},
   "outputs": [
    {
     "name": "stdout",
     "output_type": "stream",
     "text": [
      "(574, 22, 1501)\n"
     ]
    }
   ],
   "source": [
    "#getting the shape of the gamma of class B\n",
    "gammaB=[0]\n",
    "gammaB=read_dr(B)\n",
    "print(gammaB.shape)"
   ]
  },
  {
   "cell_type": "code",
   "execution_count": 73,
   "id": "d2b59117-e881-41c2-b2d5-f930978fa207",
   "metadata": {},
   "outputs": [
    {
     "data": {
      "text/plain": [
       "'def read_ds(path):\\n    fs = 250\\n    lowcut = 30.01\\n    highcut = 100\\n    gamma= butter_bandpass_filter(C, lowcut, highcut, fs, order=5)\\n    \\n    \\n    \\n    return gamma'"
      ]
     },
     "execution_count": 73,
     "metadata": {},
     "output_type": "execute_result"
    }
   ],
   "source": [
    "#Gamma bandpass filter from class C\n",
    "'''def read_ds(path):\n",
    "    fs = 250\n",
    "    lowcut = 30.01\n",
    "    highcut = 100\n",
    "    gamma= butter_bandpass_filter(C, lowcut, highcut, fs, order=5)\n",
    "    \n",
    "    \n",
    "    \n",
    "    return gamma'''"
   ]
  },
  {
   "cell_type": "code",
   "execution_count": 74,
   "id": "5aa4a5ca-05fa-48d8-b450-82277f3c0299",
   "metadata": {},
   "outputs": [
    {
     "data": {
      "text/plain": [
       "'gammaC=[0]\\ngammaC=read_ds(C)\\nprint(gammaC.shape)'"
      ]
     },
     "execution_count": 74,
     "metadata": {},
     "output_type": "execute_result"
    }
   ],
   "source": [
    "#getting the shape of the gamma of class C\n",
    "'''gammaC=[0]\n",
    "gammaC=read_ds(C)\n",
    "print(gammaC.shape)'''"
   ]
  },
  {
   "cell_type": "code",
   "execution_count": 75,
   "id": "44bb3f7a-7b48-4fdd-a342-80088ae9b038",
   "metadata": {},
   "outputs": [
    {
     "data": {
      "text/plain": [
       "'def read_dt(path):\\n    fs = 250\\n    lowcut = 30.01\\n    highcut = 100\\n    gamma= butter_bandpass_filter(D, lowcut, highcut, fs, order=5)\\n    \\n    \\n    \\n    return gamma'"
      ]
     },
     "execution_count": 75,
     "metadata": {},
     "output_type": "execute_result"
    }
   ],
   "source": [
    "#Gamma bandpass filter from class D\n",
    "'''def read_dt(path):\n",
    "    fs = 250\n",
    "    lowcut = 30.01\n",
    "    highcut = 100\n",
    "    gamma= butter_bandpass_filter(D, lowcut, highcut, fs, order=5)\n",
    "    \n",
    "    \n",
    "    \n",
    "    return gamma'''"
   ]
  },
  {
   "cell_type": "code",
   "execution_count": 76,
   "id": "b9044bfb-b321-45ff-a3d3-f23b1ad3c3ad",
   "metadata": {},
   "outputs": [
    {
     "data": {
      "text/plain": [
       "'gammaD=[0]\\ngammaD=read_dt(D)\\nprint(gammaD.shape)'"
      ]
     },
     "execution_count": 76,
     "metadata": {},
     "output_type": "execute_result"
    }
   ],
   "source": [
    "#getting the shape of the gamma of class D\n",
    "'''gammaD=[0]\n",
    "gammaD=read_dt(D)\n",
    "print(gammaD.shape)'''"
   ]
  },
  {
   "cell_type": "code",
   "execution_count": 77,
   "id": "5baaf048-8f6a-49d2-b990-dfc5e915d25f",
   "metadata": {},
   "outputs": [
    {
     "data": {
      "text/plain": [
       "(22, 1501)"
      ]
     },
     "execution_count": 77,
     "metadata": {},
     "output_type": "execute_result"
    }
   ],
   "source": [
    "deltaB[1].shape"
   ]
  },
  {
   "cell_type": "code",
   "execution_count": 78,
   "id": "b2cc5aaf-e793-4c57-b5aa-64e2af51e68d",
   "metadata": {},
   "outputs": [
    {
     "data": {
      "text/plain": [
       "(575, 22, 1501)"
      ]
     },
     "execution_count": 78,
     "metadata": {},
     "output_type": "execute_result"
    }
   ],
   "source": [
    "gammaA.shape"
   ]
  },
  {
   "cell_type": "code",
   "execution_count": 79,
   "id": "cad8ae33-ca38-4cd9-ae47-bb000e165b9f",
   "metadata": {},
   "outputs": [],
   "source": [
    "def hjorth_params(signal):\n",
    "    first_diff = np.diff(signal)\n",
    "    second_diff = np.diff(first_diff)\n",
    "    \n",
    "    activity = np.var(signal)\n",
    "    mobility = np.sqrt(np.var(first_diff) / np.var(signal))\n",
    "    complexity = np.sqrt(np.var(second_diff) / np.var(first_diff)) / mobility\n",
    "    \n",
    "    return activity, mobility, complexity"
   ]
  },
  {
   "cell_type": "code",
   "execution_count": 80,
   "id": "33d28d3b-0f7d-4545-80f7-41c3eae17268",
   "metadata": {},
   "outputs": [],
   "source": [
    "#alldata=deltaA+deltaB+deltaC+deltaD\n",
    "#len(alldata)\n",
    "allA=[deltaA,thetaA,alphaA,betaA,gammaA]\n",
    "allB=[deltaB,thetaB,alphaB,betaB,gammaB]\n",
    "#allC=[deltaC,thetaC,alphaC,betaC,gammaC]\n",
    "#allD=[deltaD,thetaD,alphaD,betaD,gammaD]\n",
    "#deltaB,thetaB,alphaB,betaB,gammaB,deltaC,thetaC,alphaC,betaC,gammaC,deltaD,thetaD,alphaD,betaD,gammaD]"
   ]
  },
  {
   "cell_type": "code",
   "execution_count": 81,
   "id": "b0e69b43-8b39-4c5d-b2be-8a5e6a574ab7",
   "metadata": {},
   "outputs": [
    {
     "data": {
      "text/plain": [
       "(5, 575, 22, 1501)"
      ]
     },
     "execution_count": 81,
     "metadata": {},
     "output_type": "execute_result"
    }
   ],
   "source": [
    "fullA = np.array(allA)\n",
    "fullA.shape\n",
    "#x=np.append(deltaA,thetaA)\n",
    "#x.shape"
   ]
  },
  {
   "cell_type": "code",
   "execution_count": 82,
   "id": "3e6e4127-181b-4b43-b901-84bb4a5a0bbd",
   "metadata": {},
   "outputs": [
    {
     "data": {
      "text/plain": [
       "(5, 574, 22, 1501)"
      ]
     },
     "execution_count": 82,
     "metadata": {},
     "output_type": "execute_result"
    }
   ],
   "source": [
    "fullB = np.array(allB)\n",
    "fullB.shape"
   ]
  },
  {
   "cell_type": "code",
   "execution_count": 83,
   "id": "6d6b0aaf-eda7-472e-ae06-346b71b0bf44",
   "metadata": {},
   "outputs": [
    {
     "data": {
      "text/plain": [
       "'fullC = np.array(allC)\\nfullC.shape'"
      ]
     },
     "execution_count": 83,
     "metadata": {},
     "output_type": "execute_result"
    }
   ],
   "source": [
    "'''fullC = np.array(allC)\n",
    "fullC.shape'''"
   ]
  },
  {
   "cell_type": "code",
   "execution_count": 84,
   "id": "ab23027e-9a99-4392-b707-af090cd56e85",
   "metadata": {},
   "outputs": [
    {
     "data": {
      "text/plain": [
       "'fullD = np.array(allD)\\nfullD.shape'"
      ]
     },
     "execution_count": 84,
     "metadata": {},
     "output_type": "execute_result"
    }
   ],
   "source": [
    "'''fullD = np.array(allD)\n",
    "fullD.shape'''"
   ]
  },
  {
   "cell_type": "code",
   "execution_count": 85,
   "id": "ee203a58-531b-48f9-9e70-10d4c180f325",
   "metadata": {},
   "outputs": [
    {
     "data": {
      "text/plain": [
       "(189711390,)"
      ]
     },
     "execution_count": 85,
     "metadata": {},
     "output_type": "execute_result"
    }
   ],
   "source": [
    "x=np.append(fullA,fullB)\n",
    "x.shape"
   ]
  },
  {
   "cell_type": "code",
   "execution_count": 86,
   "id": "ece8cd00-f409-48ba-990f-62fe8bbf796e",
   "metadata": {},
   "outputs": [
    {
     "data": {
      "text/plain": [
       "'y=np.append(x,fullC)\\ny'"
      ]
     },
     "execution_count": 86,
     "metadata": {},
     "output_type": "execute_result"
    }
   ],
   "source": [
    "'''y=np.append(x,fullC)\n",
    "y'''"
   ]
  },
  {
   "cell_type": "code",
   "execution_count": 87,
   "id": "f98ded6b-5aaf-46ee-a90b-af8a67f94bfc",
   "metadata": {},
   "outputs": [
    {
     "data": {
      "text/plain": [
       "'z=np.append(y,fullD)\\nz.shape'"
      ]
     },
     "execution_count": 87,
     "metadata": {},
     "output_type": "execute_result"
    }
   ],
   "source": [
    "'''z=np.append(y,fullD)\n",
    "z.shape'''\n",
    "#type(z)"
   ]
  },
  {
   "cell_type": "code",
   "execution_count": 88,
   "id": "984e5602-6414-49a5-a50d-ece757f955a1",
   "metadata": {},
   "outputs": [
    {
     "data": {
      "text/plain": [
       "numpy.ndarray"
      ]
     },
     "execution_count": 88,
     "metadata": {},
     "output_type": "execute_result"
    }
   ],
   "source": [
    "TotalData=x.reshape(5745,22,1501)\n",
    "#newD=classD.reshape(573,22,1501)\n",
    "type(TotalData)"
   ]
  },
  {
   "cell_type": "code",
   "execution_count": 89,
   "id": "a4f939dd-b00c-4aca-835b-b081bcd514ea",
   "metadata": {},
   "outputs": [],
   "source": [
    "xp=np.empty(5745,dtype=int)"
   ]
  },
  {
   "cell_type": "code",
   "execution_count": 90,
   "id": "65cd1436-b03c-4df6-b933-3b6ba6424d96",
   "metadata": {},
   "outputs": [
    {
     "data": {
      "text/plain": [
       "(5745,)"
      ]
     },
     "execution_count": 90,
     "metadata": {},
     "output_type": "execute_result"
    }
   ],
   "source": [
    "xp.shape"
   ]
  },
  {
   "cell_type": "code",
   "execution_count": 91,
   "id": "f467bdf9-20e6-449a-ac47-7df7529a4b0d",
   "metadata": {},
   "outputs": [
    {
     "data": {
      "text/plain": [
       "array([7, 7, 7, ..., 8, 8, 8])"
      ]
     },
     "execution_count": 91,
     "metadata": {},
     "output_type": "execute_result"
    }
   ],
   "source": [
    "for i in range(0,2875):\n",
    "    xp[i]=7\n",
    "for i in range(2875,5745):\n",
    "    xp[i]=8\n",
    "\n",
    "xp"
   ]
  },
  {
   "cell_type": "code",
   "execution_count": 92,
   "id": "144c5ef7-46b5-4d69-96c9-9c60ff2855ae",
   "metadata": {},
   "outputs": [],
   "source": [
    "from sklearn.model_selection import train_test_split"
   ]
  },
  {
   "cell_type": "code",
   "execution_count": 93,
   "id": "622606dd-c0bd-4e25-a094-4325a184bdb6",
   "metadata": {},
   "outputs": [
    {
     "data": {
      "text/plain": [
       "8"
      ]
     },
     "execution_count": 93,
     "metadata": {},
     "output_type": "execute_result"
    }
   ],
   "source": [
    "x_train,x_test,y_train,y_test=train_test_split(TotalData,xp,test_size=0.2,random_state=0)\n",
    "y_test[3]"
   ]
  },
  {
   "cell_type": "code",
   "execution_count": 94,
   "id": "917ddfe1-c1a1-486c-8242-23dcb5728afa",
   "metadata": {},
   "outputs": [
    {
     "data": {
      "text/plain": [
       "(4596, 22, 1501)"
      ]
     },
     "execution_count": 94,
     "metadata": {},
     "output_type": "execute_result"
    }
   ],
   "source": [
    "x_train.shape"
   ]
  },
  {
   "cell_type": "code",
   "execution_count": 95,
   "id": "97f8af7f-b3f9-49a3-bab8-1e39dfba568e",
   "metadata": {},
   "outputs": [
    {
     "data": {
      "text/plain": [
       "(4596, 33022)"
      ]
     },
     "execution_count": 95,
     "metadata": {},
     "output_type": "execute_result"
    }
   ],
   "source": [
    "x_train_n=x_train.reshape(4596,33022)\n",
    "x_train_n.shape"
   ]
  },
  {
   "cell_type": "code",
   "execution_count": 96,
   "id": "56ad9d12-4190-4ae7-ad4c-e7d460d59631",
   "metadata": {},
   "outputs": [],
   "source": [
    "#from sklearn.svm import SVC\n",
    "#classifier= SVC(kernel='linear', random_state=0)\n",
    "#classifier.fit(x_train_n,y_train)"
   ]
  },
  {
   "cell_type": "code",
   "execution_count": 97,
   "id": "f1eb6cf2-63aa-48b5-8602-2aa43b972c25",
   "metadata": {},
   "outputs": [],
   "source": [
    "#from sklearn.naive_bayes import GaussianNB\n",
    "#classnb=GaussianNB()\n",
    "#classnb.fit(x_train_n,y_train)"
   ]
  },
  {
   "cell_type": "code",
   "execution_count": 98,
   "id": "2eaca5eb-6145-4923-abd3-918f10e3eed9",
   "metadata": {},
   "outputs": [],
   "source": [
    "#classnb.fit(x_train_n,y_train)"
   ]
  },
  {
   "cell_type": "code",
   "execution_count": 99,
   "id": "04ff57fe-c744-4a57-9065-80dcfe3e1fbf",
   "metadata": {},
   "outputs": [],
   "source": [
    "#from sklearn.svm import SVC\n",
    "#classifier_kernel= SVC(kernel='rbf', random_state=0)\n",
    "#classifier_kernel.fit(x_train_n,y_train)"
   ]
  },
  {
   "cell_type": "code",
   "execution_count": 100,
   "id": "cd6da013-1c83-4b8c-a483-d57210a90e74",
   "metadata": {},
   "outputs": [],
   "source": [
    "#from sklearn.tree import DecisionTreeClassifier\n",
    "#classifier_tree=DecisionTreeClassifier(criterion='entropy',random_state=0)\n",
    "#classifier_tree.fit(x_train_n,y_train)"
   ]
  },
  {
   "cell_type": "code",
   "execution_count": 101,
   "id": "a6ebffe7-fafa-4889-9af1-164ed54ed29e",
   "metadata": {},
   "outputs": [],
   "source": [
    "#from sklearn.ensemble import RandomForestClassifier\n",
    "#classifier_forest=RandomForestClassifier(n_estimators=125,criterion='entropy',random_state=0)\n",
    "#classifier_forest.fit(x_train_n,y_train)"
   ]
  },
  {
   "cell_type": "code",
   "execution_count": 102,
   "id": "c0123e33-f5e2-4572-9687-3127eb8d158b",
   "metadata": {},
   "outputs": [
    {
     "data": {
      "text/plain": [
       "(1149, 22, 1501)"
      ]
     },
     "execution_count": 102,
     "metadata": {},
     "output_type": "execute_result"
    }
   ],
   "source": [
    "x_test.shape"
   ]
  },
  {
   "cell_type": "code",
   "execution_count": 103,
   "id": "ef69bcd8-6eee-48b6-8a1e-fbc3add2cd8e",
   "metadata": {},
   "outputs": [
    {
     "data": {
      "text/html": [
       "<style>#sk-container-id-1 {color: black;background-color: white;}#sk-container-id-1 pre{padding: 0;}#sk-container-id-1 div.sk-toggleable {background-color: white;}#sk-container-id-1 label.sk-toggleable__label {cursor: pointer;display: block;width: 100%;margin-bottom: 0;padding: 0.3em;box-sizing: border-box;text-align: center;}#sk-container-id-1 label.sk-toggleable__label-arrow:before {content: \"▸\";float: left;margin-right: 0.25em;color: #696969;}#sk-container-id-1 label.sk-toggleable__label-arrow:hover:before {color: black;}#sk-container-id-1 div.sk-estimator:hover label.sk-toggleable__label-arrow:before {color: black;}#sk-container-id-1 div.sk-toggleable__content {max-height: 0;max-width: 0;overflow: hidden;text-align: left;background-color: #f0f8ff;}#sk-container-id-1 div.sk-toggleable__content pre {margin: 0.2em;color: black;border-radius: 0.25em;background-color: #f0f8ff;}#sk-container-id-1 input.sk-toggleable__control:checked~div.sk-toggleable__content {max-height: 200px;max-width: 100%;overflow: auto;}#sk-container-id-1 input.sk-toggleable__control:checked~label.sk-toggleable__label-arrow:before {content: \"▾\";}#sk-container-id-1 div.sk-estimator input.sk-toggleable__control:checked~label.sk-toggleable__label {background-color: #d4ebff;}#sk-container-id-1 div.sk-label input.sk-toggleable__control:checked~label.sk-toggleable__label {background-color: #d4ebff;}#sk-container-id-1 input.sk-hidden--visually {border: 0;clip: rect(1px 1px 1px 1px);clip: rect(1px, 1px, 1px, 1px);height: 1px;margin: -1px;overflow: hidden;padding: 0;position: absolute;width: 1px;}#sk-container-id-1 div.sk-estimator {font-family: monospace;background-color: #f0f8ff;border: 1px dotted black;border-radius: 0.25em;box-sizing: border-box;margin-bottom: 0.5em;}#sk-container-id-1 div.sk-estimator:hover {background-color: #d4ebff;}#sk-container-id-1 div.sk-parallel-item::after {content: \"\";width: 100%;border-bottom: 1px solid gray;flex-grow: 1;}#sk-container-id-1 div.sk-label:hover label.sk-toggleable__label {background-color: #d4ebff;}#sk-container-id-1 div.sk-serial::before {content: \"\";position: absolute;border-left: 1px solid gray;box-sizing: border-box;top: 0;bottom: 0;left: 50%;z-index: 0;}#sk-container-id-1 div.sk-serial {display: flex;flex-direction: column;align-items: center;background-color: white;padding-right: 0.2em;padding-left: 0.2em;position: relative;}#sk-container-id-1 div.sk-item {position: relative;z-index: 1;}#sk-container-id-1 div.sk-parallel {display: flex;align-items: stretch;justify-content: center;background-color: white;position: relative;}#sk-container-id-1 div.sk-item::before, #sk-container-id-1 div.sk-parallel-item::before {content: \"\";position: absolute;border-left: 1px solid gray;box-sizing: border-box;top: 0;bottom: 0;left: 50%;z-index: -1;}#sk-container-id-1 div.sk-parallel-item {display: flex;flex-direction: column;z-index: 1;position: relative;background-color: white;}#sk-container-id-1 div.sk-parallel-item:first-child::after {align-self: flex-end;width: 50%;}#sk-container-id-1 div.sk-parallel-item:last-child::after {align-self: flex-start;width: 50%;}#sk-container-id-1 div.sk-parallel-item:only-child::after {width: 0;}#sk-container-id-1 div.sk-dashed-wrapped {border: 1px dashed gray;margin: 0 0.4em 0.5em 0.4em;box-sizing: border-box;padding-bottom: 0.4em;background-color: white;}#sk-container-id-1 div.sk-label label {font-family: monospace;font-weight: bold;display: inline-block;line-height: 1.2em;}#sk-container-id-1 div.sk-label-container {text-align: center;}#sk-container-id-1 div.sk-container {/* jupyter's `normalize.less` sets `[hidden] { display: none; }` but bootstrap.min.css set `[hidden] { display: none !important; }` so we also need the `!important` here to be able to override the default hidden behavior on the sphinx rendered scikit-learn.org. See: https://github.com/scikit-learn/scikit-learn/issues/21755 */display: inline-block !important;position: relative;}#sk-container-id-1 div.sk-text-repr-fallback {display: none;}</style><div id=\"sk-container-id-1\" class=\"sk-top-container\"><div class=\"sk-text-repr-fallback\"><pre>KNeighborsClassifier()</pre><b>In a Jupyter environment, please rerun this cell to show the HTML representation or trust the notebook. <br />On GitHub, the HTML representation is unable to render, please try loading this page with nbviewer.org.</b></div><div class=\"sk-container\" hidden><div class=\"sk-item\"><div class=\"sk-estimator sk-toggleable\"><input class=\"sk-toggleable__control sk-hidden--visually\" id=\"sk-estimator-id-1\" type=\"checkbox\" checked><label for=\"sk-estimator-id-1\" class=\"sk-toggleable__label sk-toggleable__label-arrow\">KNeighborsClassifier</label><div class=\"sk-toggleable__content\"><pre>KNeighborsClassifier()</pre></div></div></div></div></div>"
      ],
      "text/plain": [
       "KNeighborsClassifier()"
      ]
     },
     "execution_count": 103,
     "metadata": {},
     "output_type": "execute_result"
    }
   ],
   "source": [
    "from sklearn.neighbors import KNeighborsClassifier \n",
    "classknn=KNeighborsClassifier(n_neighbors=5,metric='minkowski',p=2)\n",
    "classknn.fit(x_train_n,y_train)"
   ]
  },
  {
   "cell_type": "code",
   "execution_count": 104,
   "id": "2ee1f7f0-591f-407b-a736-9bbaa82557f9",
   "metadata": {},
   "outputs": [],
   "source": [
    "#import tensorflow as tf\n",
    "#ann=tf.keras.models.Sequential()"
   ]
  },
  {
   "cell_type": "code",
   "execution_count": 105,
   "id": "151df168-dc9a-4937-8822-9de1b8e6ef5a",
   "metadata": {},
   "outputs": [],
   "source": [
    "#ann.add(tf.keras.layers.Dense(units=6, activation='relu'))"
   ]
  },
  {
   "cell_type": "code",
   "execution_count": 106,
   "id": "ed2416ae-6087-478a-908d-992fcacdec0d",
   "metadata": {},
   "outputs": [],
   "source": [
    "#ann.add(tf.keras.layers.Dense(units=1, activation='sigmoid'))"
   ]
  },
  {
   "cell_type": "code",
   "execution_count": 107,
   "id": "0cb1114f-3206-4cb7-834a-0aa4ecee9650",
   "metadata": {},
   "outputs": [],
   "source": [
    "#ann.compile(optimizer='adam', loss='binary_crossentropy',metrics=['accuracy'])"
   ]
  },
  {
   "cell_type": "code",
   "execution_count": 108,
   "id": "8c3da6ca-f539-444d-bed3-eda0b4165a4a",
   "metadata": {},
   "outputs": [],
   "source": [
    "#ann.fit(x_train_n,y_train,batch_size=32, epochs=100)"
   ]
  },
  {
   "cell_type": "code",
   "execution_count": 109,
   "id": "1d12c7a3-4150-49cf-ab40-1686c1b050f1",
   "metadata": {},
   "outputs": [],
   "source": [
    "#cnn=tf.keras.models.Sequential()"
   ]
  },
  {
   "cell_type": "code",
   "execution_count": 110,
   "id": "b30282d2-5b24-4cdf-a77d-544ab1e3090e",
   "metadata": {},
   "outputs": [],
   "source": [
    "#cnn.add(tf.keras.layers.Conv2D(filters=32,kernel_size=3, activation='relu',input_shape=[64,64,3]))"
   ]
  },
  {
   "cell_type": "code",
   "execution_count": 111,
   "id": "37ea8a29-0b29-4b74-a562-14fc0aa4b9e4",
   "metadata": {},
   "outputs": [],
   "source": [
    "#cnn.add(tf.keras.layers.MaxPool2D(pool_size=2, strides=2))"
   ]
  },
  {
   "cell_type": "code",
   "execution_count": 112,
   "id": "67328367-63e7-4ccb-9907-64002623f490",
   "metadata": {},
   "outputs": [],
   "source": [
    "#cnn.add(tf.keras.layers.Conv2D(filters=32,kernel_size=3, activation='relu'))"
   ]
  },
  {
   "cell_type": "code",
   "execution_count": 113,
   "id": "420b36dd-e2b9-41c7-a4c8-1c76ef6a3591",
   "metadata": {},
   "outputs": [],
   "source": [
    "#cnn.add(tf.keras.layers.MaxPool2D(pool_size=2, strides=2))"
   ]
  },
  {
   "cell_type": "code",
   "execution_count": 114,
   "id": "ea7ba9c8-1c57-4ae0-9538-fe1e5dd1338f",
   "metadata": {},
   "outputs": [],
   "source": [
    "#cnn.add(tf.keras.layers.Flatten())"
   ]
  },
  {
   "cell_type": "code",
   "execution_count": 115,
   "id": "9b9354d6-9186-445f-891b-ace1402b7b9d",
   "metadata": {},
   "outputs": [],
   "source": [
    "#cnn.add(tf.keras.layers.Dense(units=128, activation='relu'))"
   ]
  },
  {
   "cell_type": "code",
   "execution_count": 116,
   "id": "f623a181-e1de-443e-9afa-7d353841c3bb",
   "metadata": {},
   "outputs": [],
   "source": [
    "#cnn.add(tf.keras.layers.Dense(units=1,activation='sigmoid'))"
   ]
  },
  {
   "cell_type": "code",
   "execution_count": 117,
   "id": "5c5dd711-2cce-49f5-b3c5-a6e4d9eb5f19",
   "metadata": {},
   "outputs": [],
   "source": [
    "#cnn.compile(optimizer='adam', loss='binary_crossentropy',metrics=['accuracy'])"
   ]
  },
  {
   "cell_type": "code",
   "execution_count": 118,
   "id": "6224c754-78b7-4527-b916-f5a712648936",
   "metadata": {},
   "outputs": [],
   "source": [
    "#from keras.preprocessing.image import ImageDataGenerator\n",
    "#train_datagen= ImageDataGenerator(rescale=1./255, shear_range=0.2, zoom_range=0.2, horizontal_flip=True)"
   ]
  },
  {
   "cell_type": "code",
   "execution_count": 119,
   "id": "da43899e-e753-4568-b9f0-390a02c26e47",
   "metadata": {},
   "outputs": [],
   "source": [
    "#training_set=train_datagen.flow_from_directory(x_train_n, target_size=(64,64),batch_size=32,class_mode='binary')"
   ]
  },
  {
   "cell_type": "code",
   "execution_count": 120,
   "id": "6ee2e900-90ad-43b1-9637-9160b39c7230",
   "metadata": {},
   "outputs": [],
   "source": [
    "#test_datagen=ImageDataGenerator(rescale=1./255)"
   ]
  },
  {
   "cell_type": "code",
   "execution_count": 121,
   "id": "80ff3337-45a7-4dca-96ee-0400c3e0d913",
   "metadata": {},
   "outputs": [],
   "source": [
    "#test_set= test_datagen.flow_from_directory(x_test_n,target_size=(64,64),batch_size=32,class_mode='binary')"
   ]
  },
  {
   "cell_type": "code",
   "execution_count": 122,
   "id": "64ea0ee6-3b57-4100-8f7e-6c162d27d6fc",
   "metadata": {},
   "outputs": [],
   "source": [
    "#cnn.fit(x=training_set,validation_data=test_set,epochs=25)"
   ]
  },
  {
   "cell_type": "code",
   "execution_count": 123,
   "id": "611169fa-a313-4e0a-898c-18100df5936c",
   "metadata": {},
   "outputs": [
    {
     "data": {
      "text/plain": [
       "(1149,)"
      ]
     },
     "execution_count": 123,
     "metadata": {},
     "output_type": "execute_result"
    }
   ],
   "source": [
    "y_test.shape"
   ]
  },
  {
   "cell_type": "code",
   "execution_count": 124,
   "id": "b1875bae-28db-42e1-ae6b-7c2e54125e60",
   "metadata": {},
   "outputs": [],
   "source": [
    "x_test_n=x_test.reshape(1149,33022)\n",
    "y_test_n=y_test.reshape(1149)"
   ]
  },
  {
   "cell_type": "code",
   "execution_count": 125,
   "id": "2d73ecf0-121e-40b2-838e-b824176f890e",
   "metadata": {},
   "outputs": [
    {
     "data": {
      "text/plain": [
       "(1149, 33022)"
      ]
     },
     "execution_count": 125,
     "metadata": {},
     "output_type": "execute_result"
    }
   ],
   "source": [
    "x_test_n.shape"
   ]
  },
  {
   "cell_type": "code",
   "execution_count": 126,
   "id": "eb5a300e-8adb-4bc2-b62d-ecf1185718b4",
   "metadata": {},
   "outputs": [
    {
     "name": "stdout",
     "output_type": "stream",
     "text": [
      "[[8 8]\n",
      " [8 8]\n",
      " [7 8]\n",
      " ...\n",
      " [8 7]\n",
      " [8 7]\n",
      " [7 7]]\n"
     ]
    }
   ],
   "source": [
    "y_pred=classknn.predict(x_test_n)\n",
    "y_pred.shape\n",
    "#y_pred=classifier.predict(y_test_n)\n",
    "print(np.concatenate((y_pred.reshape(len(y_pred),1),y_test.reshape(len(y_test_n),1)),1))\n"
   ]
  },
  {
   "cell_type": "code",
   "execution_count": 127,
   "id": "a2ae046a-5453-485b-8190-7120c51b7336",
   "metadata": {},
   "outputs": [
    {
     "name": "stdout",
     "output_type": "stream",
     "text": [
      "[[361 198]\n",
      " [379 211]]\n"
     ]
    },
    {
     "data": {
      "text/plain": [
       "0.4978241949521323"
      ]
     },
     "execution_count": 127,
     "metadata": {},
     "output_type": "execute_result"
    }
   ],
   "source": [
    "from sklearn.metrics import confusion_matrix, accuracy_score\n",
    "cm= confusion_matrix(y_test_n, y_pred)\n",
    "print(cm)\n",
    "accuracy_score(y_test_n,y_pred)\n"
   ]
  },
  {
   "cell_type": "code",
   "execution_count": null,
   "id": "8cf65d2a-f0ce-4de1-817f-77ff8cdcc19d",
   "metadata": {},
   "outputs": [],
   "source": []
  }
 ],
 "metadata": {
  "kernelspec": {
   "display_name": "Python 3 (ipykernel)",
   "language": "python",
   "name": "python3"
  },
  "language_info": {
   "codemirror_mode": {
    "name": "ipython",
    "version": 3
   },
   "file_extension": ".py",
   "mimetype": "text/x-python",
   "name": "python",
   "nbconvert_exporter": "python",
   "pygments_lexer": "ipython3",
   "version": "3.11.0"
  }
 },
 "nbformat": 4,
 "nbformat_minor": 5
}
